{
 "cells": [
  {
   "cell_type": "markdown",
   "metadata": {},
   "source": [
    "# Pack de portefeuille\n",
    "\n",
    "Sur un article de [Medium](https://medium.com/sfu-cspmp/predicting-stable-portfolios-using-machine-learning-f2e27d6dbbec), ils ont proposés de sélectionner des packets de titres qui sont peu corrélés entre-eux.\n",
    "\n",
    "Nous allons nous en inspier, pour construire des pack de titres peu corrélés. De ces packs, on va générer des portefeuilles (environ 10.000).\n",
    "\n",
    "Dans un premer temps nous allons récupérer des packs de titres peu corrélés, puis s'ne servire pour générer les portefeuilles."
   ]
  },
  {
   "cell_type": "code",
   "execution_count": 1,
   "metadata": {
    "ExecuteTime": {
     "end_time": "2020-04-10T06:29:29.575061Z",
     "start_time": "2020-04-10T06:29:27.516530Z"
    }
   },
   "outputs": [],
   "source": [
    "import pandas as pd\n",
    "import numpy as np\n",
    "import matplotlib.pyplot as plt\n",
    "import matplotlib as mpl\n",
    "import seaborn as sns\n",
    "\n",
    "import itertools\n",
    "import random"
   ]
  },
  {
   "cell_type": "code",
   "execution_count": 2,
   "metadata": {
    "ExecuteTime": {
     "end_time": "2020-04-10T06:29:29.667792Z",
     "start_time": "2020-04-10T06:29:29.577059Z"
    }
   },
   "outputs": [
    {
     "data": {
      "text/html": [
       "<div>\n",
       "<style scoped>\n",
       "    .dataframe tbody tr th:only-of-type {\n",
       "        vertical-align: middle;\n",
       "    }\n",
       "\n",
       "    .dataframe tbody tr th {\n",
       "        vertical-align: top;\n",
       "    }\n",
       "\n",
       "    .dataframe thead th {\n",
       "        text-align: right;\n",
       "    }\n",
       "</style>\n",
       "<table border=\"1\" class=\"dataframe\">\n",
       "  <thead>\n",
       "    <tr style=\"text-align: right;\">\n",
       "      <th></th>\n",
       "      <th>HES US Equity</th>\n",
       "      <th>NEM US Equity</th>\n",
       "      <th>INTC US Equity</th>\n",
       "      <th>IFF US Equity</th>\n",
       "      <th>MOS US Equity</th>\n",
       "      <th>EXC US Equity</th>\n",
       "      <th>KMB US Equity</th>\n",
       "      <th>JNJ US Equity</th>\n",
       "      <th>BAX US Equity</th>\n",
       "      <th>F US Equity</th>\n",
       "      <th>...</th>\n",
       "      <th>IR US Equity</th>\n",
       "      <th>BKR US Equity</th>\n",
       "      <th>WEC US Equity</th>\n",
       "      <th>OXY US Equity</th>\n",
       "      <th>WMB US Equity</th>\n",
       "      <th>UNP US Equity</th>\n",
       "      <th>WM US Equity</th>\n",
       "      <th>CCL US Equity</th>\n",
       "      <th>Date1</th>\n",
       "      <th>Date2</th>\n",
       "    </tr>\n",
       "  </thead>\n",
       "  <tbody>\n",
       "    <tr>\n",
       "      <th>0</th>\n",
       "      <td>-4.479339</td>\n",
       "      <td>-9.406045</td>\n",
       "      <td>-4.901961</td>\n",
       "      <td>-3.330092</td>\n",
       "      <td>-10.413530</td>\n",
       "      <td>-6.650297</td>\n",
       "      <td>-6.780725</td>\n",
       "      <td>-2.406459</td>\n",
       "      <td>-1.857532</td>\n",
       "      <td>8.400000</td>\n",
       "      <td>...</td>\n",
       "      <td>-9.177392</td>\n",
       "      <td>12.218770</td>\n",
       "      <td>-1.786073</td>\n",
       "      <td>-3.700062</td>\n",
       "      <td>-1.138520</td>\n",
       "      <td>-5.320814</td>\n",
       "      <td>-5.205561</td>\n",
       "      <td>5.175134</td>\n",
       "      <td>2009-12-31 00:00:00</td>\n",
       "      <td>2010-01-31 00:00:00</td>\n",
       "    </tr>\n",
       "    <tr>\n",
       "      <th>1</th>\n",
       "      <td>1.747707</td>\n",
       "      <td>14.979000</td>\n",
       "      <td>6.671663</td>\n",
       "      <td>5.883832</td>\n",
       "      <td>9.216614</td>\n",
       "      <td>-3.945733</td>\n",
       "      <td>2.273110</td>\n",
       "      <td>0.992332</td>\n",
       "      <td>-1.146032</td>\n",
       "      <td>8.302583</td>\n",
       "      <td>...</td>\n",
       "      <td>-1.474259</td>\n",
       "      <td>5.830389</td>\n",
       "      <td>-0.212952</td>\n",
       "      <td>1.927495</td>\n",
       "      <td>3.358925</td>\n",
       "      <td>11.804920</td>\n",
       "      <td>3.026521</td>\n",
       "      <td>8.208021</td>\n",
       "      <td>2010-01-31 00:00:00</td>\n",
       "      <td>2010-02-28 00:00:00</td>\n",
       "    </tr>\n",
       "    <tr>\n",
       "      <th>2</th>\n",
       "      <td>6.552083</td>\n",
       "      <td>3.553801</td>\n",
       "      <td>8.572821</td>\n",
       "      <td>13.825790</td>\n",
       "      <td>4.076040</td>\n",
       "      <td>1.177829</td>\n",
       "      <td>4.661590</td>\n",
       "      <td>3.492064</td>\n",
       "      <td>2.732195</td>\n",
       "      <td>7.069847</td>\n",
       "      <td>...</td>\n",
       "      <td>9.276089</td>\n",
       "      <td>-2.253756</td>\n",
       "      <td>2.023539</td>\n",
       "      <td>6.302256</td>\n",
       "      <td>7.761559</td>\n",
       "      <td>8.802137</td>\n",
       "      <td>5.254409</td>\n",
       "      <td>8.120133</td>\n",
       "      <td>2010-02-28 00:00:00</td>\n",
       "      <td>2010-03-31 00:00:00</td>\n",
       "    </tr>\n",
       "    <tr>\n",
       "      <th>3</th>\n",
       "      <td>1.598721</td>\n",
       "      <td>10.111920</td>\n",
       "      <td>2.467474</td>\n",
       "      <td>5.076568</td>\n",
       "      <td>-15.846630</td>\n",
       "      <td>-0.502169</td>\n",
       "      <td>-2.576336</td>\n",
       "      <td>-1.380368</td>\n",
       "      <td>-18.865980</td>\n",
       "      <td>3.579952</td>\n",
       "      <td>...</td>\n",
       "      <td>6.051047</td>\n",
       "      <td>6.233988</td>\n",
       "      <td>6.274034</td>\n",
       "      <td>4.873433</td>\n",
       "      <td>2.207792</td>\n",
       "      <td>3.219645</td>\n",
       "      <td>0.726111</td>\n",
       "      <td>7.253087</td>\n",
       "      <td>2010-03-31 00:00:00</td>\n",
       "      <td>2010-04-30 00:00:00</td>\n",
       "    </tr>\n",
       "    <tr>\n",
       "      <th>4</th>\n",
       "      <td>-16.286390</td>\n",
       "      <td>-4.029957</td>\n",
       "      <td>-5.550986</td>\n",
       "      <td>-11.159910</td>\n",
       "      <td>-9.626484</td>\n",
       "      <td>-10.344880</td>\n",
       "      <td>-0.914137</td>\n",
       "      <td>-8.501832</td>\n",
       "      <td>-10.567560</td>\n",
       "      <td>-9.907834</td>\n",
       "      <td>...</td>\n",
       "      <td>0.892374</td>\n",
       "      <td>-23.101220</td>\n",
       "      <td>-5.965246</td>\n",
       "      <td>-6.936612</td>\n",
       "      <td>-16.349000</td>\n",
       "      <td>-5.146491</td>\n",
       "      <td>-5.353629</td>\n",
       "      <td>-12.882820</td>\n",
       "      <td>2010-04-30 00:00:00</td>\n",
       "      <td>2010-05-31 00:00:00</td>\n",
       "    </tr>\n",
       "  </tbody>\n",
       "</table>\n",
       "<p>5 rows × 50 columns</p>\n",
       "</div>"
      ],
      "text/plain": [
       "   HES US Equity  NEM US Equity  INTC US Equity  IFF US Equity  MOS US Equity  \\\n",
       "0      -4.479339      -9.406045       -4.901961      -3.330092     -10.413530   \n",
       "1       1.747707      14.979000        6.671663       5.883832       9.216614   \n",
       "2       6.552083       3.553801        8.572821      13.825790       4.076040   \n",
       "3       1.598721      10.111920        2.467474       5.076568     -15.846630   \n",
       "4     -16.286390      -4.029957       -5.550986     -11.159910      -9.626484   \n",
       "\n",
       "   EXC US Equity  KMB US Equity  JNJ US Equity  BAX US Equity  F US Equity  \\\n",
       "0      -6.650297      -6.780725      -2.406459      -1.857532     8.400000   \n",
       "1      -3.945733       2.273110       0.992332      -1.146032     8.302583   \n",
       "2       1.177829       4.661590       3.492064       2.732195     7.069847   \n",
       "3      -0.502169      -2.576336      -1.380368     -18.865980     3.579952   \n",
       "4     -10.344880      -0.914137      -8.501832     -10.567560    -9.907834   \n",
       "\n",
       "   ...  IR US Equity  BKR US Equity  WEC US Equity  OXY US Equity  \\\n",
       "0  ...     -9.177392      12.218770      -1.786073      -3.700062   \n",
       "1  ...     -1.474259       5.830389      -0.212952       1.927495   \n",
       "2  ...      9.276089      -2.253756       2.023539       6.302256   \n",
       "3  ...      6.051047       6.233988       6.274034       4.873433   \n",
       "4  ...      0.892374     -23.101220      -5.965246      -6.936612   \n",
       "\n",
       "   WMB US Equity  UNP US Equity  WM US Equity  CCL US Equity  \\\n",
       "0      -1.138520      -5.320814     -5.205561       5.175134   \n",
       "1       3.358925      11.804920      3.026521       8.208021   \n",
       "2       7.761559       8.802137      5.254409       8.120133   \n",
       "3       2.207792       3.219645      0.726111       7.253087   \n",
       "4     -16.349000      -5.146491     -5.353629     -12.882820   \n",
       "\n",
       "                 Date1                Date2  \n",
       "0  2009-12-31 00:00:00  2010-01-31 00:00:00  \n",
       "1  2010-01-31 00:00:00  2010-02-28 00:00:00  \n",
       "2  2010-02-28 00:00:00  2010-03-31 00:00:00  \n",
       "3  2010-03-31 00:00:00  2010-04-30 00:00:00  \n",
       "4  2010-04-30 00:00:00  2010-05-31 00:00:00  \n",
       "\n",
       "[5 rows x 50 columns]"
      ]
     },
     "execution_count": 2,
     "metadata": {},
     "output_type": "execute_result"
    }
   ],
   "source": [
    "data= pd.read_csv(\"../data/return.csv\")\n",
    "data.head()"
   ]
  },
  {
   "cell_type": "code",
   "execution_count": 4,
   "metadata": {
    "ExecuteTime": {
     "end_time": "2020-04-10T06:29:57.541783Z",
     "start_time": "2020-04-10T06:29:57.516848Z"
    }
   },
   "outputs": [
    {
     "data": {
      "text/html": [
       "<div>\n",
       "<style scoped>\n",
       "    .dataframe tbody tr th:only-of-type {\n",
       "        vertical-align: middle;\n",
       "    }\n",
       "\n",
       "    .dataframe tbody tr th {\n",
       "        vertical-align: top;\n",
       "    }\n",
       "\n",
       "    .dataframe thead th {\n",
       "        text-align: right;\n",
       "    }\n",
       "</style>\n",
       "<table border=\"1\" class=\"dataframe\">\n",
       "  <thead>\n",
       "    <tr style=\"text-align: right;\">\n",
       "      <th></th>\n",
       "      <th>Date</th>\n",
       "      <th>Open</th>\n",
       "      <th>High</th>\n",
       "      <th>Low</th>\n",
       "      <th>Close</th>\n",
       "      <th>Adj Close</th>\n",
       "      <th>Volume</th>\n",
       "    </tr>\n",
       "  </thead>\n",
       "  <tbody>\n",
       "    <tr>\n",
       "      <th>0</th>\n",
       "      <td>2009-12-01</td>\n",
       "      <td>1098.890015</td>\n",
       "      <td>1130.380005</td>\n",
       "      <td>1085.890015</td>\n",
       "      <td>1115.099976</td>\n",
       "      <td>1115.099976</td>\n",
       "      <td>89515330000</td>\n",
       "    </tr>\n",
       "    <tr>\n",
       "      <th>1</th>\n",
       "      <td>2010-01-01</td>\n",
       "      <td>1116.560059</td>\n",
       "      <td>1150.449951</td>\n",
       "      <td>1071.589966</td>\n",
       "      <td>1073.869995</td>\n",
       "      <td>1073.869995</td>\n",
       "      <td>90947580000</td>\n",
       "    </tr>\n",
       "    <tr>\n",
       "      <th>2</th>\n",
       "      <td>2010-02-01</td>\n",
       "      <td>1073.890015</td>\n",
       "      <td>1112.420044</td>\n",
       "      <td>1044.500000</td>\n",
       "      <td>1104.489990</td>\n",
       "      <td>1104.489990</td>\n",
       "      <td>84561340000</td>\n",
       "    </tr>\n",
       "    <tr>\n",
       "      <th>3</th>\n",
       "      <td>2010-03-01</td>\n",
       "      <td>1105.359985</td>\n",
       "      <td>1180.689941</td>\n",
       "      <td>1105.359985</td>\n",
       "      <td>1169.430054</td>\n",
       "      <td>1169.430054</td>\n",
       "      <td>103683550000</td>\n",
       "    </tr>\n",
       "    <tr>\n",
       "      <th>4</th>\n",
       "      <td>2010-04-01</td>\n",
       "      <td>1171.229980</td>\n",
       "      <td>1219.800049</td>\n",
       "      <td>1170.689941</td>\n",
       "      <td>1186.689941</td>\n",
       "      <td>1186.689941</td>\n",
       "      <td>116741910000</td>\n",
       "    </tr>\n",
       "  </tbody>\n",
       "</table>\n",
       "</div>"
      ],
      "text/plain": [
       "         Date         Open         High          Low        Close  \\\n",
       "0  2009-12-01  1098.890015  1130.380005  1085.890015  1115.099976   \n",
       "1  2010-01-01  1116.560059  1150.449951  1071.589966  1073.869995   \n",
       "2  2010-02-01  1073.890015  1112.420044  1044.500000  1104.489990   \n",
       "3  2010-03-01  1105.359985  1180.689941  1105.359985  1169.430054   \n",
       "4  2010-04-01  1171.229980  1219.800049  1170.689941  1186.689941   \n",
       "\n",
       "     Adj Close        Volume  \n",
       "0  1115.099976   89515330000  \n",
       "1  1073.869995   90947580000  \n",
       "2  1104.489990   84561340000  \n",
       "3  1169.430054  103683550000  \n",
       "4  1186.689941  116741910000  "
      ]
     },
     "execution_count": 4,
     "metadata": {},
     "output_type": "execute_result"
    }
   ],
   "source": [
    "sp= pd.read_csv(\"../data/sp500.csv\")\n",
    "sp.head()"
   ]
  },
  {
   "cell_type": "code",
   "execution_count": 5,
   "metadata": {
    "ExecuteTime": {
     "end_time": "2020-04-10T06:29:59.323019Z",
     "start_time": "2020-04-10T06:29:59.313083Z"
    }
   },
   "outputs": [],
   "source": [
    "tickers= [i for i in data.columns if i not in [\"Date1\", \"Date2\"]]\n",
    "data_tickers= data[tickers]\n",
    "\n",
    "data_corr= data_tickers.corr()\n",
    "\n",
    "# fig= plt.figure(figsize= (10, 10))\n",
    "# sns.heatmap(data_corr, vmin=-1, vmax=1, center=0\n",
    "#             ,cmap=sns.diverging_palette(20, 220, n=200), square=True)\n",
    "# plt.show()"
   ]
  },
  {
   "cell_type": "code",
   "execution_count": 6,
   "metadata": {
    "ExecuteTime": {
     "end_time": "2020-04-10T06:30:03.327315Z",
     "start_time": "2020-04-10T06:30:03.323286Z"
    }
   },
   "outputs": [],
   "source": [
    "# data_corr.head()"
   ]
  },
  {
   "cell_type": "code",
   "execution_count": 7,
   "metadata": {
    "ExecuteTime": {
     "end_time": "2020-04-10T06:30:06.381398Z",
     "start_time": "2020-04-10T06:30:06.347452Z"
    }
   },
   "outputs": [],
   "source": [
    "mean_corr= data_corr.mean(axis= 0).values\n",
    "mean_corr_seuil= 0.25 - data_corr.mean(axis= 0).values # seuil de 0.5 de corr\n",
    "\n",
    "data_corr2= data_corr - data_corr.mean(axis= 0).values\n",
    "# data_corr2.head()"
   ]
  },
  {
   "cell_type": "code",
   "execution_count": 8,
   "metadata": {
    "ExecuteTime": {
     "end_time": "2020-04-10T06:30:14.153839Z",
     "start_time": "2020-04-10T06:30:14.150848Z"
    }
   },
   "outputs": [],
   "source": [
    "# data_corr2[np.logical_and(data_corr2 < mean_corr, data_corr2 < mean_corr_seuil)]"
   ]
  },
  {
   "cell_type": "code",
   "execution_count": 9,
   "metadata": {
    "ExecuteTime": {
     "end_time": "2020-04-10T06:30:16.055660Z",
     "start_time": "2020-04-10T06:30:16.009747Z"
    }
   },
   "outputs": [],
   "source": [
    "data_corr3= np.logical_and(data_corr2 < mean_corr, data_corr2 < mean_corr_seuil)\n",
    "# data_corr3.head()"
   ]
  },
  {
   "cell_type": "code",
   "execution_count": 10,
   "metadata": {
    "ExecuteTime": {
     "end_time": "2020-04-10T06:30:18.785447Z",
     "start_time": "2020-04-10T06:30:18.756524Z"
    }
   },
   "outputs": [],
   "source": [
    "data_corr5= data_corr3*1\n",
    "# data_corr5.head()"
   ]
  },
  {
   "cell_type": "code",
   "execution_count": 11,
   "metadata": {
    "ExecuteTime": {
     "end_time": "2020-04-10T06:30:21.741885Z",
     "start_time": "2020-04-10T06:30:21.694008Z"
    }
   },
   "outputs": [],
   "source": [
    "data_corr4= data_corr3.apply(lambda x: x * data_corr3.index).replace({\"\":\"0\"})\n",
    "# data_corr4\n",
    "# raisonnement en colonne !!!!!"
   ]
  },
  {
   "cell_type": "code",
   "execution_count": 15,
   "metadata": {
    "ExecuteTime": {
     "end_time": "2020-04-08T13:02:57.630433Z",
     "start_time": "2020-04-08T12:41:07.527298Z"
    }
   },
   "outputs": [],
   "source": [
    "# on génère une liste de titre qui peuvent\n",
    "# qui peuvent intéragir entre eux\n",
    "random.seed(55)\n",
    "\n",
    "num_max_assets= 7 # par portefeuille il y aura au max 5 titres\n",
    "port_per_iter= 200 # \n",
    "\n",
    "portfolio_pairing= []\n",
    "for ticker in tickers:\n",
    "    possible_pairing= [i for i in data_corr4[ticker].values if i != \"0\"]\n",
    "    stocked= [ticker]\n",
    "    for val in possible_pairing:\n",
    "        if (data_corr5.loc[ticker, val] == 1) and (data_corr5.loc[val, ticker] == 1):\n",
    "            stocked.append(val)\n",
    "        else:\n",
    "            continue\n",
    "    portfolio_pairing.append(stocked)\n",
    "\n",
    "all_portfolio= []\n",
    "for x in range(len(portfolio_pairing)):\n",
    "    stock= []\n",
    "    for i in range(2, num_max_assets + 1):\n",
    "        for j in itertools.combinations(portfolio_pairing[x], i):\n",
    "            stock.append(list(j))\n",
    "\n",
    "    port_random= random.sample(stock, port_per_iter)\n",
    "\n",
    "    all_portfolio += port_random"
   ]
  },
  {
   "cell_type": "code",
   "execution_count": 17,
   "metadata": {
    "ExecuteTime": {
     "end_time": "2020-04-08T15:46:30.734551Z",
     "start_time": "2020-04-08T15:46:30.606718Z"
    }
   },
   "outputs": [
    {
     "data": {
      "text/plain": [
       "[['DUK US Equity', 'PPL US Equity', 'MO US Equity'],\n",
       " ['EXC US Equity', 'DUK US Equity', 'HSY US Equity', 'WELL US Equity'],\n",
       " ['HES US Equity', 'DUK US Equity', 'PPL US Equity', 'HSY US Equity'],\n",
       " ['HES US Equity',\n",
       "  'EXC US Equity',\n",
       "  'KMB US Equity',\n",
       "  'DUK US Equity',\n",
       "  'PPL US Equity',\n",
       "  'DTE US Equity',\n",
       "  'WELL US Equity'],\n",
       " ['HES US Equity',\n",
       "  'EXC US Equity',\n",
       "  'PPL US Equity',\n",
       "  'DTE US Equity',\n",
       "  'WELL US Equity']]"
      ]
     },
     "execution_count": 17,
     "metadata": {},
     "output_type": "execute_result"
    }
   ],
   "source": [
    "all_portfolio[:5]"
   ]
  },
  {
   "cell_type": "code",
   "execution_count": 18,
   "metadata": {
    "ExecuteTime": {
     "end_time": "2020-04-08T15:46:35.291835Z",
     "start_time": "2020-04-08T15:46:34.294009Z"
    }
   },
   "outputs": [],
   "source": [
    "# Save\n",
    "df_portfolio= pd.DataFrame({\"portfolio\":all_portfolio})\n",
    "df_portfolio.to_csv(\"../data/portfolio_constitution_short_long.csv\", index= False, header= True)"
   ]
  }
 ],
 "metadata": {
  "kernelspec": {
   "display_name": "Python 3",
   "language": "python",
   "name": "python3"
  },
  "language_info": {
   "codemirror_mode": {
    "name": "ipython",
    "version": 3
   },
   "file_extension": ".py",
   "mimetype": "text/x-python",
   "name": "python",
   "nbconvert_exporter": "python",
   "pygments_lexer": "ipython3",
   "version": "3.7.4"
  }
 },
 "nbformat": 4,
 "nbformat_minor": 2
}
