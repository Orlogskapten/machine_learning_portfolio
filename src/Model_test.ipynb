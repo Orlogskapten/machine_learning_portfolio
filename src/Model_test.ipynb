{
 "cells": [
  {
   "cell_type": "code",
   "execution_count": 1,
   "metadata": {
    "ExecuteTime": {
     "end_time": "2020-04-05T19:30:35.616646Z",
     "start_time": "2020-04-05T19:30:34.262899Z"
    }
   },
   "outputs": [],
   "source": [
    "import pandas as pd\n",
    "import seaborn as sns\n",
    "import matplotlib.pyplot as plt"
   ]
  },
  {
   "cell_type": "code",
   "execution_count": 2,
   "metadata": {
    "ExecuteTime": {
     "end_time": "2020-04-05T19:30:35.623431Z",
     "start_time": "2020-04-05T19:30:35.618444Z"
    }
   },
   "outputs": [],
   "source": [
    "file_path= \"../data/\"\n",
    "list_col = ['HES US Equity', 'NEM US Equity', 'INTC US Equity', 'IFF US Equity',\n",
    "       'MOS US Equity', 'EXC US Equity', 'KMB US Equity', 'JNJ US Equity',\n",
    "       'BAX US Equity', 'F US Equity', 'COP US Equity',\n",
    "       'WFC US Equity', 'WY US Equity', 'TGT US Equity', 'MMM US Equity',\n",
    "       'CMI US Equity', 'HAS US Equity', 'DUK US Equity',\n",
    "       'EMN US Equity', 'BK US Equity', 'UFS US Equity', 'ECL US Equity',\n",
    "       'SLB US Equity', 'UPS US Equity', 'T US Equity', 'NSC US Equity',\n",
    "       'PPL US Equity', 'MO US Equity', 'JLL US Equity', 'C US Equity',\n",
    "       'ABT US Equity', 'AMD US Equity', 'CVX US Equity', 'CMA US Equity',\n",
    "       'DTE US Equity', 'HSY US Equity', 'KIM US Equity', 'NBL US Equity',\n",
    "       'IBM US Equity', 'WELL US Equity', 'IR US Equity', 'BKR US Equity',\n",
    "       'WEC US Equity', 'OXY US Equity', 'WMB US Equity', 'UNP US Equity',\n",
    "       'WM US Equity', 'CCL US Equity']"
   ]
  },
  {
   "cell_type": "code",
   "execution_count": 3,
   "metadata": {
    "ExecuteTime": {
     "end_time": "2020-04-05T19:30:35.746509Z",
     "start_time": "2020-04-05T19:30:35.626392Z"
    }
   },
   "outputs": [],
   "source": [
    "returns = pd.read_csv(file_path+\"return.csv\")[['Date1']+list_col]\n",
    "returns.rename(columns={returns.columns[0]: \"Date\" }, inplace = True)\n",
    "CURRENT_EV_TO_T12M_EBITDA = pd.read_csv(file_path+\"CURRENT_EV_TO_T12M_EBITDA.csv\")[['Date']+list_col]\n",
    "DIVIDEND_INDICATED_YIELD= pd.read_csv(file_path+\"DIVIDEND_INDICATED_YIELD.csv\")[['Date']+list_col]\n",
    "EBITDA_TO_INTEREST_EXPN = pd.read_csv(file_path+\"EBITDA_TO_INTEREST_EXPN.csv\")[['Date']+list_col]\n",
    "EBITDA_TO_REVENUE = pd.read_csv(file_path+\"EBITDA_TO_REVENUE.csv\")[['Date']+list_col]\n",
    "EPS_GROWTH = pd.read_csv(file_path+\"EPS_GROWTH.csv\")[['Date']+list_col]\n",
    "EQY_DVD_YLD_IND = pd.read_csv(file_path+\"EQY_DVD_YLD_IND.csv\")[['Date']+list_col]\n",
    "PE_RATIO = pd.read_csv(file_path+\"PE_RATIO.csv\")[['Date']+list_col]\n",
    "TOT_DEBT_TO_EBITDA = pd.read_csv(file_path+\"TOT_DEBT_TO_EBITDA.csv\")[['Date']+list_col]"
   ]
  },
  {
   "cell_type": "code",
   "execution_count": 4,
   "metadata": {
    "ExecuteTime": {
     "end_time": "2020-04-05T19:30:35.754450Z",
     "start_time": "2020-04-05T19:30:35.748466Z"
    }
   },
   "outputs": [
    {
     "data": {
      "text/plain": [
       "7"
      ]
     },
     "execution_count": 4,
     "metadata": {},
     "output_type": "execute_result"
    }
   ],
   "source": [
    "# Not taking EPS growth because if NaN values \n",
    "list_df_str = [\n",
    "            'CURRENT_EV_TO_T12M_EBITDA','DIVIDEND_INDICATED_YIELD','EBITDA_TO_INTEREST_EXPN',\n",
    "            'EBITDA_TO_REVENUE','EQY_DVD_YLD_IND','PE_RATIO','TOT_DEBT_TO_EBITDA'\n",
    "          ]\n",
    "list_df = [\n",
    "            CURRENT_EV_TO_T12M_EBITDA,DIVIDEND_INDICATED_YIELD,EBITDA_TO_INTEREST_EXPN,\n",
    "            EBITDA_TO_REVENUE,EQY_DVD_YLD_IND,PE_RATIO,TOT_DEBT_TO_EBITDA\n",
    "          ]\n",
    "len(list_df)"
   ]
  },
  {
   "cell_type": "code",
   "execution_count": 5,
   "metadata": {
    "ExecuteTime": {
     "end_time": "2020-04-05T19:30:35.869823Z",
     "start_time": "2020-04-05T19:30:35.755447Z"
    }
   },
   "outputs": [
    {
     "name": "stdout",
     "output_type": "stream",
     "text": [
      "(118, 9)\n"
     ]
    },
    {
     "data": {
      "text/html": [
       "<div>\n",
       "<style scoped>\n",
       "    .dataframe tbody tr th:only-of-type {\n",
       "        vertical-align: middle;\n",
       "    }\n",
       "\n",
       "    .dataframe tbody tr th {\n",
       "        vertical-align: top;\n",
       "    }\n",
       "\n",
       "    .dataframe thead th {\n",
       "        text-align: right;\n",
       "    }\n",
       "</style>\n",
       "<table border=\"1\" class=\"dataframe\">\n",
       "  <thead>\n",
       "    <tr style=\"text-align: right;\">\n",
       "      <th></th>\n",
       "      <th>Date</th>\n",
       "      <th>HES US Equity</th>\n",
       "      <th>CURRENT_EV_TO_T12M_EBITDA</th>\n",
       "      <th>DIVIDEND_INDICATED_YIELD</th>\n",
       "      <th>EBITDA_TO_INTEREST_EXPN</th>\n",
       "      <th>EBITDA_TO_REVENUE</th>\n",
       "      <th>EQY_DVD_YLD_IND</th>\n",
       "      <th>PE_RATIO</th>\n",
       "      <th>TOT_DEBT_TO_EBITDA</th>\n",
       "    </tr>\n",
       "  </thead>\n",
       "  <tbody>\n",
       "    <tr>\n",
       "      <th>0</th>\n",
       "      <td>2010-01-01</td>\n",
       "      <td>1.747707</td>\n",
       "      <td>5.5099</td>\n",
       "      <td>0.6612</td>\n",
       "      <td>16.5495</td>\n",
       "      <td>17.3542</td>\n",
       "      <td>0.6612</td>\n",
       "      <td>40.8164</td>\n",
       "      <td>1.0684</td>\n",
       "    </tr>\n",
       "    <tr>\n",
       "      <th>1</th>\n",
       "      <td>2010-02-01</td>\n",
       "      <td>6.552083</td>\n",
       "      <td>5.5099</td>\n",
       "      <td>0.6612</td>\n",
       "      <td>16.5495</td>\n",
       "      <td>17.3542</td>\n",
       "      <td>0.6612</td>\n",
       "      <td>40.8164</td>\n",
       "      <td>1.0684</td>\n",
       "    </tr>\n",
       "  </tbody>\n",
       "</table>\n",
       "</div>"
      ],
      "text/plain": [
       "        Date  HES US Equity  CURRENT_EV_TO_T12M_EBITDA  \\\n",
       "0 2010-01-01       1.747707                     5.5099   \n",
       "1 2010-02-01       6.552083                     5.5099   \n",
       "\n",
       "   DIVIDEND_INDICATED_YIELD  EBITDA_TO_INTEREST_EXPN  EBITDA_TO_REVENUE  \\\n",
       "0                    0.6612                  16.5495            17.3542   \n",
       "1                    0.6612                  16.5495            17.3542   \n",
       "\n",
       "   EQY_DVD_YLD_IND  PE_RATIO  TOT_DEBT_TO_EBITDA  \n",
       "0           0.6612   40.8164              1.0684  \n",
       "1           0.6612   40.8164              1.0684  "
      ]
     },
     "execution_count": 5,
     "metadata": {},
     "output_type": "execute_result"
    }
   ],
   "source": [
    "col = 'HES US Equity'\n",
    "df = returns[[\"Date\",str(col)]].copy()\n",
    "df.Date = pd.to_datetime(df.Date)\n",
    "df.Date = df.Date.dt.strftime('%m/%Y')\n",
    "df_final = df.copy()\n",
    "\n",
    "for res,res_str in zip(list_df,list_df_str):\n",
    "    \n",
    "    df2 = res[[\"Date\",str(col)]].copy()\n",
    "    df2.Date = pd.to_datetime(df2.Date)\n",
    "    df2.rename(columns={str(col): str(res_str) }, inplace = True)\n",
    "    df2.Date = df2.Date + pd.DateOffset(months=1)\n",
    "    df2.Date = df2.Date.dt.strftime('%m/%Y')\n",
    "    df_final = pd.merge(df_final,df2,on='Date', how='outer').fillna(method='ffill').dropna()\n",
    "\n",
    "df_final.Date = pd.to_datetime(df_final.Date)\n",
    "print(df_final.shape)\n",
    "df_final.head(2)"
   ]
  },
  {
   "cell_type": "code",
   "execution_count": 6,
   "metadata": {
    "ExecuteTime": {
     "end_time": "2020-04-05T19:30:35.883787Z",
     "start_time": "2020-04-05T19:30:35.870788Z"
    }
   },
   "outputs": [
    {
     "data": {
      "text/html": [
       "<div>\n",
       "<style scoped>\n",
       "    .dataframe tbody tr th:only-of-type {\n",
       "        vertical-align: middle;\n",
       "    }\n",
       "\n",
       "    .dataframe tbody tr th {\n",
       "        vertical-align: top;\n",
       "    }\n",
       "\n",
       "    .dataframe thead th {\n",
       "        text-align: right;\n",
       "    }\n",
       "</style>\n",
       "<table border=\"1\" class=\"dataframe\">\n",
       "  <thead>\n",
       "    <tr style=\"text-align: right;\">\n",
       "      <th></th>\n",
       "      <th>Date</th>\n",
       "      <th>HES US Equity</th>\n",
       "      <th>CURRENT_EV_TO_T12M_EBITDA</th>\n",
       "      <th>DIVIDEND_INDICATED_YIELD</th>\n",
       "      <th>EBITDA_TO_INTEREST_EXPN</th>\n",
       "      <th>EBITDA_TO_REVENUE</th>\n",
       "      <th>EQY_DVD_YLD_IND</th>\n",
       "      <th>PE_RATIO</th>\n",
       "      <th>TOT_DEBT_TO_EBITDA</th>\n",
       "    </tr>\n",
       "  </thead>\n",
       "  <tbody>\n",
       "    <tr>\n",
       "      <th>116</th>\n",
       "      <td>2019-09-01</td>\n",
       "      <td>8.713624</td>\n",
       "      <td>7.8839</td>\n",
       "      <td>1.5731</td>\n",
       "      <td>8.7216</td>\n",
       "      <td>50.9639</td>\n",
       "      <td>1.5731</td>\n",
       "      <td>3055.7097</td>\n",
       "      <td>2.2353</td>\n",
       "    </tr>\n",
       "    <tr>\n",
       "      <th>117</th>\n",
       "      <td>2019-10-01</td>\n",
       "      <td>-5.566540</td>\n",
       "      <td>7.8176</td>\n",
       "      <td>1.6534</td>\n",
       "      <td>8.3111</td>\n",
       "      <td>47.3418</td>\n",
       "      <td>1.6534</td>\n",
       "      <td>3055.7097</td>\n",
       "      <td>2.2434</td>\n",
       "    </tr>\n",
       "  </tbody>\n",
       "</table>\n",
       "</div>"
      ],
      "text/plain": [
       "          Date  HES US Equity  CURRENT_EV_TO_T12M_EBITDA  \\\n",
       "116 2019-09-01       8.713624                     7.8839   \n",
       "117 2019-10-01      -5.566540                     7.8176   \n",
       "\n",
       "     DIVIDEND_INDICATED_YIELD  EBITDA_TO_INTEREST_EXPN  EBITDA_TO_REVENUE  \\\n",
       "116                    1.5731                   8.7216            50.9639   \n",
       "117                    1.6534                   8.3111            47.3418   \n",
       "\n",
       "     EQY_DVD_YLD_IND   PE_RATIO  TOT_DEBT_TO_EBITDA  \n",
       "116           1.5731  3055.7097              2.2353  \n",
       "117           1.6534  3055.7097              2.2434  "
      ]
     },
     "execution_count": 6,
     "metadata": {},
     "output_type": "execute_result"
    }
   ],
   "source": [
    "df_final.tail(2)"
   ]
  },
  {
   "cell_type": "code",
   "execution_count": 7,
   "metadata": {
    "ExecuteTime": {
     "end_time": "2020-04-05T19:30:35.910721Z",
     "start_time": "2020-04-05T19:30:35.885780Z"
    }
   },
   "outputs": [
    {
     "data": {
      "text/plain": [
       "False"
      ]
     },
     "execution_count": 7,
     "metadata": {},
     "output_type": "execute_result"
    }
   ],
   "source": [
    "df_final.isnull().values.any()"
   ]
  },
  {
   "cell_type": "code",
   "execution_count": 8,
   "metadata": {
    "ExecuteTime": {
     "end_time": "2020-04-05T19:30:36.217708Z",
     "start_time": "2020-04-05T19:30:35.914680Z"
    }
   },
   "outputs": [
    {
     "data": {
      "text/plain": [
       "<matplotlib.axes._subplots.AxesSubplot at 0x2cd3cce9f28>"
      ]
     },
     "execution_count": 8,
     "metadata": {},
     "output_type": "execute_result"
    },
    {
     "data": {
      "image/png": "[encoded data removed]",
      "text/plain": [
       "<Figure size 720x504 with 2 Axes>"
      ]
     },
     "metadata": {
      "needs_background": "light"
     },
     "output_type": "display_data"
    }
   ],
   "source": [
    "fig = plt.figure(figsize=(10, 7))\n",
    "sns.heatmap(df_final.iloc[:,1:].corr())"
   ]
  },
  {
   "cell_type": "code",
   "execution_count": 9,
   "metadata": {
    "ExecuteTime": {
     "end_time": "2020-04-05T19:30:36.577763Z",
     "start_time": "2020-04-05T19:30:36.219657Z"
    }
   },
   "outputs": [],
   "source": [
    "# Creation d'une liste avec les modeles qui vont être appliqués\n",
    "from xgboost import XGBRegressor\n",
    "from sklearn.ensemble import GradientBoostingRegressor\n",
    "from sklearn.ensemble import RandomForestRegressor\n",
    "from sklearn.ensemble import AdaBoostRegressor\n",
    "from catboost import CatBoostRegressor\n",
    "from lightgbm import LGBMRegressor\n",
    "from sklearn import metrics\n",
    "from sklearn.preprocessing import StandardScaler\n",
    "\n",
    "\n",
    "models = []\n",
    "models.append(XGBRegressor(silent=True))\n",
    "models.append(GradientBoostingRegressor(verbose = 0))\n",
    "models.append(RandomForestRegressor(verbose=0))\n",
    "models.append(AdaBoostRegressor())\n",
    "models.append(CatBoostRegressor(silent=True))\n",
    "models.append(LGBMRegressor(silent=True))"
   ]
  },
  {
   "cell_type": "code",
   "execution_count": 10,
   "metadata": {
    "ExecuteTime": {
     "end_time": "2020-04-05T19:30:36.598092Z",
     "start_time": "2020-04-05T19:30:36.580511Z"
    }
   },
   "outputs": [
    {
     "data": {
      "text/html": [
       "<div>\n",
       "<style scoped>\n",
       "    .dataframe tbody tr th:only-of-type {\n",
       "        vertical-align: middle;\n",
       "    }\n",
       "\n",
       "    .dataframe tbody tr th {\n",
       "        vertical-align: top;\n",
       "    }\n",
       "\n",
       "    .dataframe thead th {\n",
       "        text-align: right;\n",
       "    }\n",
       "</style>\n",
       "<table border=\"1\" class=\"dataframe\">\n",
       "  <thead>\n",
       "    <tr style=\"text-align: right;\">\n",
       "      <th></th>\n",
       "      <th>CURRENT_EV_TO_T12M_EBITDA</th>\n",
       "      <th>DIVIDEND_INDICATED_YIELD</th>\n",
       "      <th>EBITDA_TO_INTEREST_EXPN</th>\n",
       "      <th>EBITDA_TO_REVENUE</th>\n",
       "      <th>EQY_DVD_YLD_IND</th>\n",
       "      <th>PE_RATIO</th>\n",
       "      <th>TOT_DEBT_TO_EBITDA</th>\n",
       "    </tr>\n",
       "  </thead>\n",
       "  <tbody>\n",
       "    <tr>\n",
       "      <th>0</th>\n",
       "      <td>-0.232063</td>\n",
       "      <td>-1.085453</td>\n",
       "      <td>0.689966</td>\n",
       "      <td>-0.116175</td>\n",
       "      <td>-1.085453</td>\n",
       "      <td>-0.394210</td>\n",
       "      <td>-0.256483</td>\n",
       "    </tr>\n",
       "    <tr>\n",
       "      <th>1</th>\n",
       "      <td>-0.232063</td>\n",
       "      <td>-1.085453</td>\n",
       "      <td>0.689966</td>\n",
       "      <td>-0.116175</td>\n",
       "      <td>-1.085453</td>\n",
       "      <td>-0.394210</td>\n",
       "      <td>-0.256483</td>\n",
       "    </tr>\n",
       "    <tr>\n",
       "      <th>2</th>\n",
       "      <td>-0.232063</td>\n",
       "      <td>-1.085453</td>\n",
       "      <td>0.689966</td>\n",
       "      <td>-0.116175</td>\n",
       "      <td>-1.085453</td>\n",
       "      <td>-0.394210</td>\n",
       "      <td>-0.256483</td>\n",
       "    </tr>\n",
       "    <tr>\n",
       "      <th>3</th>\n",
       "      <td>-0.234233</td>\n",
       "      <td>-1.122623</td>\n",
       "      <td>0.956437</td>\n",
       "      <td>-0.110171</td>\n",
       "      <td>-1.122623</td>\n",
       "      <td>-0.416508</td>\n",
       "      <td>-0.258629</td>\n",
       "    </tr>\n",
       "    <tr>\n",
       "      <th>4</th>\n",
       "      <td>-0.234233</td>\n",
       "      <td>-1.122623</td>\n",
       "      <td>0.956437</td>\n",
       "      <td>-0.110171</td>\n",
       "      <td>-1.122623</td>\n",
       "      <td>-0.416508</td>\n",
       "      <td>-0.258629</td>\n",
       "    </tr>\n",
       "  </tbody>\n",
       "</table>\n",
       "</div>"
      ],
      "text/plain": [
       "   CURRENT_EV_TO_T12M_EBITDA  DIVIDEND_INDICATED_YIELD  \\\n",
       "0                  -0.232063                 -1.085453   \n",
       "1                  -0.232063                 -1.085453   \n",
       "2                  -0.232063                 -1.085453   \n",
       "3                  -0.234233                 -1.122623   \n",
       "4                  -0.234233                 -1.122623   \n",
       "\n",
       "   EBITDA_TO_INTEREST_EXPN  EBITDA_TO_REVENUE  EQY_DVD_YLD_IND  PE_RATIO  \\\n",
       "0                 0.689966          -0.116175        -1.085453 -0.394210   \n",
       "1                 0.689966          -0.116175        -1.085453 -0.394210   \n",
       "2                 0.689966          -0.116175        -1.085453 -0.394210   \n",
       "3                 0.956437          -0.110171        -1.122623 -0.416508   \n",
       "4                 0.956437          -0.110171        -1.122623 -0.416508   \n",
       "\n",
       "   TOT_DEBT_TO_EBITDA  \n",
       "0           -0.256483  \n",
       "1           -0.256483  \n",
       "2           -0.256483  \n",
       "3           -0.258629  \n",
       "4           -0.258629  "
      ]
     },
     "execution_count": 10,
     "metadata": {},
     "output_type": "execute_result"
    }
   ],
   "source": [
    "y = df_final[['HES US Equity']].copy()\n",
    "date = df_final['Date'].to_list()\n",
    "X = df_final.drop(['Date','HES US Equity'],axis=1).copy()\n",
    "sc = StandardScaler()\n",
    "X[list_df_str] = sc.fit_transform(X[list_df_str])\n",
    "X.head()"
   ]
  },
  {
   "cell_type": "code",
   "execution_count": 17,
   "metadata": {
    "ExecuteTime": {
     "end_time": "2020-04-05T19:33:06.517256Z",
     "start_time": "2020-04-05T19:33:06.513533Z"
    }
   },
   "outputs": [
    {
     "data": {
      "text/plain": [
       "118"
      ]
     },
     "execution_count": 17,
     "metadata": {},
     "output_type": "execute_result"
    }
   ],
   "source": [
    "len(X)"
   ]
  },
  {
   "cell_type": "code",
   "execution_count": 24,
   "metadata": {
    "ExecuteTime": {
     "end_time": "2020-04-05T19:35:41.619119Z",
     "start_time": "2020-04-05T19:35:40.402189Z"
    },
    "scrolled": true
   },
   "outputs": [
    {
     "name": "stdout",
     "output_type": "stream",
     "text": [
      "Current index0\n"
     ]
    }
   ],
   "source": [
    "i = 0 \n",
    "results = []\n",
    "date_of_pred = []\n",
    "# Normally is 60 = 5 years\n",
    "# It works better when is 118 (full length data)\n",
    "window_size = 118\n",
    "step_size = 1\n",
    "backtest_size = 1\n",
    "names = []\n",
    "\n",
    "for m in models:\n",
    "    m = str(m).split('(')[0]\n",
    "    names.append(m)\n",
    "\n",
    "while i + window_size <= X.shape[0]:\n",
    "    \n",
    "    print(\"Current index\"+str(i))\n",
    "    \n",
    "    # We take the first 60 data points\n",
    "    sample_X = X.iloc[i:i+window_size,:].copy()\n",
    "    sample_Y = y.iloc[i:i+window_size].copy()\n",
    "    # We train it in the first 59 points\n",
    "    X_train = sample_X.iloc[:-backtest_size,:].copy()\n",
    "    Y_train = sample_Y.iloc[:-backtest_size].copy()\n",
    "    # We test for the following month (so we try to predict only one month)\n",
    "    X_test = sample_X.iloc[-backtest_size:,:].copy()\n",
    "    Y_test = sample_Y.iloc[-backtest_size:].copy()\n",
    "    date_of_pred.append(str(date[X_test.index[-1]]))\n",
    "    \n",
    "    \"\"\"\n",
    "    In case we want to calculate more than the next month, this will take the first \n",
    "    and the last date of the X_test\n",
    "    date_of_pred.append(str(date[X_test.index[0]]) + '-' + str(date[X_test.index[-1]]))\n",
    "    \"\"\"\n",
    "    x_train_values = X_train.values\n",
    "    y_train_values = Y_train.values\n",
    "    y_train_values = Y_test.values\n",
    "    \n",
    "    modelscore = []\n",
    "    \n",
    "    for model in models:\n",
    "        \n",
    "        model.fit(X_train,Y_train.values.ravel())\n",
    "        y_pred = model.predict(X_test)\n",
    "        # Mean absolute error\n",
    "        score = metrics.mean_absolute_error(Y_test.values.ravel(), y_pred)\n",
    "        modelscore.append(score)\n",
    "    \n",
    "    results.append(modelscore)\n",
    "    \n",
    "    i+=step_size"
   ]
  },
  {
   "cell_type": "code",
   "execution_count": 25,
   "metadata": {
    "ExecuteTime": {
     "end_time": "2020-04-05T19:35:41.649737Z",
     "start_time": "2020-04-05T19:35:41.623046Z"
    }
   },
   "outputs": [
    {
     "data": {
      "text/html": [
       "<div>\n",
       "<style scoped>\n",
       "    .dataframe tbody tr th:only-of-type {\n",
       "        vertical-align: middle;\n",
       "    }\n",
       "\n",
       "    .dataframe tbody tr th {\n",
       "        vertical-align: top;\n",
       "    }\n",
       "\n",
       "    .dataframe thead th {\n",
       "        text-align: right;\n",
       "    }\n",
       "</style>\n",
       "<table border=\"1\" class=\"dataframe\">\n",
       "  <thead>\n",
       "    <tr style=\"text-align: right;\">\n",
       "      <th></th>\n",
       "      <th>period_of_pred</th>\n",
       "      <th>XGBRegressor</th>\n",
       "      <th>GradientBoostingRegressor</th>\n",
       "      <th>RandomForestRegressor</th>\n",
       "      <th>AdaBoostRegressor</th>\n",
       "      <th>&lt;catboost.core.CatBoostRegressor object at 0x000002CD3D6D2EB8&gt;</th>\n",
       "      <th>LGBMRegressor</th>\n",
       "    </tr>\n",
       "  </thead>\n",
       "  <tbody>\n",
       "    <tr>\n",
       "      <th>0</th>\n",
       "      <td>2019-10-01 00:00:00</td>\n",
       "      <td>6.608099</td>\n",
       "      <td>6.492964</td>\n",
       "      <td>6.48616</td>\n",
       "      <td>7.246356</td>\n",
       "      <td>6.699836</td>\n",
       "      <td>5.545639</td>\n",
       "    </tr>\n",
       "  </tbody>\n",
       "</table>\n",
       "</div>"
      ],
      "text/plain": [
       "        period_of_pred  XGBRegressor  GradientBoostingRegressor  \\\n",
       "0  2019-10-01 00:00:00      6.608099                   6.492964   \n",
       "\n",
       "   RandomForestRegressor  AdaBoostRegressor  \\\n",
       "0                6.48616           7.246356   \n",
       "\n",
       "   <catboost.core.CatBoostRegressor object at 0x000002CD3D6D2EB8>  \\\n",
       "0                                           6.699836                \n",
       "\n",
       "   LGBMRegressor  \n",
       "0       5.545639  "
      ]
     },
     "execution_count": 25,
     "metadata": {},
     "output_type": "execute_result"
    }
   ],
   "source": [
    "results_summary = pd.DataFrame(results,columns = names)\n",
    "results_summary.insert(0,\"period_of_pred\",date_of_pred)\n",
    "results_summary"
   ]
  },
  {
   "cell_type": "code",
   "execution_count": 26,
   "metadata": {
    "ExecuteTime": {
     "end_time": "2020-04-05T19:35:42.120492Z",
     "start_time": "2020-04-05T19:35:42.109527Z"
    }
   },
   "outputs": [
    {
     "data": {
      "text/plain": [
       "XGBRegressor                                                      6.608099\n",
       "GradientBoostingRegressor                                         6.492964\n",
       "RandomForestRegressor                                             6.486160\n",
       "AdaBoostRegressor                                                 7.246356\n",
       "<catboost.core.CatBoostRegressor object at 0x000002CD3D6D2EB8>    6.699836\n",
       "LGBMRegressor                                                     5.545639\n",
       "dtype: float64"
      ]
     },
     "execution_count": 26,
     "metadata": {},
     "output_type": "execute_result"
    }
   ],
   "source": [
    "results_summary.mean()"
   ]
  },
  {
   "cell_type": "code",
   "execution_count": null,
   "metadata": {},
   "outputs": [],
   "source": []
  }
 ],
 "metadata": {
  "kernelspec": {
   "display_name": "Python 3",
   "language": "python",
   "name": "python3"
  },
  "language_info": {
   "codemirror_mode": {
    "name": "ipython",
    "version": 3
   },
   "file_extension": ".py",
   "mimetype": "text/x-python",
   "name": "python",
   "nbconvert_exporter": "python",
   "pygments_lexer": "ipython3",
   "version": "3.7.3"
  },
  "latex_envs": {
   "LaTeX_envs_menu_present": true,
   "autoclose": false,
   "autocomplete": true,
   "bibliofile": "biblio.bib",
   "cite_by": "apalike",
   "current_citInitial": 1,
   "eqLabelWithNumbers": true,
   "eqNumInitial": 1,
   "hotkeys": {
    "equation": "Ctrl-E",
    "itemize": "Ctrl-I"
   },
   "labels_anchors": false,
   "latex_user_defs": false,
   "report_style_numbering": false,
   "user_envs_cfg": false
  }
 },
 "nbformat": 4,
 "nbformat_minor": 2
}
