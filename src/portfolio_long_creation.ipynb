{
 "cells": [
  {
   "cell_type": "markdown",
   "metadata": {},
   "source": [
    "# Portfolio LONG ONLY"
   ]
  },
  {
   "cell_type": "code",
   "execution_count": 116,
   "metadata": {
    "ExecuteTime": {
     "end_time": "2020-04-07T07:57:18.238717Z",
     "start_time": "2020-04-07T07:57:18.232735Z"
    }
   },
   "outputs": [],
   "source": [
    "import pandas as pd\n",
    "import numpy as np\n",
    "import matplotlib.pyplot as plt\n",
    "import matplotlib as mpl\n",
    "import seaborn as sns\n",
    "\n",
    "import random"
   ]
  },
  {
   "cell_type": "code",
   "execution_count": 117,
   "metadata": {
    "ExecuteTime": {
     "end_time": "2020-04-07T07:57:18.481831Z",
     "start_time": "2020-04-07T07:57:18.440891Z"
    }
   },
   "outputs": [],
   "source": [
    "data= pd.read_csv(\"../data/return.csv\")\n",
    "sp= pd.read_csv(\"../data/sp500.csv\")\n",
    "portfolio= pd.read_csv(\"../data/portfolio_constitution.csv\")"
   ]
  },
  {
   "cell_type": "code",
   "execution_count": 118,
   "metadata": {
    "ExecuteTime": {
     "end_time": "2020-04-07T07:57:18.868255Z",
     "start_time": "2020-04-07T07:57:18.848268Z"
    }
   },
   "outputs": [
    {
     "data": {
      "text/html": [
       "<div>\n",
       "<style scoped>\n",
       "    .dataframe tbody tr th:only-of-type {\n",
       "        vertical-align: middle;\n",
       "    }\n",
       "\n",
       "    .dataframe tbody tr th {\n",
       "        vertical-align: top;\n",
       "    }\n",
       "\n",
       "    .dataframe thead th {\n",
       "        text-align: right;\n",
       "    }\n",
       "</style>\n",
       "<table border=\"1\" class=\"dataframe\">\n",
       "  <thead>\n",
       "    <tr style=\"text-align: right;\">\n",
       "      <th></th>\n",
       "      <th>Date</th>\n",
       "      <th>return</th>\n",
       "    </tr>\n",
       "  </thead>\n",
       "  <tbody>\n",
       "    <tr>\n",
       "      <th>1</th>\n",
       "      <td>2010-01-01</td>\n",
       "      <td>-3.697425</td>\n",
       "    </tr>\n",
       "    <tr>\n",
       "      <th>2</th>\n",
       "      <td>2010-02-01</td>\n",
       "      <td>2.851369</td>\n",
       "    </tr>\n",
       "    <tr>\n",
       "      <th>3</th>\n",
       "      <td>2010-03-01</td>\n",
       "      <td>5.879643</td>\n",
       "    </tr>\n",
       "    <tr>\n",
       "      <th>4</th>\n",
       "      <td>2010-04-01</td>\n",
       "      <td>1.475923</td>\n",
       "    </tr>\n",
       "    <tr>\n",
       "      <th>5</th>\n",
       "      <td>2010-05-01</td>\n",
       "      <td>-8.197584</td>\n",
       "    </tr>\n",
       "  </tbody>\n",
       "</table>\n",
       "</div>"
      ],
      "text/plain": [
       "         Date    return\n",
       "1  2010-01-01 -3.697425\n",
       "2  2010-02-01  2.851369\n",
       "3  2010-03-01  5.879643\n",
       "4  2010-04-01  1.475923\n",
       "5  2010-05-01 -8.197584"
      ]
     },
     "execution_count": 118,
     "metadata": {},
     "output_type": "execute_result"
    }
   ],
   "source": [
    "sp[\"return\"]= 100 * (sp[\"Close\"].shift(-1) - sp[\"Close\"])/sp[\"Close\"]\n",
    "sp[\"return\"]= sp[\"return\"].shift(1)\n",
    "sp_return= sp[[\"Date\", \"return\"]].dropna()\n",
    "sp_return.head()"
   ]
  },
  {
   "cell_type": "code",
   "execution_count": 119,
   "metadata": {
    "ExecuteTime": {
     "end_time": "2020-04-07T07:57:19.459574Z",
     "start_time": "2020-04-07T07:57:19.400690Z"
    }
   },
   "outputs": [
    {
     "data": {
      "text/plain": [
       "['HES US Equity', 'MO US Equity', 'WELL US Equity']"
      ]
     },
     "execution_count": 119,
     "metadata": {},
     "output_type": "execute_result"
    }
   ],
   "source": [
    "# transforme le df avec les titres des portefeuilles\n",
    "portfolio[\"portfolio\"]= portfolio[\"portfolio\"].str.strip('][').str.split(', ')\n",
    "portfolio[\"portfolio\"]= portfolio[\"portfolio\"].apply(\n",
    "    lambda row: [x.replace(\"'\", \"\") for x in row])\n",
    "\n",
    "portfolio.head()\n",
    "portfolio[\"portfolio\"][0]"
   ]
  },
  {
   "cell_type": "code",
   "execution_count": 140,
   "metadata": {
    "ExecuteTime": {
     "end_time": "2020-04-07T08:12:19.066969Z",
     "start_time": "2020-04-07T08:12:19.011870Z"
    }
   },
   "outputs": [],
   "source": [
    "# calcul cov et var\n",
    "tickers= [i for i in data.columns if i not in [\"Date1\", \"Date2\"]]\n",
    "data_tickers= data[tickers]\n",
    "\n",
    "data_corr= data_tickers.corr()\n",
    "data_cov= data_tickers.cov()\n",
    "\n",
    "\n",
    "# std= np.std(data_tickers, axis= 0)\n",
    "# idn= std.index\n",
    "\n",
    "# std_dict= {idn[i]:std[i] for i in range(len(std))}\n",
    "# std_dict"
   ]
  },
  {
   "cell_type": "code",
   "execution_count": 121,
   "metadata": {
    "ExecuteTime": {
     "end_time": "2020-04-07T07:57:20.532027Z",
     "start_time": "2020-04-07T07:57:20.522053Z"
    }
   },
   "outputs": [
    {
     "data": {
      "text/plain": [
       "array([[0.48239741, 0.44289938, 0.13456413, 0.39474659, 0.32489141],\n",
       "       [0.34847612, 0.04285116, 0.58749696, 0.48478186, 0.38491984],\n",
       "       [0.16912647, 0.51424946, 0.2779389 , 0.12047154, 0.29018875]])"
      ]
     },
     "execution_count": 121,
     "metadata": {},
     "output_type": "execute_result"
    }
   ],
   "source": [
    "test= np.array([[23, 21, 17, 10, 9], [6, 5, 9, 7, 3], [0, -2, -6, 2, 0]])\n",
    "test\n",
    "w_test= np.array([[random.random() for _ in range(test.shape[1])] for _ in range(test.shape[0])])\n",
    "w_test2= w_test/np.sum(w_test, axis= 0)\n",
    "w_test2"
   ]
  },
  {
   "cell_type": "code",
   "execution_count": 122,
   "metadata": {
    "ExecuteTime": {
     "end_time": "2020-04-07T07:57:21.143666Z",
     "start_time": "2020-04-07T07:57:21.137643Z"
    }
   },
   "outputs": [
    {
     "data": {
      "text/plain": [
       "array([0.48239741, 0.34847612, 0.16912647])"
      ]
     },
     "execution_count": 122,
     "metadata": {},
     "output_type": "execute_result"
    }
   ],
   "source": [
    "# w_test2.T * le return sur toutes les périodes\n",
    "w_test2.T[0]"
   ]
  },
  {
   "cell_type": "code",
   "execution_count": 141,
   "metadata": {
    "ExecuteTime": {
     "end_time": "2020-04-07T08:12:44.733985Z",
     "start_time": "2020-04-07T08:12:23.674963Z"
    }
   },
   "outputs": [],
   "source": [
    "# ajout matrice var cov dans le dataset par portefeuille\n",
    "\n",
    "portfolio[\"cov\"]= portfolio[\"portfolio\"].apply(lambda row: np.matrix(data_cov.loc[row, row]))\n",
    "# save\n",
    "portfolio.to_csv(\"../data/result_portfolio.csv\", index= False, header= True)"
   ]
  },
  {
   "cell_type": "code",
   "execution_count": 142,
   "metadata": {
    "ExecuteTime": {
     "end_time": "2020-04-07T08:12:45.514511Z",
     "start_time": "2020-04-07T08:12:45.493565Z"
    }
   },
   "outputs": [
    {
     "data": {
      "text/html": [
       "<div>\n",
       "<style scoped>\n",
       "    .dataframe tbody tr th:only-of-type {\n",
       "        vertical-align: middle;\n",
       "    }\n",
       "\n",
       "    .dataframe tbody tr th {\n",
       "        vertical-align: top;\n",
       "    }\n",
       "\n",
       "    .dataframe thead th {\n",
       "        text-align: right;\n",
       "    }\n",
       "</style>\n",
       "<table border=\"1\" class=\"dataframe\">\n",
       "  <thead>\n",
       "    <tr style=\"text-align: right;\">\n",
       "      <th></th>\n",
       "      <th>TGT US Equity</th>\n",
       "      <th>DUK US Equity</th>\n",
       "      <th>DTE US Equity</th>\n",
       "      <th>HSY US Equity</th>\n",
       "      <th>WEC US Equity</th>\n",
       "    </tr>\n",
       "  </thead>\n",
       "  <tbody>\n",
       "    <tr>\n",
       "      <th>TGT US Equity</th>\n",
       "      <td>43.578263</td>\n",
       "      <td>-2.287598</td>\n",
       "      <td>-0.485471</td>\n",
       "      <td>1.547108</td>\n",
       "      <td>1.067696</td>\n",
       "    </tr>\n",
       "    <tr>\n",
       "      <th>DUK US Equity</th>\n",
       "      <td>-2.287598</td>\n",
       "      <td>15.092307</td>\n",
       "      <td>12.000453</td>\n",
       "      <td>6.921832</td>\n",
       "      <td>13.998862</td>\n",
       "    </tr>\n",
       "    <tr>\n",
       "      <th>DTE US Equity</th>\n",
       "      <td>-0.485471</td>\n",
       "      <td>12.000453</td>\n",
       "      <td>14.839588</td>\n",
       "      <td>8.117057</td>\n",
       "      <td>13.855017</td>\n",
       "    </tr>\n",
       "    <tr>\n",
       "      <th>HSY US Equity</th>\n",
       "      <td>1.547108</td>\n",
       "      <td>6.921832</td>\n",
       "      <td>8.117057</td>\n",
       "      <td>24.238535</td>\n",
       "      <td>8.163991</td>\n",
       "    </tr>\n",
       "    <tr>\n",
       "      <th>WEC US Equity</th>\n",
       "      <td>1.067696</td>\n",
       "      <td>13.998862</td>\n",
       "      <td>13.855017</td>\n",
       "      <td>8.163991</td>\n",
       "      <td>18.955652</td>\n",
       "    </tr>\n",
       "  </tbody>\n",
       "</table>\n",
       "</div>"
      ],
      "text/plain": [
       "               TGT US Equity  DUK US Equity  DTE US Equity  HSY US Equity  \\\n",
       "TGT US Equity      43.578263      -2.287598      -0.485471       1.547108   \n",
       "DUK US Equity      -2.287598      15.092307      12.000453       6.921832   \n",
       "DTE US Equity      -0.485471      12.000453      14.839588       8.117057   \n",
       "HSY US Equity       1.547108       6.921832       8.117057      24.238535   \n",
       "WEC US Equity       1.067696      13.998862      13.855017       8.163991   \n",
       "\n",
       "               WEC US Equity  \n",
       "TGT US Equity       1.067696  \n",
       "DUK US Equity      13.998862  \n",
       "DTE US Equity      13.855017  \n",
       "HSY US Equity       8.163991  \n",
       "WEC US Equity      18.955652  "
      ]
     },
     "execution_count": 142,
     "metadata": {},
     "output_type": "execute_result"
    }
   ],
   "source": [
    "data_cov.loc[portfolio[\"portfolio\"][1], portfolio[\"portfolio\"][1]]"
   ]
  },
  {
   "cell_type": "code",
   "execution_count": 161,
   "metadata": {
    "ExecuteTime": {
     "end_time": "2020-04-07T08:15:48.861415Z",
     "start_time": "2020-04-07T08:15:48.853440Z"
    }
   },
   "outputs": [
    {
     "data": {
      "text/plain": [
       "array([[0.22808952, 0.18697521, 0.40384409, 0.17868834, 0.67934852],\n",
       "       [0.32499413, 0.17301556, 0.17819886, 0.29064429, 0.11768561],\n",
       "       [0.44691635, 0.64000922, 0.41795705, 0.53066736, 0.20296588]])"
      ]
     },
     "execution_count": 161,
     "metadata": {},
     "output_type": "execute_result"
    }
   ],
   "source": [
    "w_test= np.array([[random.random() for _ in range(test.shape[1])] for _ in range(test.shape[0])])\n",
    "w_test2= w_test/np.sum(w_test, axis= 0)\n",
    "w_test2"
   ]
  },
  {
   "cell_type": "code",
   "execution_count": 225,
   "metadata": {
    "ExecuteTime": {
     "end_time": "2020-04-07T10:27:30.355680Z",
     "start_time": "2020-04-07T10:27:30.339726Z"
    }
   },
   "outputs": [],
   "source": [
    "def poids_opti(row0, row1):\n",
    "    stock_var_portfolio= {}\n",
    "    for i in range(1000):\n",
    "    #     random.seed(55)\n",
    "#         cov_test= portfolio[\"cov\"][1]\n",
    "        cov_test= row1\n",
    "        test= np.array([random.random() for _ in range(len(row0))])\n",
    "        test= test/np.sum(test)\n",
    "        res_var= np.asarray(np.dot(np.dot(test.T, cov_test), test))[0][0]\n",
    "        stock_var_portfolio[res_var]= test\n",
    "    return min(stock_var_portfolio.items(), key=lambda x: x[0])"
   ]
  },
  {
   "cell_type": "code",
   "execution_count": 226,
   "metadata": {
    "ExecuteTime": {
     "end_time": "2020-04-07T10:27:30.880539Z",
     "start_time": "2020-04-07T10:27:30.806737Z"
    }
   },
   "outputs": [
    {
     "data": {
      "text/plain": [
       "(9.175058601216028,\n",
       " array([0.22521891, 0.29288254, 0.25056949, 0.21998217, 0.0113469 ]))"
      ]
     },
     "execution_count": 226,
     "metadata": {},
     "output_type": "execute_result"
    }
   ],
   "source": [
    "## stock_var_portfolio\n",
    "ok= poids_opti(portfolio[\"portfolio\"][1], portfolio[\"cov\"][1])\n",
    "ok\n",
    "# test= np.array([random.random() for _ in range(len(row0))])\n",
    "# test= test/np.sum(test)\n",
    "# res_var= np.asarray(np.dot(np.dot(test.T, cov_test), test))[0][0]"
   ]
  },
  {
   "cell_type": "code",
   "execution_count": 222,
   "metadata": {
    "ExecuteTime": {
     "end_time": "2020-04-07T10:25:30.434894Z",
     "start_time": "2020-04-07T10:25:29.981830Z"
    }
   },
   "outputs": [
    {
     "ename": "ValueError",
     "evalue": "('shapes (5,) and (3,3) not aligned: 5 (dim 0) != 3 (dim 0)', 'occurred at index 1')",
     "output_type": "error",
     "traceback": [
      "\u001b[1;31m---------------------------------------------------------------------------\u001b[0m",
      "\u001b[1;31mValueError\u001b[0m                                Traceback (most recent call last)",
      "\u001b[1;32m<ipython-input-222-df359bb0b8a6>\u001b[0m in \u001b[0;36m<module>\u001b[1;34m\u001b[0m\n\u001b[0;32m      1\u001b[0m portfolio[\"poids_var\"]= portfolio.apply(lambda row: poids_opti(row[0], row[1])\n\u001b[1;32m----> 2\u001b[1;33m                                        , axis= 1)\n\u001b[0m",
      "\u001b[1;32mC:\\Users\\Wenceslas\\Anaconda3\\envs\\cours\\lib\\site-packages\\pandas\\core\\frame.py\u001b[0m in \u001b[0;36mapply\u001b[1;34m(self, func, axis, broadcast, raw, reduce, result_type, args, **kwds)\u001b[0m\n\u001b[0;32m   6485\u001b[0m                          \u001b[0margs\u001b[0m\u001b[1;33m=\u001b[0m\u001b[0margs\u001b[0m\u001b[1;33m,\u001b[0m\u001b[1;33m\u001b[0m\u001b[1;33m\u001b[0m\u001b[0m\n\u001b[0;32m   6486\u001b[0m                          kwds=kwds)\n\u001b[1;32m-> 6487\u001b[1;33m         \u001b[1;32mreturn\u001b[0m \u001b[0mop\u001b[0m\u001b[1;33m.\u001b[0m\u001b[0mget_result\u001b[0m\u001b[1;33m(\u001b[0m\u001b[1;33m)\u001b[0m\u001b[1;33m\u001b[0m\u001b[1;33m\u001b[0m\u001b[0m\n\u001b[0m\u001b[0;32m   6488\u001b[0m \u001b[1;33m\u001b[0m\u001b[0m\n\u001b[0;32m   6489\u001b[0m     \u001b[1;32mdef\u001b[0m \u001b[0mapplymap\u001b[0m\u001b[1;33m(\u001b[0m\u001b[0mself\u001b[0m\u001b[1;33m,\u001b[0m \u001b[0mfunc\u001b[0m\u001b[1;33m)\u001b[0m\u001b[1;33m:\u001b[0m\u001b[1;33m\u001b[0m\u001b[1;33m\u001b[0m\u001b[0m\n",
      "\u001b[1;32mC:\\Users\\Wenceslas\\Anaconda3\\envs\\cours\\lib\\site-packages\\pandas\\core\\apply.py\u001b[0m in \u001b[0;36mget_result\u001b[1;34m(self)\u001b[0m\n\u001b[0;32m    149\u001b[0m             \u001b[1;32mreturn\u001b[0m \u001b[0mself\u001b[0m\u001b[1;33m.\u001b[0m\u001b[0mapply_raw\u001b[0m\u001b[1;33m(\u001b[0m\u001b[1;33m)\u001b[0m\u001b[1;33m\u001b[0m\u001b[1;33m\u001b[0m\u001b[0m\n\u001b[0;32m    150\u001b[0m \u001b[1;33m\u001b[0m\u001b[0m\n\u001b[1;32m--> 151\u001b[1;33m         \u001b[1;32mreturn\u001b[0m \u001b[0mself\u001b[0m\u001b[1;33m.\u001b[0m\u001b[0mapply_standard\u001b[0m\u001b[1;33m(\u001b[0m\u001b[1;33m)\u001b[0m\u001b[1;33m\u001b[0m\u001b[1;33m\u001b[0m\u001b[0m\n\u001b[0m\u001b[0;32m    152\u001b[0m \u001b[1;33m\u001b[0m\u001b[0m\n\u001b[0;32m    153\u001b[0m     \u001b[1;32mdef\u001b[0m \u001b[0mapply_empty_result\u001b[0m\u001b[1;33m(\u001b[0m\u001b[0mself\u001b[0m\u001b[1;33m)\u001b[0m\u001b[1;33m:\u001b[0m\u001b[1;33m\u001b[0m\u001b[1;33m\u001b[0m\u001b[0m\n",
      "\u001b[1;32mC:\\Users\\Wenceslas\\Anaconda3\\envs\\cours\\lib\\site-packages\\pandas\\core\\apply.py\u001b[0m in \u001b[0;36mapply_standard\u001b[1;34m(self)\u001b[0m\n\u001b[0;32m    255\u001b[0m \u001b[1;33m\u001b[0m\u001b[0m\n\u001b[0;32m    256\u001b[0m         \u001b[1;31m# compute the result using the series generator\u001b[0m\u001b[1;33m\u001b[0m\u001b[1;33m\u001b[0m\u001b[1;33m\u001b[0m\u001b[0m\n\u001b[1;32m--> 257\u001b[1;33m         \u001b[0mself\u001b[0m\u001b[1;33m.\u001b[0m\u001b[0mapply_series_generator\u001b[0m\u001b[1;33m(\u001b[0m\u001b[1;33m)\u001b[0m\u001b[1;33m\u001b[0m\u001b[1;33m\u001b[0m\u001b[0m\n\u001b[0m\u001b[0;32m    258\u001b[0m \u001b[1;33m\u001b[0m\u001b[0m\n\u001b[0;32m    259\u001b[0m         \u001b[1;31m# wrap results\u001b[0m\u001b[1;33m\u001b[0m\u001b[1;33m\u001b[0m\u001b[1;33m\u001b[0m\u001b[0m\n",
      "\u001b[1;32mC:\\Users\\Wenceslas\\Anaconda3\\envs\\cours\\lib\\site-packages\\pandas\\core\\apply.py\u001b[0m in \u001b[0;36mapply_series_generator\u001b[1;34m(self)\u001b[0m\n\u001b[0;32m    284\u001b[0m             \u001b[1;32mtry\u001b[0m\u001b[1;33m:\u001b[0m\u001b[1;33m\u001b[0m\u001b[1;33m\u001b[0m\u001b[0m\n\u001b[0;32m    285\u001b[0m                 \u001b[1;32mfor\u001b[0m \u001b[0mi\u001b[0m\u001b[1;33m,\u001b[0m \u001b[0mv\u001b[0m \u001b[1;32min\u001b[0m \u001b[0menumerate\u001b[0m\u001b[1;33m(\u001b[0m\u001b[0mseries_gen\u001b[0m\u001b[1;33m)\u001b[0m\u001b[1;33m:\u001b[0m\u001b[1;33m\u001b[0m\u001b[1;33m\u001b[0m\u001b[0m\n\u001b[1;32m--> 286\u001b[1;33m                     \u001b[0mresults\u001b[0m\u001b[1;33m[\u001b[0m\u001b[0mi\u001b[0m\u001b[1;33m]\u001b[0m \u001b[1;33m=\u001b[0m \u001b[0mself\u001b[0m\u001b[1;33m.\u001b[0m\u001b[0mf\u001b[0m\u001b[1;33m(\u001b[0m\u001b[0mv\u001b[0m\u001b[1;33m)\u001b[0m\u001b[1;33m\u001b[0m\u001b[1;33m\u001b[0m\u001b[0m\n\u001b[0m\u001b[0;32m    287\u001b[0m                     \u001b[0mkeys\u001b[0m\u001b[1;33m.\u001b[0m\u001b[0mappend\u001b[0m\u001b[1;33m(\u001b[0m\u001b[0mv\u001b[0m\u001b[1;33m.\u001b[0m\u001b[0mname\u001b[0m\u001b[1;33m)\u001b[0m\u001b[1;33m\u001b[0m\u001b[1;33m\u001b[0m\u001b[0m\n\u001b[0;32m    288\u001b[0m             \u001b[1;32mexcept\u001b[0m \u001b[0mException\u001b[0m \u001b[1;32mas\u001b[0m \u001b[0me\u001b[0m\u001b[1;33m:\u001b[0m\u001b[1;33m\u001b[0m\u001b[1;33m\u001b[0m\u001b[0m\n",
      "\u001b[1;32m<ipython-input-222-df359bb0b8a6>\u001b[0m in \u001b[0;36m<lambda>\u001b[1;34m(row)\u001b[0m\n\u001b[1;32m----> 1\u001b[1;33m portfolio[\"poids_var\"]= portfolio.apply(lambda row: poids_opti(row[0], row[1])\n\u001b[0m\u001b[0;32m      2\u001b[0m                                        , axis= 1)\n",
      "\u001b[1;32m<ipython-input-220-5d473a8927f2>\u001b[0m in \u001b[0;36mpoids_opti\u001b[1;34m(row0, row1)\u001b[0m\n\u001b[0;32m      7\u001b[0m         \u001b[0mtest\u001b[0m\u001b[1;33m=\u001b[0m \u001b[0mnp\u001b[0m\u001b[1;33m.\u001b[0m\u001b[0marray\u001b[0m\u001b[1;33m(\u001b[0m\u001b[1;33m[\u001b[0m\u001b[0mrandom\u001b[0m\u001b[1;33m.\u001b[0m\u001b[0mrandom\u001b[0m\u001b[1;33m(\u001b[0m\u001b[1;33m)\u001b[0m \u001b[1;32mfor\u001b[0m \u001b[0m_\u001b[0m \u001b[1;32min\u001b[0m \u001b[0mrange\u001b[0m\u001b[1;33m(\u001b[0m\u001b[0mlen\u001b[0m\u001b[1;33m(\u001b[0m\u001b[0mrow0\u001b[0m\u001b[1;33m)\u001b[0m\u001b[1;33m)\u001b[0m\u001b[1;33m]\u001b[0m\u001b[1;33m)\u001b[0m\u001b[1;33m\u001b[0m\u001b[1;33m\u001b[0m\u001b[0m\n\u001b[0;32m      8\u001b[0m         \u001b[0mtest\u001b[0m\u001b[1;33m=\u001b[0m \u001b[0mtest\u001b[0m\u001b[1;33m/\u001b[0m\u001b[0mnp\u001b[0m\u001b[1;33m.\u001b[0m\u001b[0msum\u001b[0m\u001b[1;33m(\u001b[0m\u001b[0mtest\u001b[0m\u001b[1;33m)\u001b[0m\u001b[1;33m\u001b[0m\u001b[1;33m\u001b[0m\u001b[0m\n\u001b[1;32m----> 9\u001b[1;33m         \u001b[0mres_var\u001b[0m\u001b[1;33m=\u001b[0m \u001b[0mnp\u001b[0m\u001b[1;33m.\u001b[0m\u001b[0masarray\u001b[0m\u001b[1;33m(\u001b[0m\u001b[0mnp\u001b[0m\u001b[1;33m.\u001b[0m\u001b[0mdot\u001b[0m\u001b[1;33m(\u001b[0m\u001b[0mnp\u001b[0m\u001b[1;33m.\u001b[0m\u001b[0mdot\u001b[0m\u001b[1;33m(\u001b[0m\u001b[0mtest\u001b[0m\u001b[1;33m.\u001b[0m\u001b[0mT\u001b[0m\u001b[1;33m,\u001b[0m \u001b[0mcov_test\u001b[0m\u001b[1;33m)\u001b[0m\u001b[1;33m,\u001b[0m \u001b[0mtest\u001b[0m\u001b[1;33m)\u001b[0m\u001b[1;33m)\u001b[0m\u001b[1;33m[\u001b[0m\u001b[1;36m0\u001b[0m\u001b[1;33m]\u001b[0m\u001b[1;33m[\u001b[0m\u001b[1;36m0\u001b[0m\u001b[1;33m]\u001b[0m\u001b[1;33m\u001b[0m\u001b[1;33m\u001b[0m\u001b[0m\n\u001b[0m\u001b[0;32m     10\u001b[0m         \u001b[0mstock_var_portfolio\u001b[0m\u001b[1;33m[\u001b[0m\u001b[0mres_var\u001b[0m\u001b[1;33m]\u001b[0m\u001b[1;33m=\u001b[0m \u001b[0mtest\u001b[0m\u001b[1;33m\u001b[0m\u001b[1;33m\u001b[0m\u001b[0m\n\u001b[0;32m     11\u001b[0m     \u001b[1;32mreturn\u001b[0m \u001b[0mmin\u001b[0m\u001b[1;33m(\u001b[0m\u001b[0mstock_var_portfolio\u001b[0m\u001b[1;33m.\u001b[0m\u001b[0mitems\u001b[0m\u001b[1;33m(\u001b[0m\u001b[1;33m)\u001b[0m\u001b[1;33m,\u001b[0m \u001b[0mkey\u001b[0m\u001b[1;33m=\u001b[0m\u001b[1;32mlambda\u001b[0m \u001b[0mx\u001b[0m\u001b[1;33m:\u001b[0m \u001b[0mx\u001b[0m\u001b[1;33m[\u001b[0m\u001b[1;36m0\u001b[0m\u001b[1;33m]\u001b[0m\u001b[1;33m)\u001b[0m\u001b[1;33m\u001b[0m\u001b[1;33m\u001b[0m\u001b[0m\n",
      "\u001b[1;31mValueError\u001b[0m: ('shapes (5,) and (3,3) not aligned: 5 (dim 0) != 3 (dim 0)', 'occurred at index 1')"
     ]
    }
   ],
   "source": [
    "portfolio[\"poids_var\"]= portfolio.apply(lambda row: poids_opti(row[0], row[1])\n",
    "                                       , axis= 1)"
   ]
  },
  {
   "cell_type": "code",
   "execution_count": 223,
   "metadata": {
    "ExecuteTime": {
     "end_time": "2020-04-07T10:25:42.212227Z",
     "start_time": "2020-04-07T10:25:42.130443Z"
    }
   },
   "outputs": [
    {
     "data": {
      "text/html": [
       "<div>\n",
       "<style scoped>\n",
       "    .dataframe tbody tr th:only-of-type {\n",
       "        vertical-align: middle;\n",
       "    }\n",
       "\n",
       "    .dataframe tbody tr th {\n",
       "        vertical-align: top;\n",
       "    }\n",
       "\n",
       "    .dataframe thead th {\n",
       "        text-align: right;\n",
       "    }\n",
       "</style>\n",
       "<table border=\"1\" class=\"dataframe\">\n",
       "  <thead>\n",
       "    <tr style=\"text-align: right;\">\n",
       "      <th></th>\n",
       "      <th>portfolio</th>\n",
       "      <th>cov</th>\n",
       "    </tr>\n",
       "  </thead>\n",
       "  <tbody>\n",
       "    <tr>\n",
       "      <th>0</th>\n",
       "      <td>[HES US Equity, MO US Equity, WELL US Equity]</td>\n",
       "      <td>[[[[[100.41903311   6.72056771   4.09955939]]]...</td>\n",
       "    </tr>\n",
       "    <tr>\n",
       "      <th>1</th>\n",
       "      <td>[TGT US Equity, DUK US Equity, DTE US Equity, ...</td>\n",
       "      <td>[[[[[43.5782631  -2.28759833 -0.48547121  1.54...</td>\n",
       "    </tr>\n",
       "    <tr>\n",
       "      <th>2</th>\n",
       "      <td>[PPL US Equity, MO US Equity, DTE US Equity]</td>\n",
       "      <td>[[[[[19.51266423  6.70958138  9.18255513]]]], ...</td>\n",
       "    </tr>\n",
       "    <tr>\n",
       "      <th>3</th>\n",
       "      <td>[KMB US Equity, PPL US Equity, WEC US Equity]</td>\n",
       "      <td>[[[[[18.98891434  6.79175117  8.30634734]]]], ...</td>\n",
       "    </tr>\n",
       "    <tr>\n",
       "      <th>4</th>\n",
       "      <td>[HES US Equity, MO US Equity, DTE US Equity, W...</td>\n",
       "      <td>[[[[[100.41903311   6.72056771   4.50376371   ...</td>\n",
       "    </tr>\n",
       "  </tbody>\n",
       "</table>\n",
       "</div>"
      ],
      "text/plain": [
       "                                           portfolio  \\\n",
       "0      [HES US Equity, MO US Equity, WELL US Equity]   \n",
       "1  [TGT US Equity, DUK US Equity, DTE US Equity, ...   \n",
       "2       [PPL US Equity, MO US Equity, DTE US Equity]   \n",
       "3      [KMB US Equity, PPL US Equity, WEC US Equity]   \n",
       "4  [HES US Equity, MO US Equity, DTE US Equity, W...   \n",
       "\n",
       "                                                 cov  \n",
       "0  [[[[[100.41903311   6.72056771   4.09955939]]]...  \n",
       "1  [[[[[43.5782631  -2.28759833 -0.48547121  1.54...  \n",
       "2  [[[[[19.51266423  6.70958138  9.18255513]]]], ...  \n",
       "3  [[[[[18.98891434  6.79175117  8.30634734]]]], ...  \n",
       "4  [[[[[100.41903311   6.72056771   4.50376371   ...  "
      ]
     },
     "execution_count": 223,
     "metadata": {},
     "output_type": "execute_result"
    }
   ],
   "source": [
    "portfolio.head()"
   ]
  }
 ],
 "metadata": {
  "kernelspec": {
   "display_name": "Python 3",
   "language": "python",
   "name": "python3"
  },
  "language_info": {
   "codemirror_mode": {
    "name": "ipython",
    "version": 3
   },
   "file_extension": ".py",
   "mimetype": "text/x-python",
   "name": "python",
   "nbconvert_exporter": "python",
   "pygments_lexer": "ipython3",
   "version": "3.7.4"
  }
 },
 "nbformat": 4,
 "nbformat_minor": 2
}
