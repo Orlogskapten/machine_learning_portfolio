{
 "cells": [
  {
   "cell_type": "markdown",
   "metadata": {},
   "source": [
    "# Portfolio LONG ONLY"
   ]
  },
  {
   "cell_type": "code",
   "execution_count": 2,
   "metadata": {
    "ExecuteTime": {
     "end_time": "2020-04-08T13:02:18.862611Z",
     "start_time": "2020-04-08T13:02:13.120597Z"
    }
   },
   "outputs": [],
   "source": [
    "import pandas as pd\n",
    "import numpy as np\n",
    "import matplotlib.pyplot as plt\n",
    "import matplotlib as mpl\n",
    "import seaborn as sns\n",
    "\n",
    "import random\n",
    "import ast\n",
    "\n",
    "import sys"
   ]
  },
  {
   "cell_type": "code",
   "execution_count": 3,
   "metadata": {
    "ExecuteTime": {
     "end_time": "2020-04-08T13:02:19.221920Z",
     "start_time": "2020-04-08T13:02:18.865603Z"
    }
   },
   "outputs": [],
   "source": [
    "data= pd.read_csv(\"../data/return.csv\")\n",
    "sp= pd.read_csv(\"../data/sp500.csv\")\n",
    "portfolio= pd.read_csv(\"../data/portfolio_constitution.csv\")\n",
    "return_predict_month= pd.read_excel(\"../data/return_predict_monthly.xlsx\")"
   ]
  },
  {
   "cell_type": "code",
   "execution_count": 4,
   "metadata": {
    "ExecuteTime": {
     "end_time": "2020-04-08T13:02:19.355905Z",
     "start_time": "2020-04-08T13:02:19.228216Z"
    }
   },
   "outputs": [
    {
     "data": {
      "text/html": [
       "<div>\n",
       "<style scoped>\n",
       "    .dataframe tbody tr th:only-of-type {\n",
       "        vertical-align: middle;\n",
       "    }\n",
       "\n",
       "    .dataframe tbody tr th {\n",
       "        vertical-align: top;\n",
       "    }\n",
       "\n",
       "    .dataframe thead th {\n",
       "        text-align: right;\n",
       "    }\n",
       "</style>\n",
       "<table border=\"1\" class=\"dataframe\">\n",
       "  <thead>\n",
       "    <tr style=\"text-align: right;\">\n",
       "      <th></th>\n",
       "      <th>Asset</th>\n",
       "      <th>Model</th>\n",
       "      <th>Returns_predict</th>\n",
       "    </tr>\n",
       "  </thead>\n",
       "  <tbody>\n",
       "    <tr>\n",
       "      <th>0</th>\n",
       "      <td>HES US Equity</td>\n",
       "      <td>&lt;catboost.core.CatBoostRegressor object at 0x7...</td>\n",
       "      <td>[-2.832813166301726, 1.0798846506686033, -3.68...</td>\n",
       "    </tr>\n",
       "    <tr>\n",
       "      <th>1</th>\n",
       "      <td>NEM US Equity</td>\n",
       "      <td>RandomForestRegressor</td>\n",
       "      <td>[-0.9924100669999997, -0.8786505200000004, -4....</td>\n",
       "    </tr>\n",
       "    <tr>\n",
       "      <th>2</th>\n",
       "      <td>INTC US Equity</td>\n",
       "      <td>RandomForestRegressor</td>\n",
       "      <td>[-0.2536885459999996, -2.2266463759999984, 0.0...</td>\n",
       "    </tr>\n",
       "    <tr>\n",
       "      <th>3</th>\n",
       "      <td>IFF US Equity</td>\n",
       "      <td>RandomForestRegressor</td>\n",
       "      <td>[2.5741313260000025, 2.865933291000004, 1.6514...</td>\n",
       "    </tr>\n",
       "    <tr>\n",
       "      <th>4</th>\n",
       "      <td>MOS US Equity</td>\n",
       "      <td>XGBRegressor</td>\n",
       "      <td>[-0.2642870545387268, -8.006417274475098, 7.39...</td>\n",
       "    </tr>\n",
       "  </tbody>\n",
       "</table>\n",
       "</div>"
      ],
      "text/plain": [
       "            Asset                                              Model  \\\n",
       "0   HES US Equity  <catboost.core.CatBoostRegressor object at 0x7...   \n",
       "1   NEM US Equity                              RandomForestRegressor   \n",
       "2  INTC US Equity                              RandomForestRegressor   \n",
       "3   IFF US Equity                              RandomForestRegressor   \n",
       "4   MOS US Equity                                       XGBRegressor   \n",
       "\n",
       "                                     Returns_predict  \n",
       "0  [-2.832813166301726, 1.0798846506686033, -3.68...  \n",
       "1  [-0.9924100669999997, -0.8786505200000004, -4....  \n",
       "2  [-0.2536885459999996, -2.2266463759999984, 0.0...  \n",
       "3  [2.5741313260000025, 2.865933291000004, 1.6514...  \n",
       "4  [-0.2642870545387268, -8.006417274475098, 7.39...  "
      ]
     },
     "execution_count": 4,
     "metadata": {},
     "output_type": "execute_result"
    }
   ],
   "source": [
    "return_predict_month[\"Returns_predict\"]= return_predict_month[\"Returns_predict\"].apply(ast.literal_eval)\n",
    "return_predict_month.head()"
   ]
  },
  {
   "cell_type": "code",
   "execution_count": 5,
   "metadata": {
    "ExecuteTime": {
     "end_time": "2020-04-08T13:02:19.456418Z",
     "start_time": "2020-04-08T13:02:19.360396Z"
    }
   },
   "outputs": [
    {
     "data": {
      "text/html": [
       "<div>\n",
       "<style scoped>\n",
       "    .dataframe tbody tr th:only-of-type {\n",
       "        vertical-align: middle;\n",
       "    }\n",
       "\n",
       "    .dataframe tbody tr th {\n",
       "        vertical-align: top;\n",
       "    }\n",
       "\n",
       "    .dataframe thead th {\n",
       "        text-align: right;\n",
       "    }\n",
       "</style>\n",
       "<table border=\"1\" class=\"dataframe\">\n",
       "  <thead>\n",
       "    <tr style=\"text-align: right;\">\n",
       "      <th></th>\n",
       "      <th>Date</th>\n",
       "      <th>return</th>\n",
       "    </tr>\n",
       "  </thead>\n",
       "  <tbody>\n",
       "    <tr>\n",
       "      <th>1</th>\n",
       "      <td>2010-01-01</td>\n",
       "      <td>-3.697425</td>\n",
       "    </tr>\n",
       "    <tr>\n",
       "      <th>2</th>\n",
       "      <td>2010-02-01</td>\n",
       "      <td>2.851369</td>\n",
       "    </tr>\n",
       "    <tr>\n",
       "      <th>3</th>\n",
       "      <td>2010-03-01</td>\n",
       "      <td>5.879643</td>\n",
       "    </tr>\n",
       "    <tr>\n",
       "      <th>4</th>\n",
       "      <td>2010-04-01</td>\n",
       "      <td>1.475923</td>\n",
       "    </tr>\n",
       "    <tr>\n",
       "      <th>5</th>\n",
       "      <td>2010-05-01</td>\n",
       "      <td>-8.197584</td>\n",
       "    </tr>\n",
       "  </tbody>\n",
       "</table>\n",
       "</div>"
      ],
      "text/plain": [
       "         Date    return\n",
       "1  2010-01-01 -3.697425\n",
       "2  2010-02-01  2.851369\n",
       "3  2010-03-01  5.879643\n",
       "4  2010-04-01  1.475923\n",
       "5  2010-05-01 -8.197584"
      ]
     },
     "execution_count": 5,
     "metadata": {},
     "output_type": "execute_result"
    }
   ],
   "source": [
    "sp[\"return\"]= 100 * (sp[\"Close\"].shift(-1) - sp[\"Close\"])/sp[\"Close\"]\n",
    "sp[\"return\"]= sp[\"return\"].shift(1)\n",
    "sp_return= sp[[\"Date\", \"return\"]].dropna()\n",
    "sp_return.head()"
   ]
  },
  {
   "cell_type": "code",
   "execution_count": 6,
   "metadata": {
    "ExecuteTime": {
     "end_time": "2020-04-08T13:02:19.492539Z",
     "start_time": "2020-04-08T13:02:19.459409Z"
    }
   },
   "outputs": [
    {
     "data": {
      "text/html": [
       "<div>\n",
       "<style scoped>\n",
       "    .dataframe tbody tr th:only-of-type {\n",
       "        vertical-align: middle;\n",
       "    }\n",
       "\n",
       "    .dataframe tbody tr th {\n",
       "        vertical-align: top;\n",
       "    }\n",
       "\n",
       "    .dataframe thead th {\n",
       "        text-align: right;\n",
       "    }\n",
       "</style>\n",
       "<table border=\"1\" class=\"dataframe\">\n",
       "  <thead>\n",
       "    <tr style=\"text-align: right;\">\n",
       "      <th></th>\n",
       "      <th>Date</th>\n",
       "      <th>Open</th>\n",
       "      <th>High</th>\n",
       "      <th>Low</th>\n",
       "      <th>Close</th>\n",
       "      <th>Adj Close</th>\n",
       "      <th>Volume</th>\n",
       "      <th>return</th>\n",
       "    </tr>\n",
       "  </thead>\n",
       "  <tbody>\n",
       "    <tr>\n",
       "      <th>0</th>\n",
       "      <td>2009-12-01</td>\n",
       "      <td>1098.890015</td>\n",
       "      <td>1130.380005</td>\n",
       "      <td>1085.890015</td>\n",
       "      <td>1115.099976</td>\n",
       "      <td>1115.099976</td>\n",
       "      <td>89515330000</td>\n",
       "      <td>NaN</td>\n",
       "    </tr>\n",
       "    <tr>\n",
       "      <th>1</th>\n",
       "      <td>2010-01-01</td>\n",
       "      <td>1116.560059</td>\n",
       "      <td>1150.449951</td>\n",
       "      <td>1071.589966</td>\n",
       "      <td>1073.869995</td>\n",
       "      <td>1073.869995</td>\n",
       "      <td>90947580000</td>\n",
       "      <td>-3.697425</td>\n",
       "    </tr>\n",
       "    <tr>\n",
       "      <th>2</th>\n",
       "      <td>2010-02-01</td>\n",
       "      <td>1073.890015</td>\n",
       "      <td>1112.420044</td>\n",
       "      <td>1044.500000</td>\n",
       "      <td>1104.489990</td>\n",
       "      <td>1104.489990</td>\n",
       "      <td>84561340000</td>\n",
       "      <td>2.851369</td>\n",
       "    </tr>\n",
       "    <tr>\n",
       "      <th>3</th>\n",
       "      <td>2010-03-01</td>\n",
       "      <td>1105.359985</td>\n",
       "      <td>1180.689941</td>\n",
       "      <td>1105.359985</td>\n",
       "      <td>1169.430054</td>\n",
       "      <td>1169.430054</td>\n",
       "      <td>103683550000</td>\n",
       "      <td>5.879643</td>\n",
       "    </tr>\n",
       "    <tr>\n",
       "      <th>4</th>\n",
       "      <td>2010-04-01</td>\n",
       "      <td>1171.229980</td>\n",
       "      <td>1219.800049</td>\n",
       "      <td>1170.689941</td>\n",
       "      <td>1186.689941</td>\n",
       "      <td>1186.689941</td>\n",
       "      <td>116741910000</td>\n",
       "      <td>1.475923</td>\n",
       "    </tr>\n",
       "  </tbody>\n",
       "</table>\n",
       "</div>"
      ],
      "text/plain": [
       "         Date         Open         High          Low        Close  \\\n",
       "0  2009-12-01  1098.890015  1130.380005  1085.890015  1115.099976   \n",
       "1  2010-01-01  1116.560059  1150.449951  1071.589966  1073.869995   \n",
       "2  2010-02-01  1073.890015  1112.420044  1044.500000  1104.489990   \n",
       "3  2010-03-01  1105.359985  1180.689941  1105.359985  1169.430054   \n",
       "4  2010-04-01  1171.229980  1219.800049  1170.689941  1186.689941   \n",
       "\n",
       "     Adj Close        Volume    return  \n",
       "0  1115.099976   89515330000       NaN  \n",
       "1  1073.869995   90947580000 -3.697425  \n",
       "2  1104.489990   84561340000  2.851369  \n",
       "3  1169.430054  103683550000  5.879643  \n",
       "4  1186.689941  116741910000  1.475923  "
      ]
     },
     "execution_count": 6,
     "metadata": {},
     "output_type": "execute_result"
    }
   ],
   "source": [
    "sp.head()"
   ]
  },
  {
   "cell_type": "code",
   "execution_count": 9,
   "metadata": {
    "ExecuteTime": {
     "end_time": "2020-04-08T13:14:31.623935Z",
     "start_time": "2020-04-08T13:14:31.616437Z"
    }
   },
   "outputs": [
    {
     "data": {
      "text/plain": [
       "1.3550165817994166"
      ]
     },
     "execution_count": 9,
     "metadata": {},
     "output_type": "execute_result"
    }
   ],
   "source": [
    "testok= sp[\"Close\"].values\n",
    "testok[0]/testok[-1] + 1"
   ]
  },
  {
   "cell_type": "code",
   "execution_count": 102,
   "metadata": {
    "ExecuteTime": {
     "end_time": "2020-04-07T13:09:55.910777Z",
     "start_time": "2020-04-07T13:09:55.841961Z"
    }
   },
   "outputs": [
    {
     "data": {
      "text/plain": [
       "['HES US Equity', 'MO US Equity', 'WELL US Equity']"
      ]
     },
     "execution_count": 102,
     "metadata": {},
     "output_type": "execute_result"
    }
   ],
   "source": [
    "# transforme le df avec les titres des portefeuilles\n",
    "portfolio[\"portfolio\"]= portfolio[\"portfolio\"].str.strip('][').str.split(', ')\n",
    "portfolio[\"portfolio\"]= portfolio[\"portfolio\"].apply(\n",
    "    lambda row: [x.replace(\"'\", \"\") for x in row])\n",
    "\n",
    "portfolio.head()\n",
    "portfolio[\"portfolio\"][0]"
   ]
  },
  {
   "cell_type": "code",
   "execution_count": 103,
   "metadata": {
    "ExecuteTime": {
     "end_time": "2020-04-07T13:09:55.929725Z",
     "start_time": "2020-04-07T13:09:55.917759Z"
    }
   },
   "outputs": [],
   "source": [
    "# calcul cov et var\n",
    "tickers= [i for i in data.columns if i not in [\"Date1\", \"Date2\"]]\n",
    "data_tickers= data[tickers]\n",
    "\n",
    "data_corr= data_tickers.corr()\n",
    "data_cov= data_tickers.cov()\n",
    "\n",
    "\n",
    "# std= np.std(data_tickers, axis= 0)\n",
    "# idn= std.index\n",
    "\n",
    "# std_dict= {idn[i]:std[i] for i in range(len(std))}\n",
    "# std_dict"
   ]
  },
  {
   "cell_type": "code",
   "execution_count": 104,
   "metadata": {
    "ExecuteTime": {
     "end_time": "2020-04-07T13:09:55.951668Z",
     "start_time": "2020-04-07T13:09:55.937705Z"
    }
   },
   "outputs": [
    {
     "data": {
      "text/plain": [
       "array([[0.02560072, 0.50609691, 0.6028089 , 0.33309068, 0.20500217],\n",
       "       [0.23339058, 0.00907911, 0.07668915, 0.4438735 , 0.6524501 ],\n",
       "       [0.74100869, 0.48482399, 0.32050194, 0.22303582, 0.14254773]])"
      ]
     },
     "execution_count": 104,
     "metadata": {},
     "output_type": "execute_result"
    }
   ],
   "source": [
    "test= np.array([[23, 21, 17, 10, 9], [6, 5, 9, 7, 3], [0, -2, -6, 2, 0]])\n",
    "test\n",
    "w_test= np.array([[random.random() for _ in range(test.shape[1])] for _ in range(test.shape[0])])\n",
    "w_test2= w_test/np.sum(w_test, axis= 0)\n",
    "w_test2"
   ]
  },
  {
   "cell_type": "code",
   "execution_count": 105,
   "metadata": {
    "ExecuteTime": {
     "end_time": "2020-04-07T13:09:55.965631Z",
     "start_time": "2020-04-07T13:09:55.955658Z"
    }
   },
   "outputs": [
    {
     "data": {
      "text/plain": [
       "array([0.02560072, 0.23339058, 0.74100869])"
      ]
     },
     "execution_count": 105,
     "metadata": {},
     "output_type": "execute_result"
    }
   ],
   "source": [
    "# w_test2.T * le return sur toutes les périodes\n",
    "w_test2.T[0]"
   ]
  },
  {
   "cell_type": "code",
   "execution_count": 106,
   "metadata": {
    "ExecuteTime": {
     "end_time": "2020-04-07T13:10:32.575888Z",
     "start_time": "2020-04-07T13:09:55.968622Z"
    }
   },
   "outputs": [],
   "source": [
    "# ajout matrice var cov dans le dataset par portefeuille\n",
    "\n",
    "portfolio[\"cov\"]= portfolio[\"portfolio\"].apply(lambda row: np.matrix(data_cov.loc[row, row]))\n",
    "# save\n",
    "portfolio.to_csv(\"../data/result_portfolio.csv\", index= False, header= True)"
   ]
  },
  {
   "cell_type": "code",
   "execution_count": 107,
   "metadata": {
    "ExecuteTime": {
     "end_time": "2020-04-07T13:10:32.637725Z",
     "start_time": "2020-04-07T13:10:32.579879Z"
    }
   },
   "outputs": [
    {
     "data": {
      "text/html": [
       "<div>\n",
       "<style scoped>\n",
       "    .dataframe tbody tr th:only-of-type {\n",
       "        vertical-align: middle;\n",
       "    }\n",
       "\n",
       "    .dataframe tbody tr th {\n",
       "        vertical-align: top;\n",
       "    }\n",
       "\n",
       "    .dataframe thead th {\n",
       "        text-align: right;\n",
       "    }\n",
       "</style>\n",
       "<table border=\"1\" class=\"dataframe\">\n",
       "  <thead>\n",
       "    <tr style=\"text-align: right;\">\n",
       "      <th></th>\n",
       "      <th>TGT US Equity</th>\n",
       "      <th>DUK US Equity</th>\n",
       "      <th>DTE US Equity</th>\n",
       "      <th>HSY US Equity</th>\n",
       "      <th>WEC US Equity</th>\n",
       "    </tr>\n",
       "  </thead>\n",
       "  <tbody>\n",
       "    <tr>\n",
       "      <th>TGT US Equity</th>\n",
       "      <td>43.578263</td>\n",
       "      <td>-2.287598</td>\n",
       "      <td>-0.485471</td>\n",
       "      <td>1.547108</td>\n",
       "      <td>1.067696</td>\n",
       "    </tr>\n",
       "    <tr>\n",
       "      <th>DUK US Equity</th>\n",
       "      <td>-2.287598</td>\n",
       "      <td>15.092307</td>\n",
       "      <td>12.000453</td>\n",
       "      <td>6.921832</td>\n",
       "      <td>13.998862</td>\n",
       "    </tr>\n",
       "    <tr>\n",
       "      <th>DTE US Equity</th>\n",
       "      <td>-0.485471</td>\n",
       "      <td>12.000453</td>\n",
       "      <td>14.839588</td>\n",
       "      <td>8.117057</td>\n",
       "      <td>13.855017</td>\n",
       "    </tr>\n",
       "    <tr>\n",
       "      <th>HSY US Equity</th>\n",
       "      <td>1.547108</td>\n",
       "      <td>6.921832</td>\n",
       "      <td>8.117057</td>\n",
       "      <td>24.238535</td>\n",
       "      <td>8.163991</td>\n",
       "    </tr>\n",
       "    <tr>\n",
       "      <th>WEC US Equity</th>\n",
       "      <td>1.067696</td>\n",
       "      <td>13.998862</td>\n",
       "      <td>13.855017</td>\n",
       "      <td>8.163991</td>\n",
       "      <td>18.955652</td>\n",
       "    </tr>\n",
       "  </tbody>\n",
       "</table>\n",
       "</div>"
      ],
      "text/plain": [
       "               TGT US Equity  DUK US Equity  DTE US Equity  HSY US Equity  \\\n",
       "TGT US Equity      43.578263      -2.287598      -0.485471       1.547108   \n",
       "DUK US Equity      -2.287598      15.092307      12.000453       6.921832   \n",
       "DTE US Equity      -0.485471      12.000453      14.839588       8.117057   \n",
       "HSY US Equity       1.547108       6.921832       8.117057      24.238535   \n",
       "WEC US Equity       1.067696      13.998862      13.855017       8.163991   \n",
       "\n",
       "               WEC US Equity  \n",
       "TGT US Equity       1.067696  \n",
       "DUK US Equity      13.998862  \n",
       "DTE US Equity      13.855017  \n",
       "HSY US Equity       8.163991  \n",
       "WEC US Equity      18.955652  "
      ]
     },
     "execution_count": 107,
     "metadata": {},
     "output_type": "execute_result"
    }
   ],
   "source": [
    "data_cov.loc[portfolio[\"portfolio\"][1], portfolio[\"portfolio\"][1]]"
   ]
  },
  {
   "cell_type": "code",
   "execution_count": 108,
   "metadata": {
    "ExecuteTime": {
     "end_time": "2020-04-07T13:10:32.664652Z",
     "start_time": "2020-04-07T13:10:32.642712Z"
    }
   },
   "outputs": [
    {
     "data": {
      "text/plain": [
       "array([[0.39715045, 0.1808522 , 0.11928259, 0.29924551, 0.0176572 ],\n",
       "       [0.17312068, 0.11217693, 0.30357425, 0.34203537, 0.32723007],\n",
       "       [0.42972887, 0.70697087, 0.57714316, 0.35871912, 0.65511273]])"
      ]
     },
     "execution_count": 108,
     "metadata": {},
     "output_type": "execute_result"
    }
   ],
   "source": [
    "w_test= np.array([[random.random() for _ in range(test.shape[1])] for _ in range(test.shape[0])])\n",
    "w_test2= w_test/np.sum(w_test, axis= 0)\n",
    "w_test2"
   ]
  },
  {
   "cell_type": "code",
   "execution_count": 109,
   "metadata": {
    "ExecuteTime": {
     "end_time": "2020-04-07T13:10:32.692577Z",
     "start_time": "2020-04-07T13:10:32.671634Z"
    }
   },
   "outputs": [],
   "source": [
    "def poids_opti(row0, row1):\n",
    "    stock_var_portfolio= {}\n",
    "    for i in range(1000):\n",
    "    #     random.seed(55)\n",
    "#         cov_test= portfolio[\"cov\"][1]\n",
    "        cov_test= row1\n",
    "        test= np.array([random.random() for _ in range(len(row0))])\n",
    "        test= test/np.sum(test)\n",
    "        res_var= np.asarray(np.dot(np.dot(test.T, cov_test), test))[0][0]\n",
    "        stock_var_portfolio[res_var]= test\n",
    "    return min(stock_var_portfolio.items(), key=lambda x: x[0])"
   ]
  },
  {
   "cell_type": "code",
   "execution_count": 110,
   "metadata": {
    "ExecuteTime": {
     "end_time": "2020-04-07T13:10:32.808268Z",
     "start_time": "2020-04-07T13:10:32.701553Z"
    }
   },
   "outputs": [
    {
     "data": {
      "text/plain": [
       "(9.189516852268875,\n",
       " array([0.20272742, 0.35041467, 0.28551667, 0.14525224, 0.01608899]))"
      ]
     },
     "execution_count": 110,
     "metadata": {},
     "output_type": "execute_result"
    }
   ],
   "source": [
    "## stock_var_portfolio\n",
    "ok= poids_opti(portfolio[\"portfolio\"][1], portfolio[\"cov\"][1])\n",
    "ok\n",
    "# test= np.array([random.random() for _ in range(len(row0))])\n",
    "# test= test/np.sum(test)\n",
    "# res_var= np.asarray(np.dot(np.dot(test.T, cov_test), test))[0][0]"
   ]
  },
  {
   "cell_type": "code",
   "execution_count": 111,
   "metadata": {
    "ExecuteTime": {
     "end_time": "2020-04-07T13:18:27.174310Z",
     "start_time": "2020-04-07T13:10:32.812259Z"
    }
   },
   "outputs": [],
   "source": [
    "portfolio[\"poids_var\"]= portfolio.apply(lambda row: poids_opti(row[0], row[1])\n",
    "                                       , axis= 1)"
   ]
  },
  {
   "cell_type": "code",
   "execution_count": 112,
   "metadata": {
    "ExecuteTime": {
     "end_time": "2020-04-07T13:18:38.248655Z",
     "start_time": "2020-04-07T13:18:27.177298Z"
    }
   },
   "outputs": [
    {
     "data": {
      "text/html": [
       "<div>\n",
       "<style scoped>\n",
       "    .dataframe tbody tr th:only-of-type {\n",
       "        vertical-align: middle;\n",
       "    }\n",
       "\n",
       "    .dataframe tbody tr th {\n",
       "        vertical-align: top;\n",
       "    }\n",
       "\n",
       "    .dataframe thead th {\n",
       "        text-align: right;\n",
       "    }\n",
       "</style>\n",
       "<table border=\"1\" class=\"dataframe\">\n",
       "  <thead>\n",
       "    <tr style=\"text-align: right;\">\n",
       "      <th></th>\n",
       "      <th>portfolio</th>\n",
       "      <th>cov</th>\n",
       "      <th>poids_var</th>\n",
       "    </tr>\n",
       "  </thead>\n",
       "  <tbody>\n",
       "    <tr>\n",
       "      <th>0</th>\n",
       "      <td>[HES US Equity, MO US Equity, WELL US Equity]</td>\n",
       "      <td>[[[[[100.41903311   6.72056771   4.09955939]]]...</td>\n",
       "      <td>(15.969328981372433, [0.11594522554395133, 0.4...</td>\n",
       "    </tr>\n",
       "    <tr>\n",
       "      <th>1</th>\n",
       "      <td>[TGT US Equity, DUK US Equity, DTE US Equity, ...</td>\n",
       "      <td>[[[[[43.5782631  -2.28759833 -0.48547121  1.54...</td>\n",
       "      <td>(9.20021268755812, [0.220932843624211, 0.40894...</td>\n",
       "    </tr>\n",
       "    <tr>\n",
       "      <th>2</th>\n",
       "      <td>[PPL US Equity, MO US Equity, DTE US Equity]</td>\n",
       "      <td>[[[[[19.51266423  6.70958138  9.18255513]]]], ...</td>\n",
       "      <td>(11.444908619953848, [0.2864190230561245, 0.21...</td>\n",
       "    </tr>\n",
       "    <tr>\n",
       "      <th>3</th>\n",
       "      <td>[KMB US Equity, PPL US Equity, WEC US Equity]</td>\n",
       "      <td>[[[[[18.98891434  6.79175117  8.30634734]]]], ...</td>\n",
       "      <td>(11.77000920810331, [0.36815131523404365, 0.34...</td>\n",
       "    </tr>\n",
       "    <tr>\n",
       "      <th>4</th>\n",
       "      <td>[HES US Equity, MO US Equity, DTE US Equity, W...</td>\n",
       "      <td>[[[[[100.41903311   6.72056771   4.50376371   ...</td>\n",
       "      <td>(11.678257299587885, [0.07638415255470991, 0.2...</td>\n",
       "    </tr>\n",
       "  </tbody>\n",
       "</table>\n",
       "</div>"
      ],
      "text/plain": [
       "                                           portfolio  \\\n",
       "0      [HES US Equity, MO US Equity, WELL US Equity]   \n",
       "1  [TGT US Equity, DUK US Equity, DTE US Equity, ...   \n",
       "2       [PPL US Equity, MO US Equity, DTE US Equity]   \n",
       "3      [KMB US Equity, PPL US Equity, WEC US Equity]   \n",
       "4  [HES US Equity, MO US Equity, DTE US Equity, W...   \n",
       "\n",
       "                                                 cov  \\\n",
       "0  [[[[[100.41903311   6.72056771   4.09955939]]]...   \n",
       "1  [[[[[43.5782631  -2.28759833 -0.48547121  1.54...   \n",
       "2  [[[[[19.51266423  6.70958138  9.18255513]]]], ...   \n",
       "3  [[[[[18.98891434  6.79175117  8.30634734]]]], ...   \n",
       "4  [[[[[100.41903311   6.72056771   4.50376371   ...   \n",
       "\n",
       "                                           poids_var  \n",
       "0  (15.969328981372433, [0.11594522554395133, 0.4...  \n",
       "1  (9.20021268755812, [0.220932843624211, 0.40894...  \n",
       "2  (11.444908619953848, [0.2864190230561245, 0.21...  \n",
       "3  (11.77000920810331, [0.36815131523404365, 0.34...  \n",
       "4  (11.678257299587885, [0.07638415255470991, 0.2...  "
      ]
     },
     "execution_count": 112,
     "metadata": {},
     "output_type": "execute_result"
    }
   ],
   "source": [
    "# # save\n",
    "# portfolio.to_csv(\"../data/result_portfolio_weights.csv\", index= False, header= True)\n",
    "\n",
    "# portfolio.head()"
   ]
  },
  {
   "cell_type": "code",
   "execution_count": 1,
   "metadata": {
    "ExecuteTime": {
     "end_time": "2020-04-09T18:31:15.163258Z",
     "start_time": "2020-04-09T18:31:15.064520Z"
    }
   },
   "outputs": [
    {
     "ename": "NameError",
     "evalue": "name 'return_predict_month' is not defined",
     "output_type": "error",
     "traceback": [
      "\u001b[1;31m---------------------------------------------------------------------------\u001b[0m",
      "\u001b[1;31mNameError\u001b[0m                                 Traceback (most recent call last)",
      "\u001b[1;32m<ipython-input-1-a947b6277def>\u001b[0m in \u001b[0;36m<module>\u001b[1;34m\u001b[0m\n\u001b[0;32m      1\u001b[0m \u001b[1;31m# predicted_returns= return_predict_month[\"Returns_predict\"].values\u001b[0m\u001b[1;33m\u001b[0m\u001b[1;33m\u001b[0m\u001b[1;33m\u001b[0m\u001b[0m\n\u001b[0;32m      2\u001b[0m \u001b[1;33m\u001b[0m\u001b[0m\n\u001b[1;32m----> 3\u001b[1;33m \u001b[0msize\u001b[0m\u001b[1;33m=\u001b[0m \u001b[0mlen\u001b[0m\u001b[1;33m(\u001b[0m\u001b[0mreturn_predict_month\u001b[0m\u001b[1;33m[\u001b[0m\u001b[1;34m\"Returns_predict\"\u001b[0m\u001b[1;33m]\u001b[0m\u001b[1;33m[\u001b[0m\u001b[1;36m0\u001b[0m\u001b[1;33m]\u001b[0m\u001b[1;33m)\u001b[0m\u001b[1;33m\u001b[0m\u001b[1;33m\u001b[0m\u001b[0m\n\u001b[0m\u001b[0;32m      4\u001b[0m \u001b[1;33m\u001b[0m\u001b[0m\n\u001b[0;32m      5\u001b[0m \u001b[0mpredicted_returns\u001b[0m\u001b[1;33m=\u001b[0m \u001b[1;33m{\u001b[0m\u001b[1;33m}\u001b[0m\u001b[1;33m\u001b[0m\u001b[1;33m\u001b[0m\u001b[0m\n",
      "\u001b[1;31mNameError\u001b[0m: name 'return_predict_month' is not defined"
     ]
    }
   ],
   "source": [
    "# predicted_returns= return_predict_month[\"Returns_predict\"].values\n",
    "\n",
    "size= len(return_predict_month[\"Returns_predict\"][0])\n",
    "\n",
    "predicted_returns= {}\n",
    "for i in range(return_predict_month.shape[0]):\n",
    "    get_data= return_predict_month[[\"Asset\", \"Returns_predict\"]]\n",
    "    predicted_returns[get_data[\"Asset\"][i]]= get_data[\"Returns_predict\"][i]"
   ]
  },
  {
   "cell_type": "code",
   "execution_count": 114,
   "metadata": {
    "ExecuteTime": {
     "end_time": "2020-04-07T13:18:38.703742Z",
     "start_time": "2020-04-07T13:18:38.686729Z"
    }
   },
   "outputs": [],
   "source": [
    "def matrix_return_(port, returns_= predicted_returns):\n",
    "    test= port\n",
    "    ass_return= []\n",
    "    for ass in test:\n",
    "        ass_return.append(returns_[ass])\n",
    "\n",
    "    return np.array(ass_return)"
   ]
  },
  {
   "cell_type": "code",
   "execution_count": 115,
   "metadata": {
    "ExecuteTime": {
     "end_time": "2020-04-07T13:18:39.686104Z",
     "start_time": "2020-04-07T13:18:38.713713Z"
    }
   },
   "outputs": [],
   "source": [
    "portfolio[\"return_predicted\"]= portfolio[\"portfolio\"].apply(lambda row:\n",
    "                                                            matrix_return_(row))"
   ]
  },
  {
   "cell_type": "code",
   "execution_count": 116,
   "metadata": {
    "ExecuteTime": {
     "end_time": "2020-04-07T13:20:27.813628Z",
     "start_time": "2020-04-07T13:18:39.701065Z"
    }
   },
   "outputs": [],
   "source": [
    "# # save\n",
    "# portfolio.to_csv(\"../data/result_portfolio_weights_returnp.csv\", index= False, header= True)"
   ]
  },
  {
   "cell_type": "code",
   "execution_count": 117,
   "metadata": {
    "ExecuteTime": {
     "end_time": "2020-04-07T13:20:29.710554Z",
     "start_time": "2020-04-07T13:20:27.819608Z"
    }
   },
   "outputs": [],
   "source": [
    "data_effectif= data.iloc[data.shape[0]-size:, :48]\n",
    "\n",
    "ass_return= {}\n",
    "for ass in data_effectif.columns:\n",
    "    ass_return[ass]= [val for val in data_effectif[ass].values]\n",
    "ass_return\n",
    "\n",
    "def matrix_return_(port, returns_= ass_return):\n",
    "    test= port\n",
    "    ass_return= []\n",
    "    for ass in test:\n",
    "        ass_return.append(returns_[ass])\n",
    "\n",
    "    return np.array(ass_return)\n",
    "\n",
    "portfolio[\"return_effectif\"]= portfolio[\"portfolio\"].apply(lambda row:\n",
    "                                                            matrix_return_(row))"
   ]
  },
  {
   "cell_type": "code",
   "execution_count": 118,
   "metadata": {
    "ExecuteTime": {
     "end_time": "2020-04-07T13:24:01.576963Z",
     "start_time": "2020-04-07T13:20:29.715542Z"
    }
   },
   "outputs": [
    {
     "data": {
      "text/html": [
       "<div>\n",
       "<style scoped>\n",
       "    .dataframe tbody tr th:only-of-type {\n",
       "        vertical-align: middle;\n",
       "    }\n",
       "\n",
       "    .dataframe tbody tr th {\n",
       "        vertical-align: top;\n",
       "    }\n",
       "\n",
       "    .dataframe thead th {\n",
       "        text-align: right;\n",
       "    }\n",
       "</style>\n",
       "<table border=\"1\" class=\"dataframe\">\n",
       "  <thead>\n",
       "    <tr style=\"text-align: right;\">\n",
       "      <th></th>\n",
       "      <th>portfolio</th>\n",
       "      <th>cov</th>\n",
       "      <th>poids_var</th>\n",
       "      <th>return_predicted</th>\n",
       "      <th>return_effectif</th>\n",
       "    </tr>\n",
       "  </thead>\n",
       "  <tbody>\n",
       "    <tr>\n",
       "      <th>0</th>\n",
       "      <td>[HES US Equity, MO US Equity, WELL US Equity]</td>\n",
       "      <td>[[[[[100.41903311   6.72056771   4.09955939]]]...</td>\n",
       "      <td>(15.969328981372433, [0.11594522554395133, 0.4...</td>\n",
       "      <td>[[-2.832813166301726, 1.0798846506686033, -3.6...</td>\n",
       "      <td>[[-1.9668889999999999, 0.8801783999999999, -8....</td>\n",
       "    </tr>\n",
       "    <tr>\n",
       "      <th>1</th>\n",
       "      <td>[TGT US Equity, DUK US Equity, DTE US Equity, ...</td>\n",
       "      <td>[[[[[43.5782631  -2.28759833 -0.48547121  1.54...</td>\n",
       "      <td>(9.20021268755812, [0.220932843624211, 0.40894...</td>\n",
       "      <td>[[0.3509575223380869, -0.08107992137471835, -0...</td>\n",
       "      <td>[[-4.833492, -1.819636, 1.376736, -5.289723, 9...</td>\n",
       "    </tr>\n",
       "    <tr>\n",
       "      <th>2</th>\n",
       "      <td>[PPL US Equity, MO US Equity, DTE US Equity]</td>\n",
       "      <td>[[[[[19.51266423  6.70958138  9.18255513]]]], ...</td>\n",
       "      <td>(11.444908619953848, [0.2864190230561245, 0.21...</td>\n",
       "      <td>[[-0.2815525667233901, -0.1870743011434873, 0....</td>\n",
       "      <td>[[0.8521866, 8.418972, 2.770689, -0.002969211,...</td>\n",
       "    </tr>\n",
       "    <tr>\n",
       "      <th>3</th>\n",
       "      <td>[KMB US Equity, PPL US Equity, WEC US Equity]</td>\n",
       "      <td>[[[[[18.98891434  6.79175117  8.30634734]]]], ...</td>\n",
       "      <td>(11.77000920810331, [0.36815131523404365, 0.34...</td>\n",
       "      <td>[[0.45476294521461735, 0.7550758705277701, 1.9...</td>\n",
       "      <td>[[0.11973620000000001, 1.210357, 3.390857, -1....</td>\n",
       "    </tr>\n",
       "    <tr>\n",
       "      <th>4</th>\n",
       "      <td>[HES US Equity, MO US Equity, DTE US Equity, W...</td>\n",
       "      <td>[[[[[100.41903311   6.72056771   4.50376371   ...</td>\n",
       "      <td>(11.678257299587885, [0.07638415255470991, 0.2...</td>\n",
       "      <td>[[-2.832813166301726, 1.0798846506686033, -3.6...</td>\n",
       "      <td>[[-1.9668889999999999, 0.8801783999999999, -8....</td>\n",
       "    </tr>\n",
       "  </tbody>\n",
       "</table>\n",
       "</div>"
      ],
      "text/plain": [
       "                                           portfolio  \\\n",
       "0      [HES US Equity, MO US Equity, WELL US Equity]   \n",
       "1  [TGT US Equity, DUK US Equity, DTE US Equity, ...   \n",
       "2       [PPL US Equity, MO US Equity, DTE US Equity]   \n",
       "3      [KMB US Equity, PPL US Equity, WEC US Equity]   \n",
       "4  [HES US Equity, MO US Equity, DTE US Equity, W...   \n",
       "\n",
       "                                                 cov  \\\n",
       "0  [[[[[100.41903311   6.72056771   4.09955939]]]...   \n",
       "1  [[[[[43.5782631  -2.28759833 -0.48547121  1.54...   \n",
       "2  [[[[[19.51266423  6.70958138  9.18255513]]]], ...   \n",
       "3  [[[[[18.98891434  6.79175117  8.30634734]]]], ...   \n",
       "4  [[[[[100.41903311   6.72056771   4.50376371   ...   \n",
       "\n",
       "                                           poids_var  \\\n",
       "0  (15.969328981372433, [0.11594522554395133, 0.4...   \n",
       "1  (9.20021268755812, [0.220932843624211, 0.40894...   \n",
       "2  (11.444908619953848, [0.2864190230561245, 0.21...   \n",
       "3  (11.77000920810331, [0.36815131523404365, 0.34...   \n",
       "4  (11.678257299587885, [0.07638415255470991, 0.2...   \n",
       "\n",
       "                                    return_predicted  \\\n",
       "0  [[-2.832813166301726, 1.0798846506686033, -3.6...   \n",
       "1  [[0.3509575223380869, -0.08107992137471835, -0...   \n",
       "2  [[-0.2815525667233901, -0.1870743011434873, 0....   \n",
       "3  [[0.45476294521461735, 0.7550758705277701, 1.9...   \n",
       "4  [[-2.832813166301726, 1.0798846506686033, -3.6...   \n",
       "\n",
       "                                     return_effectif  \n",
       "0  [[-1.9668889999999999, 0.8801783999999999, -8....  \n",
       "1  [[-4.833492, -1.819636, 1.376736, -5.289723, 9...  \n",
       "2  [[0.8521866, 8.418972, 2.770689, -0.002969211,...  \n",
       "3  [[0.11973620000000001, 1.210357, 3.390857, -1....  \n",
       "4  [[-1.9668889999999999, 0.8801783999999999, -8....  "
      ]
     },
     "execution_count": 118,
     "metadata": {},
     "output_type": "execute_result"
    }
   ],
   "source": [
    "# # save\n",
    "# portfolio.to_csv(\"../data/result_portfolio_weights_returnp_e.csv\", index= False, header= True)\n",
    "\n",
    "# portfolio.head()"
   ]
  },
  {
   "cell_type": "code",
   "execution_count": 119,
   "metadata": {
    "ExecuteTime": {
     "end_time": "2020-04-07T13:24:01.634926Z",
     "start_time": "2020-04-07T13:24:01.580950Z"
    }
   },
   "outputs": [],
   "source": [
    "portfolio[\"var\"]= portfolio[\"poids_var\"].apply(lambda row: row[0])\n",
    "portfolio[\"poids_var\"]= portfolio[\"poids_var\"].apply(lambda row: row[1]).apply(lambda row: np.array(row))"
   ]
  },
  {
   "cell_type": "code",
   "execution_count": 120,
   "metadata": {
    "ExecuteTime": {
     "end_time": "2020-04-07T13:24:01.849657Z",
     "start_time": "2020-04-07T13:24:01.638919Z"
    }
   },
   "outputs": [
    {
     "data": {
      "text/html": [
       "<div>\n",
       "<style scoped>\n",
       "    .dataframe tbody tr th:only-of-type {\n",
       "        vertical-align: middle;\n",
       "    }\n",
       "\n",
       "    .dataframe tbody tr th {\n",
       "        vertical-align: top;\n",
       "    }\n",
       "\n",
       "    .dataframe thead th {\n",
       "        text-align: right;\n",
       "    }\n",
       "</style>\n",
       "<table border=\"1\" class=\"dataframe\">\n",
       "  <thead>\n",
       "    <tr style=\"text-align: right;\">\n",
       "      <th></th>\n",
       "      <th>portfolio</th>\n",
       "      <th>cov</th>\n",
       "      <th>poids_var</th>\n",
       "      <th>return_predicted</th>\n",
       "      <th>return_effectif</th>\n",
       "      <th>var</th>\n",
       "    </tr>\n",
       "  </thead>\n",
       "  <tbody>\n",
       "    <tr>\n",
       "      <th>0</th>\n",
       "      <td>[HES US Equity, MO US Equity, WELL US Equity]</td>\n",
       "      <td>[[[[[100.41903311   6.72056771   4.09955939]]]...</td>\n",
       "      <td>[0.11594522554395133, 0.44304832744179684, 0.4...</td>\n",
       "      <td>[[-2.832813166301726, 1.0798846506686033, -3.6...</td>\n",
       "      <td>[[-1.9668889999999999, 0.8801783999999999, -8....</td>\n",
       "      <td>15.969329</td>\n",
       "    </tr>\n",
       "    <tr>\n",
       "      <th>1</th>\n",
       "      <td>[TGT US Equity, DUK US Equity, DTE US Equity, ...</td>\n",
       "      <td>[[[[[43.5782631  -2.28759833 -0.48547121  1.54...</td>\n",
       "      <td>[0.220932843624211, 0.4089450400752729, 0.1127...</td>\n",
       "      <td>[[0.3509575223380869, -0.08107992137471835, -0...</td>\n",
       "      <td>[[-4.833492, -1.819636, 1.376736, -5.289723, 9...</td>\n",
       "      <td>9.200213</td>\n",
       "    </tr>\n",
       "    <tr>\n",
       "      <th>2</th>\n",
       "      <td>[PPL US Equity, MO US Equity, DTE US Equity]</td>\n",
       "      <td>[[[[[19.51266423  6.70958138  9.18255513]]]], ...</td>\n",
       "      <td>[0.2864190230561245, 0.21257649826609343, 0.50...</td>\n",
       "      <td>[[-0.2815525667233901, -0.1870743011434873, 0....</td>\n",
       "      <td>[[0.8521866, 8.418972, 2.770689, -0.002969211,...</td>\n",
       "      <td>11.444909</td>\n",
       "    </tr>\n",
       "    <tr>\n",
       "      <th>3</th>\n",
       "      <td>[KMB US Equity, PPL US Equity, WEC US Equity]</td>\n",
       "      <td>[[[[[18.98891434  6.79175117  8.30634734]]]], ...</td>\n",
       "      <td>[0.36815131523404365, 0.34206628075784323, 0.2...</td>\n",
       "      <td>[[0.45476294521461735, 0.7550758705277701, 1.9...</td>\n",
       "      <td>[[0.11973620000000001, 1.210357, 3.390857, -1....</td>\n",
       "      <td>11.770009</td>\n",
       "    </tr>\n",
       "    <tr>\n",
       "      <th>4</th>\n",
       "      <td>[HES US Equity, MO US Equity, DTE US Equity, W...</td>\n",
       "      <td>[[[[[100.41903311   6.72056771   4.50376371   ...</td>\n",
       "      <td>[0.07638415255470991, 0.2792108681164098, 0.39...</td>\n",
       "      <td>[[-2.832813166301726, 1.0798846506686033, -3.6...</td>\n",
       "      <td>[[-1.9668889999999999, 0.8801783999999999, -8....</td>\n",
       "      <td>11.678257</td>\n",
       "    </tr>\n",
       "  </tbody>\n",
       "</table>\n",
       "</div>"
      ],
      "text/plain": [
       "                                           portfolio  \\\n",
       "0      [HES US Equity, MO US Equity, WELL US Equity]   \n",
       "1  [TGT US Equity, DUK US Equity, DTE US Equity, ...   \n",
       "2       [PPL US Equity, MO US Equity, DTE US Equity]   \n",
       "3      [KMB US Equity, PPL US Equity, WEC US Equity]   \n",
       "4  [HES US Equity, MO US Equity, DTE US Equity, W...   \n",
       "\n",
       "                                                 cov  \\\n",
       "0  [[[[[100.41903311   6.72056771   4.09955939]]]...   \n",
       "1  [[[[[43.5782631  -2.28759833 -0.48547121  1.54...   \n",
       "2  [[[[[19.51266423  6.70958138  9.18255513]]]], ...   \n",
       "3  [[[[[18.98891434  6.79175117  8.30634734]]]], ...   \n",
       "4  [[[[[100.41903311   6.72056771   4.50376371   ...   \n",
       "\n",
       "                                           poids_var  \\\n",
       "0  [0.11594522554395133, 0.44304832744179684, 0.4...   \n",
       "1  [0.220932843624211, 0.4089450400752729, 0.1127...   \n",
       "2  [0.2864190230561245, 0.21257649826609343, 0.50...   \n",
       "3  [0.36815131523404365, 0.34206628075784323, 0.2...   \n",
       "4  [0.07638415255470991, 0.2792108681164098, 0.39...   \n",
       "\n",
       "                                    return_predicted  \\\n",
       "0  [[-2.832813166301726, 1.0798846506686033, -3.6...   \n",
       "1  [[0.3509575223380869, -0.08107992137471835, -0...   \n",
       "2  [[-0.2815525667233901, -0.1870743011434873, 0....   \n",
       "3  [[0.45476294521461735, 0.7550758705277701, 1.9...   \n",
       "4  [[-2.832813166301726, 1.0798846506686033, -3.6...   \n",
       "\n",
       "                                     return_effectif        var  \n",
       "0  [[-1.9668889999999999, 0.8801783999999999, -8....  15.969329  \n",
       "1  [[-4.833492, -1.819636, 1.376736, -5.289723, 9...   9.200213  \n",
       "2  [[0.8521866, 8.418972, 2.770689, -0.002969211,...  11.444909  \n",
       "3  [[0.11973620000000001, 1.210357, 3.390857, -1....  11.770009  \n",
       "4  [[-1.9668889999999999, 0.8801783999999999, -8....  11.678257  "
      ]
     },
     "execution_count": 120,
     "metadata": {},
     "output_type": "execute_result"
    }
   ],
   "source": [
    "portfolio.head()"
   ]
  },
  {
   "cell_type": "code",
   "execution_count": 156,
   "metadata": {
    "ExecuteTime": {
     "end_time": "2020-04-07T13:41:06.306854Z",
     "start_time": "2020-04-07T13:41:02.070012Z"
    }
   },
   "outputs": [],
   "source": [
    "portfolio[\"portfolio_return\"]= portfolio[[\"poids_var\", \"return_predicted\"]].apply(lambda row:\n",
    "                                                                                  np.dot(row[0], row[1])\n",
    "                                                                                 , axis= 1)\n",
    "portfolio[\"portfolio_return_effectif\"]= portfolio[[\"poids_var\", \"return_effectif\"]].apply(lambda row:\n",
    "                                                                                  np.dot(row[0], row[1])\n",
    "                                                                                 , axis= 1)\n",
    "\n",
    "# compute sharpe ratio (c'est pas vraiment un sharpe ratio)\n",
    "portfolio[\"relatif_return\"]= portfolio[[\"portfolio_return\", \"var\"]].apply(lambda row:\n",
    "                                                                         row[0]/row[1]\n",
    "                                                                         , axis= 1)"
   ]
  },
  {
   "cell_type": "code",
   "execution_count": 157,
   "metadata": {
    "ExecuteTime": {
     "end_time": "2020-04-07T13:41:06.463174Z",
     "start_time": "2020-04-07T13:41:06.309542Z"
    }
   },
   "outputs": [
    {
     "data": {
      "text/html": [
       "<div>\n",
       "<style scoped>\n",
       "    .dataframe tbody tr th:only-of-type {\n",
       "        vertical-align: middle;\n",
       "    }\n",
       "\n",
       "    .dataframe tbody tr th {\n",
       "        vertical-align: top;\n",
       "    }\n",
       "\n",
       "    .dataframe thead th {\n",
       "        text-align: right;\n",
       "    }\n",
       "</style>\n",
       "<table border=\"1\" class=\"dataframe\">\n",
       "  <thead>\n",
       "    <tr style=\"text-align: right;\">\n",
       "      <th></th>\n",
       "      <th>portfolio</th>\n",
       "      <th>cov</th>\n",
       "      <th>poids_var</th>\n",
       "      <th>return_predicted</th>\n",
       "      <th>return_effectif</th>\n",
       "      <th>var</th>\n",
       "      <th>portfolio_return</th>\n",
       "      <th>portfolio_return_effectif</th>\n",
       "      <th>relatif_return</th>\n",
       "    </tr>\n",
       "  </thead>\n",
       "  <tbody>\n",
       "    <tr>\n",
       "      <th>0</th>\n",
       "      <td>[HES US Equity, MO US Equity, WELL US Equity]</td>\n",
       "      <td>[[[[[100.41903311   6.72056771   4.09955939]]]...</td>\n",
       "      <td>[0.11594522554395133, 0.44304832744179684, 0.4...</td>\n",
       "      <td>[[-2.832813166301726, 1.0798846506686033, -3.6...</td>\n",
       "      <td>[[-1.9668889999999999, 0.8801783999999999, -8....</td>\n",
       "      <td>15.969329</td>\n",
       "      <td>[1.8778578802802723, 2.5288091337603777, 0.787...</td>\n",
       "      <td>[1.7999052478901443, 2.599222273274183, 1.2120...</td>\n",
       "      <td>[0.11759153327423566, 0.1583541260068053, 0.04...</td>\n",
       "    </tr>\n",
       "    <tr>\n",
       "      <th>1</th>\n",
       "      <td>[TGT US Equity, DUK US Equity, DTE US Equity, ...</td>\n",
       "      <td>[[[[[43.5782631  -2.28759833 -0.48547121  1.54...</td>\n",
       "      <td>[0.220932843624211, 0.4089450400752729, 0.1127...</td>\n",
       "      <td>[[0.3509575223380869, -0.08107992137471835, -0...</td>\n",
       "      <td>[[-4.833492, -1.819636, 1.376736, -5.289723, 9...</td>\n",
       "      <td>9.200213</td>\n",
       "      <td>[1.2435394621600115, 1.059170592822048, 0.7516...</td>\n",
       "      <td>[0.8615075562136874, 2.5758650440608157, 0.666...</td>\n",
       "      <td>[0.1351642080885487, 0.1151245768757514, 0.081...</td>\n",
       "    </tr>\n",
       "    <tr>\n",
       "      <th>2</th>\n",
       "      <td>[PPL US Equity, MO US Equity, DTE US Equity]</td>\n",
       "      <td>[[[[[19.51266423  6.70958138  9.18255513]]]], ...</td>\n",
       "      <td>[0.2864190230561245, 0.21257649826609343, 0.50...</td>\n",
       "      <td>[[-0.2815525667233901, -0.1870743011434873, 0....</td>\n",
       "      <td>[[0.8521866, 8.418972, 2.770689, -0.002969211,...</td>\n",
       "      <td>11.444909</td>\n",
       "      <td>[1.7127189253155728, 1.5640557688693852, 0.462...</td>\n",
       "      <td>[3.7460668470097276, 4.679418567993872, 2.8405...</td>\n",
       "      <td>[0.14964898210978284, 0.1366595244056822, 0.04...</td>\n",
       "    </tr>\n",
       "    <tr>\n",
       "      <th>3</th>\n",
       "      <td>[KMB US Equity, PPL US Equity, WEC US Equity]</td>\n",
       "      <td>[[[[[18.98891434  6.79175117  8.30634734]]]], ...</td>\n",
       "      <td>[0.36815131523404365, 0.34206628075784323, 0.2...</td>\n",
       "      <td>[[0.45476294521461735, 0.7550758705277701, 1.9...</td>\n",
       "      <td>[[0.11973620000000001, 1.210357, 3.390857, -1....</td>\n",
       "      <td>11.770009</td>\n",
       "      <td>[0.6517514637968083, 0.8196678459965827, 1.483...</td>\n",
       "      <td>[1.2166803309676266, 4.000016436333115, 2.4923...</td>\n",
       "      <td>[0.055373912821418715, 0.06964037423456433, 0....</td>\n",
       "    </tr>\n",
       "    <tr>\n",
       "      <th>4</th>\n",
       "      <td>[HES US Equity, MO US Equity, DTE US Equity, W...</td>\n",
       "      <td>[[[[[100.41903311   6.72056771   4.50376371   ...</td>\n",
       "      <td>[0.07638415255470991, 0.2792108681164098, 0.39...</td>\n",
       "      <td>[[-2.832813166301726, 1.0798846506686033, -3.6...</td>\n",
       "      <td>[[-1.9668889999999999, 0.8801783999999999, -8....</td>\n",
       "      <td>11.678257</td>\n",
       "      <td>[2.0305311314458296, 2.2498096991700693, 0.570...</td>\n",
       "      <td>[3.5201052487549447, 2.809282986360321, 1.6747...</td>\n",
       "      <td>[0.17387278592649993, 0.1926494374506942, 0.04...</td>\n",
       "    </tr>\n",
       "  </tbody>\n",
       "</table>\n",
       "</div>"
      ],
      "text/plain": [
       "                                           portfolio  \\\n",
       "0      [HES US Equity, MO US Equity, WELL US Equity]   \n",
       "1  [TGT US Equity, DUK US Equity, DTE US Equity, ...   \n",
       "2       [PPL US Equity, MO US Equity, DTE US Equity]   \n",
       "3      [KMB US Equity, PPL US Equity, WEC US Equity]   \n",
       "4  [HES US Equity, MO US Equity, DTE US Equity, W...   \n",
       "\n",
       "                                                 cov  \\\n",
       "0  [[[[[100.41903311   6.72056771   4.09955939]]]...   \n",
       "1  [[[[[43.5782631  -2.28759833 -0.48547121  1.54...   \n",
       "2  [[[[[19.51266423  6.70958138  9.18255513]]]], ...   \n",
       "3  [[[[[18.98891434  6.79175117  8.30634734]]]], ...   \n",
       "4  [[[[[100.41903311   6.72056771   4.50376371   ...   \n",
       "\n",
       "                                           poids_var  \\\n",
       "0  [0.11594522554395133, 0.44304832744179684, 0.4...   \n",
       "1  [0.220932843624211, 0.4089450400752729, 0.1127...   \n",
       "2  [0.2864190230561245, 0.21257649826609343, 0.50...   \n",
       "3  [0.36815131523404365, 0.34206628075784323, 0.2...   \n",
       "4  [0.07638415255470991, 0.2792108681164098, 0.39...   \n",
       "\n",
       "                                    return_predicted  \\\n",
       "0  [[-2.832813166301726, 1.0798846506686033, -3.6...   \n",
       "1  [[0.3509575223380869, -0.08107992137471835, -0...   \n",
       "2  [[-0.2815525667233901, -0.1870743011434873, 0....   \n",
       "3  [[0.45476294521461735, 0.7550758705277701, 1.9...   \n",
       "4  [[-2.832813166301726, 1.0798846506686033, -3.6...   \n",
       "\n",
       "                                     return_effectif        var  \\\n",
       "0  [[-1.9668889999999999, 0.8801783999999999, -8....  15.969329   \n",
       "1  [[-4.833492, -1.819636, 1.376736, -5.289723, 9...   9.200213   \n",
       "2  [[0.8521866, 8.418972, 2.770689, -0.002969211,...  11.444909   \n",
       "3  [[0.11973620000000001, 1.210357, 3.390857, -1....  11.770009   \n",
       "4  [[-1.9668889999999999, 0.8801783999999999, -8....  11.678257   \n",
       "\n",
       "                                    portfolio_return  \\\n",
       "0  [1.8778578802802723, 2.5288091337603777, 0.787...   \n",
       "1  [1.2435394621600115, 1.059170592822048, 0.7516...   \n",
       "2  [1.7127189253155728, 1.5640557688693852, 0.462...   \n",
       "3  [0.6517514637968083, 0.8196678459965827, 1.483...   \n",
       "4  [2.0305311314458296, 2.2498096991700693, 0.570...   \n",
       "\n",
       "                           portfolio_return_effectif  \\\n",
       "0  [1.7999052478901443, 2.599222273274183, 1.2120...   \n",
       "1  [0.8615075562136874, 2.5758650440608157, 0.666...   \n",
       "2  [3.7460668470097276, 4.679418567993872, 2.8405...   \n",
       "3  [1.2166803309676266, 4.000016436333115, 2.4923...   \n",
       "4  [3.5201052487549447, 2.809282986360321, 1.6747...   \n",
       "\n",
       "                                      relatif_return  \n",
       "0  [0.11759153327423566, 0.1583541260068053, 0.04...  \n",
       "1  [0.1351642080885487, 0.1151245768757514, 0.081...  \n",
       "2  [0.14964898210978284, 0.1366595244056822, 0.04...  \n",
       "3  [0.055373912821418715, 0.06964037423456433, 0....  \n",
       "4  [0.17387278592649993, 0.1926494374506942, 0.04...  "
      ]
     },
     "execution_count": 157,
     "metadata": {},
     "output_type": "execute_result"
    }
   ],
   "source": [
    "portfolio.head()"
   ]
  },
  {
   "cell_type": "code",
   "execution_count": 200,
   "metadata": {
    "ExecuteTime": {
     "end_time": "2020-04-07T14:50:56.217695Z",
     "start_time": "2020-04-07T14:50:56.050683Z"
    }
   },
   "outputs": [
    {
     "name": "stdout",
     "output_type": "stream",
     "text": [
      "(9600, 105)\n"
     ]
    }
   ],
   "source": [
    "print(np.stack(np.array(portfolio[\"relatif_return\"])).shape)\n",
    "relatif_return_matrix= np.stack(np.array(portfolio[\"relatif_return\"]))\n",
    "predicted_return_matrix= np.stack(np.array(portfolio[\"portfolio_return\"]))\n",
    "effectif_return_matrix= np.stack(np.array(portfolio[\"portfolio_return_effectif\"]))\n",
    "\n",
    "\n",
    "\n",
    "np.argmax(relatif_return_matrix, axis= 0)\n",
    "\n",
    "# get la position du portefeuille avec le return relatif le plus grand\n",
    "which_portfolio= relatif_return_matrix.max(axis=0,keepdims=1) == relatif_return_matrix"
   ]
  },
  {
   "cell_type": "code",
   "execution_count": 208,
   "metadata": {
    "ExecuteTime": {
     "end_time": "2020-04-07T14:56:05.657591Z",
     "start_time": "2020-04-07T14:56:05.632659Z"
    }
   },
   "outputs": [
    {
     "data": {
      "text/plain": [
       "3.991765956270785"
      ]
     },
     "execution_count": 208,
     "metadata": {},
     "output_type": "execute_result"
    }
   ],
   "source": [
    "np.set_printoptions(threshold=sys.maxsize)\n",
    "which_return_pred= which_portfolio * predicted_return_matrix\n",
    "which_return_eff= which_portfolio * effectif_return_matrix\n",
    "\n",
    "which_return_pred"
   ]
  },
  {
   "cell_type": "code",
   "execution_count": 219,
   "metadata": {
    "ExecuteTime": {
     "end_time": "2020-04-07T15:06:45.909865Z",
     "start_time": "2020-04-07T15:06:45.885929Z"
    },
    "scrolled": true
   },
   "outputs": [
    {
     "data": {
      "text/plain": [
       "array([[ 463,    0],\n",
       "       [2167,    1],\n",
       "       [8129,    2],\n",
       "       [6064,    3],\n",
       "       [3191,    4],\n",
       "       [ 811,    5],\n",
       "       [3296,    6],\n",
       "       [7719,    7],\n",
       "       [9415,    8],\n",
       "       [ 571,    9],\n",
       "       [9434,   10],\n",
       "       [4328,   11],\n",
       "       [ 500,   12],\n",
       "       [3461,   13],\n",
       "       [4260,   14],\n",
       "       [3148,   15],\n",
       "       [ 552,   16],\n",
       "       [1771,   17],\n",
       "       [2794,   18],\n",
       "       [8120,   19],\n",
       "       [5039,   20],\n",
       "       [2306,   21],\n",
       "       [4214,   22],\n",
       "       [4283,   23],\n",
       "       [2794,   24],\n",
       "       [3270,   25],\n",
       "       [2794,   26],\n",
       "       [7644,   27],\n",
       "       [4232,   28],\n",
       "       [2391,   29],\n",
       "       [3663,   30],\n",
       "       [6863,   31],\n",
       "       [7629,   32],\n",
       "       [7324,   33],\n",
       "       [ 479,   34],\n",
       "       [4755,   35],\n",
       "       [4253,   36],\n",
       "       [8380,   37],\n",
       "       [4336,   38],\n",
       "       [7108,   39],\n",
       "       [3259,   40],\n",
       "       [2606,   41],\n",
       "       [8286,   42],\n",
       "       [6011,   43],\n",
       "       [4336,   44],\n",
       "       [8255,   45],\n",
       "       [7431,   46],\n",
       "       [1808,   47],\n",
       "       [1221,   48],\n",
       "       [2044,   49],\n",
       "       [4055,   50],\n",
       "       [6754,   51],\n",
       "       [3637,   52],\n",
       "       [3663,   53],\n",
       "       [9044,   54],\n",
       "       [3100,   55],\n",
       "       [4325,   56],\n",
       "       [5116,   57],\n",
       "       [ 296,   58],\n",
       "       [ 908,   59],\n",
       "       [6750,   60],\n",
       "       [1153,   61],\n",
       "       [ 571,   62],\n",
       "       [ 593,   63],\n",
       "       [8375,   64],\n",
       "       [8891,   65],\n",
       "       [8891,   66],\n",
       "       [ 912,   67],\n",
       "       [5802,   68],\n",
       "       [5190,   69],\n",
       "       [1087,   70],\n",
       "       [6658,   71],\n",
       "       [2073,   72],\n",
       "       [6669,   73],\n",
       "       [8649,   74],\n",
       "       [8043,   75],\n",
       "       [2056,   76],\n",
       "       [8166,   77],\n",
       "       [1081,   78],\n",
       "       [3917,   79],\n",
       "       [3226,   80],\n",
       "       [6721,   81],\n",
       "       [1736,   82],\n",
       "       [9017,   83],\n",
       "       [6750,   84],\n",
       "       [2119,   85],\n",
       "       [ 237,   86],\n",
       "       [4007,   87],\n",
       "       [ 212,   88],\n",
       "       [9515,   89],\n",
       "       [8189,   90],\n",
       "       [1766,   91],\n",
       "       [3784,   92],\n",
       "       [ 851,   93],\n",
       "       [ 547,   94],\n",
       "       [5067,   95],\n",
       "       [ 652,   96],\n",
       "       [8535,   97],\n",
       "       [2361,   98],\n",
       "       [5621,   99],\n",
       "       [6250,  100],\n",
       "       [8842,  101],\n",
       "       [9047,  102],\n",
       "       [4273,  103],\n",
       "       [8426,  104]], dtype=int64)"
      ]
     },
     "execution_count": 219,
     "metadata": {},
     "output_type": "execute_result"
    }
   ],
   "source": [
    "position= np.argwhere(which_return_pred != 0)\n",
    "position= position[np.argsort(position[:, 1])]\n",
    "np.save(\"../data/position_portfolio.npy\", position)\n",
    "position_saved= np.load(\"../data/position_portfolio.npy\")\n",
    "position_saved"
   ]
  },
  {
   "cell_type": "code",
   "execution_count": 228,
   "metadata": {
    "ExecuteTime": {
     "end_time": "2020-04-07T15:16:04.766731Z",
     "start_time": "2020-04-07T15:16:04.759748Z"
    }
   },
   "outputs": [],
   "source": [
    "eff_return= which_return_eff[position_saved[:,0], position_saved[:,1]]\n",
    "pred_return= which_return_pred[position_saved[:,0], position_saved[:,1]]"
   ]
  },
  {
   "cell_type": "code",
   "execution_count": 233,
   "metadata": {
    "ExecuteTime": {
     "end_time": "2020-04-07T15:17:54.944686Z",
     "start_time": "2020-04-07T15:17:54.936704Z"
    }
   },
   "outputs": [],
   "source": [
    "sp_return_only= sp_return.iloc[data.shape[0]-size:, 1].values\n",
    "date= sp_return.iloc[data.shape[0]-size:, 0].values"
   ]
  },
  {
   "cell_type": "code",
   "execution_count": 234,
   "metadata": {
    "ExecuteTime": {
     "end_time": "2020-04-07T15:17:56.984849Z",
     "start_time": "2020-04-07T15:17:56.960914Z"
    }
   },
   "outputs": [
    {
     "data": {
      "text/html": [
       "<div>\n",
       "<style scoped>\n",
       "    .dataframe tbody tr th:only-of-type {\n",
       "        vertical-align: middle;\n",
       "    }\n",
       "\n",
       "    .dataframe tbody tr th {\n",
       "        vertical-align: top;\n",
       "    }\n",
       "\n",
       "    .dataframe thead th {\n",
       "        text-align: right;\n",
       "    }\n",
       "</style>\n",
       "<table border=\"1\" class=\"dataframe\">\n",
       "  <thead>\n",
       "    <tr style=\"text-align: right;\">\n",
       "      <th></th>\n",
       "      <th>sp500</th>\n",
       "      <th>effectif</th>\n",
       "      <th>prediction</th>\n",
       "      <th>date</th>\n",
       "    </tr>\n",
       "  </thead>\n",
       "  <tbody>\n",
       "    <tr>\n",
       "      <th>0</th>\n",
       "      <td>-0.104731</td>\n",
       "      <td>5.393158</td>\n",
       "      <td>3.697888</td>\n",
       "      <td>2011-03-01</td>\n",
       "    </tr>\n",
       "    <tr>\n",
       "      <th>1</th>\n",
       "      <td>2.849538</td>\n",
       "      <td>3.593613</td>\n",
       "      <td>3.375629</td>\n",
       "      <td>2011-04-01</td>\n",
       "    </tr>\n",
       "    <tr>\n",
       "      <th>2</th>\n",
       "      <td>-1.350095</td>\n",
       "      <td>0.496853</td>\n",
       "      <td>2.915016</td>\n",
       "      <td>2011-05-01</td>\n",
       "    </tr>\n",
       "    <tr>\n",
       "      <th>3</th>\n",
       "      <td>-1.825746</td>\n",
       "      <td>0.721248</td>\n",
       "      <td>3.057459</td>\n",
       "      <td>2011-06-01</td>\n",
       "    </tr>\n",
       "    <tr>\n",
       "      <th>4</th>\n",
       "      <td>-2.147443</td>\n",
       "      <td>-1.418650</td>\n",
       "      <td>3.848040</td>\n",
       "      <td>2011-07-01</td>\n",
       "    </tr>\n",
       "  </tbody>\n",
       "</table>\n",
       "</div>"
      ],
      "text/plain": [
       "      sp500  effectif  prediction        date\n",
       "0 -0.104731  5.393158    3.697888  2011-03-01\n",
       "1  2.849538  3.593613    3.375629  2011-04-01\n",
       "2 -1.350095  0.496853    2.915016  2011-05-01\n",
       "3 -1.825746  0.721248    3.057459  2011-06-01\n",
       "4 -2.147443 -1.418650    3.848040  2011-07-01"
      ]
     },
     "execution_count": 234,
     "metadata": {},
     "output_type": "execute_result"
    }
   ],
   "source": [
    "all_data_long_only= pd.DataFrame({\n",
    "    \"sp500\":sp_return_only\n",
    "    , \"effectif\":eff_return\n",
    "    , \"prediction\":pred_return\n",
    "    , \"date\": date\n",
    "})\n",
    "all_data_long_only.head()"
   ]
  },
  {
   "cell_type": "code",
   "execution_count": 235,
   "metadata": {
    "ExecuteTime": {
     "end_time": "2020-04-07T15:19:27.351126Z",
     "start_time": "2020-04-07T15:19:27.333174Z"
    }
   },
   "outputs": [],
   "source": [
    "# save\n",
    "all_data_long_only.to_csv(\"../data/long_only_return_.csv\", index= False, header= True)"
   ]
  }
 ],
 "metadata": {
  "kernelspec": {
   "display_name": "Python 3",
   "language": "python",
   "name": "python3"
  },
  "language_info": {
   "codemirror_mode": {
    "name": "ipython",
    "version": 3
   },
   "file_extension": ".py",
   "mimetype": "text/x-python",
   "name": "python",
   "nbconvert_exporter": "python",
   "pygments_lexer": "ipython3",
   "version": "3.7.4"
  }
 },
 "nbformat": 4,
 "nbformat_minor": 2
}
