{
 "cells": [
  {
   "cell_type": "code",
   "execution_count": 1,
   "metadata": {
    "ExecuteTime": {
     "end_time": "2020-04-05T17:21:47.715917Z",
     "start_time": "2020-04-05T17:21:46.928407Z"
    }
   },
   "outputs": [],
   "source": [
    "import pandas as pd"
   ]
  },
  {
   "cell_type": "code",
   "execution_count": 6,
   "metadata": {
    "ExecuteTime": {
     "end_time": "2020-04-05T17:22:26.935754Z",
     "start_time": "2020-04-05T17:22:26.929773Z"
    }
   },
   "outputs": [],
   "source": [
    "file_path= \"../data/\"\n",
    "list_col = ['HES US Equity', 'NEM US Equity', 'INTC US Equity', 'IFF US Equity',\n",
    "       'MOS US Equity', 'EXC US Equity', 'KMB US Equity', 'JNJ US Equity',\n",
    "       'BAX US Equity', 'F US Equity', 'COP US Equity',\n",
    "       'WFC US Equity', 'WY US Equity', 'TGT US Equity', 'MMM US Equity',\n",
    "       'CMI US Equity', 'HAS US Equity', 'DUK US Equity',\n",
    "       'EMN US Equity', 'BK US Equity', 'UFS US Equity', 'ECL US Equity',\n",
    "       'SLB US Equity', 'UPS US Equity', 'T US Equity', 'NSC US Equity',\n",
    "       'PPL US Equity', 'MO US Equity', 'JLL US Equity', 'C US Equity',\n",
    "       'ABT US Equity', 'AMD US Equity', 'CVX US Equity', 'CMA US Equity',\n",
    "       'DTE US Equity', 'HSY US Equity', 'KIM US Equity', 'NBL US Equity',\n",
    "       'IBM US Equity', 'WELL US Equity', 'IR US Equity', 'BKR US Equity',\n",
    "       'WEC US Equity', 'OXY US Equity', 'WMB US Equity', 'UNP US Equity',\n",
    "       'WM US Equity', 'CCL US Equity']"
   ]
  },
  {
   "cell_type": "code",
   "execution_count": 7,
   "metadata": {
    "ExecuteTime": {
     "end_time": "2020-04-05T17:22:27.638244Z",
     "start_time": "2020-04-05T17:22:27.493516Z"
    }
   },
   "outputs": [],
   "source": [
    "returns = pd.read_csv(file_path+\"return.csv\")[['Date1']+list_col]\n",
    "returns.rename(columns={returns.columns[0]: \"Date\" }, inplace = True)\n",
    "CURRENT_EV_TO_T12M_EBITDA = pd.read_csv(file_path+\"CURRENT_EV_TO_T12M_EBITDA.csv\")[['Date']+list_col]\n",
    "DIVIDEND_INDICATED_YIELD= pd.read_csv(file_path+\"DIVIDEND_INDICATED_YIELD.csv\")[['Date']+list_col]\n",
    "EBITDA_TO_INTEREST_EXPN = pd.read_csv(file_path+\"EBITDA_TO_INTEREST_EXPN.csv\")[['Date']+list_col]\n",
    "EBITDA_TO_REVENUE = pd.read_csv(file_path+\"EBITDA_TO_REVENUE.csv\")[['Date']+list_col]\n",
    "EPS_GROWTH = pd.read_csv(file_path+\"EPS_GROWTH.csv\")[['Date']+list_col]\n",
    "EQY_DVD_YLD_IND = pd.read_csv(file_path+\"EQY_DVD_YLD_IND.csv\")[['Date']+list_col]\n",
    "PE_RATIO = pd.read_csv(file_path+\"PE_RATIO.csv\")[['Date']+list_col]\n",
    "TOT_DEBT_TO_EBITDA = pd.read_csv(file_path+\"TOT_DEBT_TO_EBITDA.csv\")[['Date']+list_col]"
   ]
  },
  {
   "cell_type": "code",
   "execution_count": 12,
   "metadata": {
    "ExecuteTime": {
     "end_time": "2020-04-05T17:23:42.029837Z",
     "start_time": "2020-04-05T17:23:42.022822Z"
    }
   },
   "outputs": [
    {
     "data": {
      "text/plain": [
       "7"
      ]
     },
     "execution_count": 12,
     "metadata": {},
     "output_type": "execute_result"
    }
   ],
   "source": [
    "# Not taking EPS growth because if NaN values \n",
    "list_df_str = [\n",
    "            'CURRENT_EV_TO_T12M_EBITDA','DIVIDEND_INDICATED_YIELD','EBITDA_TO_INTEREST_EXPN',\n",
    "            'EBITDA_TO_REVENUE','EQY_DVD_YLD_IND','PE_RATIO','TOT_DEBT_TO_EBITDA'\n",
    "          ]\n",
    "list_df = [\n",
    "            CURRENT_EV_TO_T12M_EBITDA,DIVIDEND_INDICATED_YIELD,EBITDA_TO_INTEREST_EXPN,\n",
    "            EBITDA_TO_REVENUE,EQY_DVD_YLD_IND,PE_RATIO,TOT_DEBT_TO_EBITDA\n",
    "          ]\n",
    "len(list_df)"
   ]
  },
  {
   "cell_type": "code",
   "execution_count": 15,
   "metadata": {
    "ExecuteTime": {
     "end_time": "2020-04-05T17:24:05.006665Z",
     "start_time": "2020-04-05T17:24:04.890948Z"
    }
   },
   "outputs": [
    {
     "name": "stdout",
     "output_type": "stream",
     "text": [
      "(118, 9)\n"
     ]
    },
    {
     "data": {
      "text/html": [
       "<div>\n",
       "<style scoped>\n",
       "    .dataframe tbody tr th:only-of-type {\n",
       "        vertical-align: middle;\n",
       "    }\n",
       "\n",
       "    .dataframe tbody tr th {\n",
       "        vertical-align: top;\n",
       "    }\n",
       "\n",
       "    .dataframe thead th {\n",
       "        text-align: right;\n",
       "    }\n",
       "</style>\n",
       "<table border=\"1\" class=\"dataframe\">\n",
       "  <thead>\n",
       "    <tr style=\"text-align: right;\">\n",
       "      <th></th>\n",
       "      <th>Date</th>\n",
       "      <th>HES US Equity</th>\n",
       "      <th>CURRENT_EV_TO_T12M_EBITDA</th>\n",
       "      <th>DIVIDEND_INDICATED_YIELD</th>\n",
       "      <th>EBITDA_TO_INTEREST_EXPN</th>\n",
       "      <th>EBITDA_TO_REVENUE</th>\n",
       "      <th>EQY_DVD_YLD_IND</th>\n",
       "      <th>PE_RATIO</th>\n",
       "      <th>TOT_DEBT_TO_EBITDA</th>\n",
       "    </tr>\n",
       "  </thead>\n",
       "  <tbody>\n",
       "    <tr>\n",
       "      <th>0</th>\n",
       "      <td>2010-01-01</td>\n",
       "      <td>1.747707</td>\n",
       "      <td>5.5099</td>\n",
       "      <td>0.6612</td>\n",
       "      <td>16.5495</td>\n",
       "      <td>17.3542</td>\n",
       "      <td>0.6612</td>\n",
       "      <td>40.8164</td>\n",
       "      <td>1.0684</td>\n",
       "    </tr>\n",
       "    <tr>\n",
       "      <th>1</th>\n",
       "      <td>2010-02-01</td>\n",
       "      <td>6.552083</td>\n",
       "      <td>5.5099</td>\n",
       "      <td>0.6612</td>\n",
       "      <td>16.5495</td>\n",
       "      <td>17.3542</td>\n",
       "      <td>0.6612</td>\n",
       "      <td>40.8164</td>\n",
       "      <td>1.0684</td>\n",
       "    </tr>\n",
       "  </tbody>\n",
       "</table>\n",
       "</div>"
      ],
      "text/plain": [
       "        Date  HES US Equity  CURRENT_EV_TO_T12M_EBITDA  \\\n",
       "0 2010-01-01       1.747707                     5.5099   \n",
       "1 2010-02-01       6.552083                     5.5099   \n",
       "\n",
       "   DIVIDEND_INDICATED_YIELD  EBITDA_TO_INTEREST_EXPN  EBITDA_TO_REVENUE  \\\n",
       "0                    0.6612                  16.5495            17.3542   \n",
       "1                    0.6612                  16.5495            17.3542   \n",
       "\n",
       "   EQY_DVD_YLD_IND  PE_RATIO  TOT_DEBT_TO_EBITDA  \n",
       "0           0.6612   40.8164              1.0684  \n",
       "1           0.6612   40.8164              1.0684  "
      ]
     },
     "execution_count": 15,
     "metadata": {},
     "output_type": "execute_result"
    }
   ],
   "source": [
    "col = 'HES US Equity'\n",
    "df = returns[[\"Date\",str(col)]].copy()\n",
    "df.Date = pd.to_datetime(df.Date)\n",
    "df.Date = df.Date.dt.strftime('%m/%Y')\n",
    "df_final = df.copy()\n",
    "\n",
    "for res,res_str in zip(list_df,list_df_str):\n",
    "    \n",
    "    df2 = res[[\"Date\",str(col)]].copy()\n",
    "    df2.Date = pd.to_datetime(df2.Date)\n",
    "    df2.rename(columns={str(col): str(res_str) }, inplace = True)\n",
    "    df2.Date = df2.Date + pd.DateOffset(months=1)\n",
    "    df2.Date = df2.Date.dt.strftime('%m/%Y')\n",
    "    df_final = pd.merge(df_final,df2,on='Date', how='outer').fillna(method='ffill').dropna()\n",
    "\n",
    "df_final.Date = pd.to_datetime(df_final.Date)\n",
    "print(df_final.shape)\n",
    "df_final.head(2)"
   ]
  },
  {
   "cell_type": "code",
   "execution_count": 36,
   "metadata": {
    "ExecuteTime": {
     "end_time": "2020-04-05T17:41:02.695981Z",
     "start_time": "2020-04-05T17:41:02.686961Z"
    }
   },
   "outputs": [
    {
     "data": {
      "text/plain": [
       "False"
      ]
     },
     "execution_count": 36,
     "metadata": {},
     "output_type": "execute_result"
    }
   ],
   "source": [
    "df_final.isnull().values.any()"
   ]
  },
  {
   "cell_type": "code",
   "execution_count": 37,
   "metadata": {
    "ExecuteTime": {
     "end_time": "2020-04-05T17:42:12.917627Z",
     "start_time": "2020-04-05T17:42:12.907618Z"
    }
   },
   "outputs": [],
   "source": [
    "y = df_final[['HES US Equity']].copy()\n",
    "date = df_final['Date'].to_list()\n",
    "X = df_final.drop(['Date','HES US Equity'],axis=1).copy()"
   ]
  },
  {
   "cell_type": "code",
   "execution_count": 64,
   "metadata": {
    "ExecuteTime": {
     "end_time": "2020-04-05T18:09:30.126889Z",
     "start_time": "2020-04-05T18:09:30.120917Z"
    }
   },
   "outputs": [],
   "source": [
    "# Creation d'une liste avec les modeles qui vont être appliqués\n",
    "from xgboost import XGBRegressor\n",
    "from sklearn.ensemble import GradientBoostingRegressor\n",
    "from sklearn.ensemble import RandomForestRegressor\n",
    "from sklearn import metrics\n",
    "\n",
    "models = []\n",
    "models.append(XGBRegressor())\n",
    "models.append(GradientBoostingRegressor())\n",
    "models.append(RandomForestRegressor())"
   ]
  },
  {
   "cell_type": "code",
   "execution_count": 57,
   "metadata": {
    "ExecuteTime": {
     "end_time": "2020-04-05T17:55:16.734372Z",
     "start_time": "2020-04-05T17:55:16.728388Z"
    }
   },
   "outputs": [
    {
     "data": {
      "text/plain": [
       "Timestamp('2010-02-01 00:00:00')"
      ]
     },
     "execution_count": 57,
     "metadata": {},
     "output_type": "execute_result"
    }
   ],
   "source": [
    "date[1]"
   ]
  },
  {
   "cell_type": "code",
   "execution_count": 71,
   "metadata": {
    "ExecuteTime": {
     "end_time": "2020-04-05T18:17:14.428416Z",
     "start_time": "2020-04-05T18:17:14.393513Z"
    }
   },
   "outputs": [
    {
     "name": "stdout",
     "output_type": "stream",
     "text": [
      "Current index0\n",
      "[[  1.747707  ]\n",
      " [  6.552083  ]\n",
      " [  1.598721  ]\n",
      " [-16.28639   ]\n",
      " [ -5.199633  ]\n",
      " [  6.456099  ]\n",
      " [ -6.232506  ]\n",
      " [ 17.86251   ]\n",
      " [  6.613667  ]\n",
      " [ 11.13755   ]\n",
      " [  9.411633  ]\n",
      " [  9.903318  ]\n",
      " [  3.459344  ]\n",
      " [ -1.966889  ]\n",
      " [  0.8801784 ]\n",
      " [ -8.06189   ]\n",
      " [ -5.274063  ]\n",
      " [ -8.293205  ]\n",
      " [-13.44807   ]\n",
      " [-11.44987   ]\n",
      " [ 19.25276   ]\n",
      " [ -3.740409  ]\n",
      " [ -5.505505  ]\n",
      " [ -0.8802817 ]\n",
      " [ 15.31083   ]\n",
      " [ -9.04893   ]\n",
      " [-11.55216   ]\n",
      " [-16.18719   ]\n",
      " [ -0.3458528 ]\n",
      " [  8.53855   ]\n",
      " [  7.145886  ]\n",
      " [  6.504292  ]\n",
      " [ -2.717796  ]\n",
      " [ -5.0708    ]\n",
      " [  6.958598  ]\n",
      " [ 26.81269   ]\n",
      " [ -0.9827278 ]\n",
      " [  7.834419  ]\n",
      " [  0.7959782 ]\n",
      " [ -6.608479  ]\n",
      " [ -1.217236  ]\n",
      " [ 11.98676   ]\n",
      " [  0.5237712 ]\n",
      " [  3.661044  ]\n",
      " [  4.990949  ]\n",
      " [ -0.0862069 ]\n",
      " [  2.628897  ]\n",
      " [ -9.048193  ]\n",
      " [  6.014041  ]\n",
      " [  3.880561  ]\n",
      " [  7.57722   ]\n",
      " [  2.400179  ]\n",
      " [  8.596855  ]\n",
      " [  0.09101021]\n",
      " [  2.141847  ]\n",
      " [ -6.465709  ]\n",
      " [-10.0827    ]\n",
      " [-14.00778   ]\n",
      " [  1.606981  ]]\n",
      "[20:17:14] WARNING: C:/Jenkins/workspace/xgboost-win64_release_0.90/src/objective/regression_obj.cu:152: reg:linear is now deprecated in favor of reg:squarederror.\n"
     ]
    },
    {
     "ename": "XGBoostError",
     "evalue": "[20:17:14] C:/Jenkins/workspace/xgboost-win64_release_0.90/src/objective/regression_obj.cu:65: Check failed: preds.Size() == info.labels_.Size() (59 vs. 1) : labels are not correctly providedpreds.size=59, label.size=1",
     "output_type": "error",
     "traceback": [
      "\u001b[1;31m---------------------------------------------------------------------------\u001b[0m",
      "\u001b[1;31mXGBoostError\u001b[0m                              Traceback (most recent call last)",
      "\u001b[1;32m<ipython-input-71-8b1e853322bb>\u001b[0m in \u001b[0;36m<module>\u001b[1;34m\u001b[0m\n\u001b[0;32m     39\u001b[0m     \u001b[1;32mfor\u001b[0m \u001b[0mmodel\u001b[0m \u001b[1;32min\u001b[0m \u001b[0mmodels\u001b[0m\u001b[1;33m:\u001b[0m\u001b[1;33m\u001b[0m\u001b[1;33m\u001b[0m\u001b[0m\n\u001b[0;32m     40\u001b[0m \u001b[1;33m\u001b[0m\u001b[0m\n\u001b[1;32m---> 41\u001b[1;33m         \u001b[0mmodel\u001b[0m\u001b[1;33m.\u001b[0m\u001b[0mfit\u001b[0m\u001b[1;33m(\u001b[0m\u001b[0mx_train_values\u001b[0m\u001b[1;33m,\u001b[0m\u001b[0my_train_values\u001b[0m\u001b[1;33m)\u001b[0m\u001b[1;33m\u001b[0m\u001b[1;33m\u001b[0m\u001b[0m\n\u001b[0m\u001b[0;32m     42\u001b[0m         \u001b[0my_pred\u001b[0m \u001b[1;33m=\u001b[0m \u001b[0mmodel\u001b[0m\u001b[1;33m.\u001b[0m\u001b[0mpredict\u001b[0m\u001b[1;33m(\u001b[0m\u001b[0mX_test\u001b[0m\u001b[1;33m)\u001b[0m\u001b[1;33m\u001b[0m\u001b[1;33m\u001b[0m\u001b[0m\n\u001b[0;32m     43\u001b[0m         \u001b[0msc\u001b[0m \u001b[1;33m=\u001b[0m \u001b[0mmetrics\u001b[0m\u001b[1;33m.\u001b[0m\u001b[0mmean_squared_error\u001b[0m\u001b[1;33m(\u001b[0m\u001b[0my_train_values\u001b[0m\u001b[1;33m,\u001b[0m \u001b[0my_pred\u001b[0m\u001b[1;33m)\u001b[0m\u001b[1;33m\u001b[0m\u001b[1;33m\u001b[0m\u001b[0m\n",
      "\u001b[1;32m~\\Anaconda3\\lib\\site-packages\\xgboost\\sklearn.py\u001b[0m in \u001b[0;36mfit\u001b[1;34m(self, X, y, sample_weight, eval_set, eval_metric, early_stopping_rounds, verbose, xgb_model, sample_weight_eval_set, callbacks)\u001b[0m\n\u001b[0;32m    394\u001b[0m                               \u001b[0mevals_result\u001b[0m\u001b[1;33m=\u001b[0m\u001b[0mevals_result\u001b[0m\u001b[1;33m,\u001b[0m \u001b[0mobj\u001b[0m\u001b[1;33m=\u001b[0m\u001b[0mobj\u001b[0m\u001b[1;33m,\u001b[0m \u001b[0mfeval\u001b[0m\u001b[1;33m=\u001b[0m\u001b[0mfeval\u001b[0m\u001b[1;33m,\u001b[0m\u001b[1;33m\u001b[0m\u001b[1;33m\u001b[0m\u001b[0m\n\u001b[0;32m    395\u001b[0m                               \u001b[0mverbose_eval\u001b[0m\u001b[1;33m=\u001b[0m\u001b[0mverbose\u001b[0m\u001b[1;33m,\u001b[0m \u001b[0mxgb_model\u001b[0m\u001b[1;33m=\u001b[0m\u001b[0mxgb_model\u001b[0m\u001b[1;33m,\u001b[0m\u001b[1;33m\u001b[0m\u001b[1;33m\u001b[0m\u001b[0m\n\u001b[1;32m--> 396\u001b[1;33m                               callbacks=callbacks)\n\u001b[0m\u001b[0;32m    397\u001b[0m \u001b[1;33m\u001b[0m\u001b[0m\n\u001b[0;32m    398\u001b[0m         \u001b[1;32mif\u001b[0m \u001b[0mevals_result\u001b[0m\u001b[1;33m:\u001b[0m\u001b[1;33m\u001b[0m\u001b[1;33m\u001b[0m\u001b[0m\n",
      "\u001b[1;32m~\\Anaconda3\\lib\\site-packages\\xgboost\\training.py\u001b[0m in \u001b[0;36mtrain\u001b[1;34m(params, dtrain, num_boost_round, evals, obj, feval, maximize, early_stopping_rounds, evals_result, verbose_eval, xgb_model, callbacks, learning_rates)\u001b[0m\n\u001b[0;32m    214\u001b[0m                            \u001b[0mevals\u001b[0m\u001b[1;33m=\u001b[0m\u001b[0mevals\u001b[0m\u001b[1;33m,\u001b[0m\u001b[1;33m\u001b[0m\u001b[1;33m\u001b[0m\u001b[0m\n\u001b[0;32m    215\u001b[0m                            \u001b[0mobj\u001b[0m\u001b[1;33m=\u001b[0m\u001b[0mobj\u001b[0m\u001b[1;33m,\u001b[0m \u001b[0mfeval\u001b[0m\u001b[1;33m=\u001b[0m\u001b[0mfeval\u001b[0m\u001b[1;33m,\u001b[0m\u001b[1;33m\u001b[0m\u001b[1;33m\u001b[0m\u001b[0m\n\u001b[1;32m--> 216\u001b[1;33m                            xgb_model=xgb_model, callbacks=callbacks)\n\u001b[0m\u001b[0;32m    217\u001b[0m \u001b[1;33m\u001b[0m\u001b[0m\n\u001b[0;32m    218\u001b[0m \u001b[1;33m\u001b[0m\u001b[0m\n",
      "\u001b[1;32m~\\Anaconda3\\lib\\site-packages\\xgboost\\training.py\u001b[0m in \u001b[0;36m_train_internal\u001b[1;34m(params, dtrain, num_boost_round, evals, obj, feval, xgb_model, callbacks)\u001b[0m\n\u001b[0;32m     72\u001b[0m         \u001b[1;31m# Skip the first update if it is a recovery step.\u001b[0m\u001b[1;33m\u001b[0m\u001b[1;33m\u001b[0m\u001b[1;33m\u001b[0m\u001b[0m\n\u001b[0;32m     73\u001b[0m         \u001b[1;32mif\u001b[0m \u001b[0mversion\u001b[0m \u001b[1;33m%\u001b[0m \u001b[1;36m2\u001b[0m \u001b[1;33m==\u001b[0m \u001b[1;36m0\u001b[0m\u001b[1;33m:\u001b[0m\u001b[1;33m\u001b[0m\u001b[1;33m\u001b[0m\u001b[0m\n\u001b[1;32m---> 74\u001b[1;33m             \u001b[0mbst\u001b[0m\u001b[1;33m.\u001b[0m\u001b[0mupdate\u001b[0m\u001b[1;33m(\u001b[0m\u001b[0mdtrain\u001b[0m\u001b[1;33m,\u001b[0m \u001b[0mi\u001b[0m\u001b[1;33m,\u001b[0m \u001b[0mobj\u001b[0m\u001b[1;33m)\u001b[0m\u001b[1;33m\u001b[0m\u001b[1;33m\u001b[0m\u001b[0m\n\u001b[0m\u001b[0;32m     75\u001b[0m             \u001b[0mbst\u001b[0m\u001b[1;33m.\u001b[0m\u001b[0msave_rabit_checkpoint\u001b[0m\u001b[1;33m(\u001b[0m\u001b[1;33m)\u001b[0m\u001b[1;33m\u001b[0m\u001b[1;33m\u001b[0m\u001b[0m\n\u001b[0;32m     76\u001b[0m             \u001b[0mversion\u001b[0m \u001b[1;33m+=\u001b[0m \u001b[1;36m1\u001b[0m\u001b[1;33m\u001b[0m\u001b[1;33m\u001b[0m\u001b[0m\n",
      "\u001b[1;32m~\\Anaconda3\\lib\\site-packages\\xgboost\\core.py\u001b[0m in \u001b[0;36mupdate\u001b[1;34m(self, dtrain, iteration, fobj)\u001b[0m\n\u001b[0;32m   1107\u001b[0m         \u001b[1;32mif\u001b[0m \u001b[0mfobj\u001b[0m \u001b[1;32mis\u001b[0m \u001b[1;32mNone\u001b[0m\u001b[1;33m:\u001b[0m\u001b[1;33m\u001b[0m\u001b[1;33m\u001b[0m\u001b[0m\n\u001b[0;32m   1108\u001b[0m             _check_call(_LIB.XGBoosterUpdateOneIter(self.handle, ctypes.c_int(iteration),\n\u001b[1;32m-> 1109\u001b[1;33m                                                     dtrain.handle))\n\u001b[0m\u001b[0;32m   1110\u001b[0m         \u001b[1;32melse\u001b[0m\u001b[1;33m:\u001b[0m\u001b[1;33m\u001b[0m\u001b[1;33m\u001b[0m\u001b[0m\n\u001b[0;32m   1111\u001b[0m             \u001b[0mpred\u001b[0m \u001b[1;33m=\u001b[0m \u001b[0mself\u001b[0m\u001b[1;33m.\u001b[0m\u001b[0mpredict\u001b[0m\u001b[1;33m(\u001b[0m\u001b[0mdtrain\u001b[0m\u001b[1;33m)\u001b[0m\u001b[1;33m\u001b[0m\u001b[1;33m\u001b[0m\u001b[0m\n",
      "\u001b[1;32m~\\Anaconda3\\lib\\site-packages\\xgboost\\core.py\u001b[0m in \u001b[0;36m_check_call\u001b[1;34m(ret)\u001b[0m\n\u001b[0;32m    174\u001b[0m     \"\"\"\n\u001b[0;32m    175\u001b[0m     \u001b[1;32mif\u001b[0m \u001b[0mret\u001b[0m \u001b[1;33m!=\u001b[0m \u001b[1;36m0\u001b[0m\u001b[1;33m:\u001b[0m\u001b[1;33m\u001b[0m\u001b[1;33m\u001b[0m\u001b[0m\n\u001b[1;32m--> 176\u001b[1;33m         \u001b[1;32mraise\u001b[0m \u001b[0mXGBoostError\u001b[0m\u001b[1;33m(\u001b[0m\u001b[0mpy_str\u001b[0m\u001b[1;33m(\u001b[0m\u001b[0m_LIB\u001b[0m\u001b[1;33m.\u001b[0m\u001b[0mXGBGetLastError\u001b[0m\u001b[1;33m(\u001b[0m\u001b[1;33m)\u001b[0m\u001b[1;33m)\u001b[0m\u001b[1;33m)\u001b[0m\u001b[1;33m\u001b[0m\u001b[1;33m\u001b[0m\u001b[0m\n\u001b[0m\u001b[0;32m    177\u001b[0m \u001b[1;33m\u001b[0m\u001b[0m\n\u001b[0;32m    178\u001b[0m \u001b[1;33m\u001b[0m\u001b[0m\n",
      "\u001b[1;31mXGBoostError\u001b[0m: [20:17:14] C:/Jenkins/workspace/xgboost-win64_release_0.90/src/objective/regression_obj.cu:65: Check failed: preds.Size() == info.labels_.Size() (59 vs. 1) : labels are not correctly providedpreds.size=59, label.size=1"
     ]
    }
   ],
   "source": [
    "i = 0 \n",
    "results = []\n",
    "date_of_pred = []\n",
    "window_size = 60\n",
    "step_size = 1\n",
    "backtest_size = 1\n",
    "names = []\n",
    "\n",
    "for m in models:\n",
    "    m = str(m).split('(')[0]\n",
    "    names.append(m)\n",
    "\n",
    "while i + window_size < 61:#X.shape[0]:\n",
    "    \n",
    "    print(\"Current index\"+str(i))\n",
    "    \n",
    "    # We take the first 60 data points\n",
    "    sample_X = X.iloc[i:i+window_size,:].copy()\n",
    "    sample_Y = y.iloc[i:i+window_size].copy()\n",
    "    # We train it in the first 59 points\n",
    "    X_train = sample_X.iloc[:-backtest_size,:].copy()\n",
    "    Y_train = sample_Y.iloc[:-backtest_size].copy()\n",
    "    # We test for the following month (so we try to predict only one month)\n",
    "    X_test = sample_X.iloc[-backtest_size:,:].copy()\n",
    "    Y_test = sample_Y.iloc[-backtest_size:].copy()\n",
    "    date_of_pred.append(str(date[X_test.index[-1]]))\n",
    "    \n",
    "    \"\"\"\n",
    "    In case we want to calculate more than the next month, this will take the first \n",
    "    and the last date of the X_test\n",
    "    date_of_pred.append(str(date[X_test.index[0]]) + '-' + str(date[X_test.index[-1]]))\n",
    "    \"\"\"\n",
    "    x_train_values = X_train.values\n",
    "    y_train_values = Y_train.values\n",
    "    print(y_train_values)\n",
    "    y_train_values = Y_test.values\n",
    "    \n",
    "    modelscore = []\n",
    "    for model in models:\n",
    "        \n",
    "        model.fit(x_train_values,y_train_values)\n",
    "        y_pred = model.predict(X_test)\n",
    "        sc = metrics.mean_squared_error(y_train_values, y_pred)\n",
    "        modelscore.append(sc)\n",
    "    \n",
    "    results.append(modelscore)\n",
    "    \n",
    "    i+=step_size"
   ]
  }
 ],
 "metadata": {
  "kernelspec": {
   "display_name": "Python 3",
   "language": "python",
   "name": "python3"
  },
  "language_info": {
   "codemirror_mode": {
    "name": "ipython",
    "version": 3
   },
   "file_extension": ".py",
   "mimetype": "text/x-python",
   "name": "python",
   "nbconvert_exporter": "python",
   "pygments_lexer": "ipython3",
   "version": "3.7.3"
  },
  "latex_envs": {
   "LaTeX_envs_menu_present": true,
   "autoclose": false,
   "autocomplete": true,
   "bibliofile": "biblio.bib",
   "cite_by": "apalike",
   "current_citInitial": 1,
   "eqLabelWithNumbers": true,
   "eqNumInitial": 1,
   "hotkeys": {
    "equation": "Ctrl-E",
    "itemize": "Ctrl-I"
   },
   "labels_anchors": false,
   "latex_user_defs": false,
   "report_style_numbering": false,
   "user_envs_cfg": false
  }
 },
 "nbformat": 4,
 "nbformat_minor": 2
}
