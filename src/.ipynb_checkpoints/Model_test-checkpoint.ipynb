{
 "cells": [
  {
   "cell_type": "code",
   "execution_count": 1,
   "metadata": {
    "ExecuteTime": {
     "end_time": "2020-04-06T11:23:16.939229Z",
     "start_time": "2020-04-06T11:23:15.498157Z"
    }
   },
   "outputs": [],
   "source": [
    "import pandas as pd\n",
    "import seaborn as sns\n",
    "import matplotlib.pyplot as plt"
   ]
  },
  {
   "cell_type": "code",
   "execution_count": 2,
   "metadata": {
    "ExecuteTime": {
     "end_time": "2020-04-06T11:23:16.949166Z",
     "start_time": "2020-04-06T11:23:16.941228Z"
    }
   },
   "outputs": [],
   "source": [
    "file_path= \"../data/\"\n",
    "list_col = ['HES US Equity', 'NEM US Equity', 'INTC US Equity', 'IFF US Equity',\n",
    "       'MOS US Equity', 'EXC US Equity', 'KMB US Equity', 'JNJ US Equity',\n",
    "       'BAX US Equity', 'F US Equity', 'COP US Equity',\n",
    "       'WFC US Equity', 'WY US Equity', 'TGT US Equity', 'MMM US Equity',\n",
    "       'CMI US Equity', 'HAS US Equity', 'DUK US Equity',\n",
    "       'EMN US Equity', 'BK US Equity', 'UFS US Equity', 'ECL US Equity',\n",
    "       'SLB US Equity', 'UPS US Equity', 'T US Equity', 'NSC US Equity',\n",
    "       'PPL US Equity', 'MO US Equity', 'JLL US Equity', 'C US Equity',\n",
    "       'ABT US Equity', 'AMD US Equity', 'CVX US Equity', 'CMA US Equity',\n",
    "       'DTE US Equity', 'HSY US Equity', 'KIM US Equity', 'NBL US Equity',\n",
    "       'IBM US Equity', 'WELL US Equity', 'IR US Equity', 'BKR US Equity',\n",
    "       'WEC US Equity', 'OXY US Equity', 'WMB US Equity', 'UNP US Equity',\n",
    "       'WM US Equity', 'CCL US Equity']"
   ]
  },
  {
   "cell_type": "code",
   "execution_count": 3,
   "metadata": {
    "ExecuteTime": {
     "end_time": "2020-04-06T11:23:17.096554Z",
     "start_time": "2020-04-06T11:23:16.952160Z"
    }
   },
   "outputs": [],
   "source": [
    "returns = pd.read_csv(file_path+\"return.csv\")[['Date1']+list_col]\n",
    "returns.rename(columns={returns.columns[0]: \"Date\" }, inplace = True)\n",
    "CURRENT_EV_TO_T12M_EBITDA = pd.read_csv(file_path+\"CURRENT_EV_TO_T12M_EBITDA.csv\")[['Date']+list_col]\n",
    "DIVIDEND_INDICATED_YIELD= pd.read_csv(file_path+\"DIVIDEND_INDICATED_YIELD.csv\")[['Date']+list_col]\n",
    "EBITDA_TO_INTEREST_EXPN = pd.read_csv(file_path+\"EBITDA_TO_INTEREST_EXPN.csv\")[['Date']+list_col]\n",
    "EBITDA_TO_REVENUE = pd.read_csv(file_path+\"EBITDA_TO_REVENUE.csv\")[['Date']+list_col]\n",
    "EPS_GROWTH = pd.read_csv(file_path+\"EPS_GROWTH.csv\")[['Date']+list_col]\n",
    "EQY_DVD_YLD_IND = pd.read_csv(file_path+\"EQY_DVD_YLD_IND.csv\")[['Date']+list_col]\n",
    "PE_RATIO = pd.read_csv(file_path+\"PE_RATIO.csv\")[['Date']+list_col]\n",
    "TOT_DEBT_TO_EBITDA = pd.read_csv(file_path+\"TOT_DEBT_TO_EBITDA.csv\")[['Date']+list_col]"
   ]
  },
  {
   "cell_type": "code",
   "execution_count": 4,
   "metadata": {
    "ExecuteTime": {
     "end_time": "2020-04-06T11:23:17.106493Z",
     "start_time": "2020-04-06T11:23:17.099475Z"
    }
   },
   "outputs": [
    {
     "data": {
      "text/plain": [
       "7"
      ]
     },
     "execution_count": 4,
     "metadata": {},
     "output_type": "execute_result"
    }
   ],
   "source": [
    "# Not taking EPS growth because if NaN values \n",
    "list_df_str = [\n",
    "            'CURRENT_EV_TO_T12M_EBITDA','DIVIDEND_INDICATED_YIELD','EBITDA_TO_INTEREST_EXPN',\n",
    "            'EBITDA_TO_REVENUE','EQY_DVD_YLD_IND','PE_RATIO','TOT_DEBT_TO_EBITDA'\n",
    "          ]\n",
    "list_df = [\n",
    "            CURRENT_EV_TO_T12M_EBITDA,DIVIDEND_INDICATED_YIELD,EBITDA_TO_INTEREST_EXPN,\n",
    "            EBITDA_TO_REVENUE,EQY_DVD_YLD_IND,PE_RATIO,TOT_DEBT_TO_EBITDA\n",
    "          ]\n",
    "len(list_df)"
   ]
  },
  {
   "cell_type": "code",
   "execution_count": 5,
   "metadata": {
    "ExecuteTime": {
     "end_time": "2020-04-06T11:23:17.223145Z",
     "start_time": "2020-04-06T11:23:17.109450Z"
    }
   },
   "outputs": [
    {
     "name": "stdout",
     "output_type": "stream",
     "text": [
      "(40, 9)\n"
     ]
    },
    {
     "data": {
      "text/html": [
       "<div>\n",
       "<style scoped>\n",
       "    .dataframe tbody tr th:only-of-type {\n",
       "        vertical-align: middle;\n",
       "    }\n",
       "\n",
       "    .dataframe tbody tr th {\n",
       "        vertical-align: top;\n",
       "    }\n",
       "\n",
       "    .dataframe thead th {\n",
       "        text-align: right;\n",
       "    }\n",
       "</style>\n",
       "<table border=\"1\" class=\"dataframe\">\n",
       "  <thead>\n",
       "    <tr style=\"text-align: right;\">\n",
       "      <th></th>\n",
       "      <th>Date</th>\n",
       "      <th>HES US Equity</th>\n",
       "      <th>CURRENT_EV_TO_T12M_EBITDA</th>\n",
       "      <th>DIVIDEND_INDICATED_YIELD</th>\n",
       "      <th>EBITDA_TO_INTEREST_EXPN</th>\n",
       "      <th>EBITDA_TO_REVENUE</th>\n",
       "      <th>EQY_DVD_YLD_IND</th>\n",
       "      <th>PE_RATIO</th>\n",
       "      <th>TOT_DEBT_TO_EBITDA</th>\n",
       "    </tr>\n",
       "  </thead>\n",
       "  <tbody>\n",
       "    <tr>\n",
       "      <th>0</th>\n",
       "      <td>2010-01-01</td>\n",
       "      <td>1.747707</td>\n",
       "      <td>5.5099</td>\n",
       "      <td>0.6612</td>\n",
       "      <td>16.5495</td>\n",
       "      <td>17.3542</td>\n",
       "      <td>0.6612</td>\n",
       "      <td>40.8164</td>\n",
       "      <td>1.0684</td>\n",
       "    </tr>\n",
       "    <tr>\n",
       "      <th>1</th>\n",
       "      <td>2010-04-01</td>\n",
       "      <td>-16.286390</td>\n",
       "      <td>4.5871</td>\n",
       "      <td>0.6395</td>\n",
       "      <td>19.4167</td>\n",
       "      <td>17.6153</td>\n",
       "      <td>0.6395</td>\n",
       "      <td>18.0571</td>\n",
       "      <td>0.8424</td>\n",
       "    </tr>\n",
       "  </tbody>\n",
       "</table>\n",
       "</div>"
      ],
      "text/plain": [
       "        Date  HES US Equity  CURRENT_EV_TO_T12M_EBITDA  \\\n",
       "0 2010-01-01       1.747707                     5.5099   \n",
       "1 2010-04-01     -16.286390                     4.5871   \n",
       "\n",
       "   DIVIDEND_INDICATED_YIELD  EBITDA_TO_INTEREST_EXPN  EBITDA_TO_REVENUE  \\\n",
       "0                    0.6612                  16.5495            17.3542   \n",
       "1                    0.6395                  19.4167            17.6153   \n",
       "\n",
       "   EQY_DVD_YLD_IND  PE_RATIO  TOT_DEBT_TO_EBITDA  \n",
       "0           0.6612   40.8164              1.0684  \n",
       "1           0.6395   18.0571              0.8424  "
      ]
     },
     "execution_count": 5,
     "metadata": {},
     "output_type": "execute_result"
    }
   ],
   "source": [
    "col = 'HES US Equity'\n",
    "df = returns[[\"Date\",str(col)]].copy()\n",
    "df.Date = pd.to_datetime(df.Date)\n",
    "df.Date = df.Date.dt.strftime('%m/%Y')\n",
    "df_final = df.copy()\n",
    "\n",
    "for res,res_str in zip(list_df,list_df_str):\n",
    "    \n",
    "    df2 = res[[\"Date\",str(col)]].copy()\n",
    "    df2.Date = pd.to_datetime(df2.Date)\n",
    "    df2.rename(columns={str(col): str(res_str) }, inplace = True)\n",
    "    df2.Date = df2.Date + pd.DateOffset(months=1)\n",
    "    df2.Date = df2.Date.dt.strftime('%m/%Y')\n",
    "    \n",
    "    # This line makes the difference about getting the data quarterly vs monthly\n",
    "    #df_final = pd.merge(df_final,df2,on='Date', how='outer').fillna(method='ffill').dropna()\n",
    "    df_final = pd.merge(df_final,df2,on='Date', how='outer').dropna()\n",
    "\n",
    "# df_final[col+' lag1'] = df_final[col].shift(1,axis = 0)\n",
    "# df_final[col+' lag2'] = df_final[col].shift(2,axis = 0)\n",
    "df_final.dropna(inplace = True)\n",
    "df_final.reset_index(drop=True,inplace = True)\n",
    "df_final.Date = pd.to_datetime(df_final.Date)\n",
    "print(df_final.shape)\n",
    "df_final.head(2)"
   ]
  },
  {
   "cell_type": "code",
   "execution_count": 6,
   "metadata": {
    "ExecuteTime": {
     "end_time": "2020-04-06T11:23:17.236110Z",
     "start_time": "2020-04-06T11:23:17.225140Z"
    }
   },
   "outputs": [
    {
     "data": {
      "text/html": [
       "<div>\n",
       "<style scoped>\n",
       "    .dataframe tbody tr th:only-of-type {\n",
       "        vertical-align: middle;\n",
       "    }\n",
       "\n",
       "    .dataframe tbody tr th {\n",
       "        vertical-align: top;\n",
       "    }\n",
       "\n",
       "    .dataframe thead th {\n",
       "        text-align: right;\n",
       "    }\n",
       "</style>\n",
       "<table border=\"1\" class=\"dataframe\">\n",
       "  <thead>\n",
       "    <tr style=\"text-align: right;\">\n",
       "      <th></th>\n",
       "      <th>Date</th>\n",
       "      <th>HES US Equity</th>\n",
       "      <th>CURRENT_EV_TO_T12M_EBITDA</th>\n",
       "      <th>DIVIDEND_INDICATED_YIELD</th>\n",
       "      <th>EBITDA_TO_INTEREST_EXPN</th>\n",
       "      <th>EBITDA_TO_REVENUE</th>\n",
       "      <th>EQY_DVD_YLD_IND</th>\n",
       "      <th>PE_RATIO</th>\n",
       "      <th>TOT_DEBT_TO_EBITDA</th>\n",
       "    </tr>\n",
       "  </thead>\n",
       "  <tbody>\n",
       "    <tr>\n",
       "      <th>0</th>\n",
       "      <td>2010-01-01</td>\n",
       "      <td>1.747707</td>\n",
       "      <td>5.5099</td>\n",
       "      <td>0.6612</td>\n",
       "      <td>16.5495</td>\n",
       "      <td>17.3542</td>\n",
       "      <td>0.6612</td>\n",
       "      <td>40.8164</td>\n",
       "      <td>1.0684</td>\n",
       "    </tr>\n",
       "    <tr>\n",
       "      <th>1</th>\n",
       "      <td>2010-04-01</td>\n",
       "      <td>-16.286390</td>\n",
       "      <td>4.5871</td>\n",
       "      <td>0.6395</td>\n",
       "      <td>19.4167</td>\n",
       "      <td>17.6153</td>\n",
       "      <td>0.6395</td>\n",
       "      <td>18.0571</td>\n",
       "      <td>0.8424</td>\n",
       "    </tr>\n",
       "  </tbody>\n",
       "</table>\n",
       "</div>"
      ],
      "text/plain": [
       "        Date  HES US Equity  CURRENT_EV_TO_T12M_EBITDA  \\\n",
       "0 2010-01-01       1.747707                     5.5099   \n",
       "1 2010-04-01     -16.286390                     4.5871   \n",
       "\n",
       "   DIVIDEND_INDICATED_YIELD  EBITDA_TO_INTEREST_EXPN  EBITDA_TO_REVENUE  \\\n",
       "0                    0.6612                  16.5495            17.3542   \n",
       "1                    0.6395                  19.4167            17.6153   \n",
       "\n",
       "   EQY_DVD_YLD_IND  PE_RATIO  TOT_DEBT_TO_EBITDA  \n",
       "0           0.6612   40.8164              1.0684  \n",
       "1           0.6395   18.0571              0.8424  "
      ]
     },
     "execution_count": 6,
     "metadata": {},
     "output_type": "execute_result"
    }
   ],
   "source": [
    "df_final.head(2)"
   ]
  },
  {
   "cell_type": "code",
   "execution_count": 7,
   "metadata": {
    "ExecuteTime": {
     "end_time": "2020-04-06T11:23:17.261043Z",
     "start_time": "2020-04-06T11:23:17.238105Z"
    }
   },
   "outputs": [
    {
     "data": {
      "text/plain": [
       "False"
      ]
     },
     "execution_count": 7,
     "metadata": {},
     "output_type": "execute_result"
    }
   ],
   "source": [
    "df_final.isnull().values.any()"
   ]
  },
  {
   "cell_type": "code",
   "execution_count": 8,
   "metadata": {
    "ExecuteTime": {
     "end_time": "2020-04-06T11:23:17.281987Z",
     "start_time": "2020-04-06T11:23:17.264036Z"
    }
   },
   "outputs": [
    {
     "data": {
      "text/plain": [
       "40"
      ]
     },
     "execution_count": 8,
     "metadata": {},
     "output_type": "execute_result"
    }
   ],
   "source": [
    "len(df_final)"
   ]
  },
  {
   "cell_type": "code",
   "execution_count": 9,
   "metadata": {
    "ExecuteTime": {
     "end_time": "2020-04-06T11:23:17.679066Z",
     "start_time": "2020-04-06T11:23:17.283981Z"
    }
   },
   "outputs": [
    {
     "data": {
      "text/plain": [
       "<matplotlib.axes._subplots.AxesSubplot at 0x2648c4115f8>"
      ]
     },
     "execution_count": 9,
     "metadata": {},
     "output_type": "execute_result"
    },
    {
     "data": {
      "image/png": "[encoded data removed]",
      "text/plain": [
       "<Figure size 720x504 with 2 Axes>"
      ]
     },
     "metadata": {
      "needs_background": "light"
     },
     "output_type": "display_data"
    }
   ],
   "source": [
    "fig = plt.figure(figsize=(10, 7))\n",
    "sns.heatmap(df_final.iloc[:,1:].corr())"
   ]
  },
  {
   "cell_type": "code",
   "execution_count": 10,
   "metadata": {
    "ExecuteTime": {
     "end_time": "2020-04-06T11:23:17.874710Z",
     "start_time": "2020-04-06T11:23:17.681057Z"
    }
   },
   "outputs": [],
   "source": [
    "# Creation d'une liste avec les modeles qui vont être appliqués\n",
    "from xgboost import XGBRegressor\n",
    "from sklearn.ensemble import GradientBoostingRegressor\n",
    "from sklearn.ensemble import RandomForestRegressor\n",
    "from sklearn.ensemble import AdaBoostRegressor\n",
    "from catboost import CatBoostRegressor\n",
    "from lightgbm import LGBMRegressor\n",
    "from sklearn import metrics\n",
    "from sklearn.preprocessing import StandardScaler\n",
    "\n",
    "\n",
    "models = []\n",
    "models.append(XGBRegressor(silent=True))\n",
    "models.append(GradientBoostingRegressor(verbose = 0))\n",
    "models.append(RandomForestRegressor(verbose=0))\n",
    "models.append(AdaBoostRegressor())\n",
    "models.append(CatBoostRegressor(silent=True))\n",
    "models.append(LGBMRegressor(silent=True))"
   ]
  },
  {
   "cell_type": "code",
   "execution_count": 11,
   "metadata": {
    "ExecuteTime": {
     "end_time": "2020-04-06T11:23:17.886813Z",
     "start_time": "2020-04-06T11:23:17.875713Z"
    }
   },
   "outputs": [],
   "source": [
    "y = df_final[['HES US Equity']].copy()\n",
    "date = df_final['Date'].to_list()\n",
    "X = df_final.drop(['Date','HES US Equity'],axis=1).copy()\n",
    "sc = StandardScaler()\n",
    "X[list_df_str] = sc.fit_transform(X[list_df_str])"
   ]
  },
  {
   "cell_type": "code",
   "execution_count": 29,
   "metadata": {
    "ExecuteTime": {
     "end_time": "2020-04-06T12:05:38.660752Z",
     "start_time": "2020-04-06T12:05:35.604418Z"
    },
    "scrolled": true
   },
   "outputs": [
    {
     "name": "stdout",
     "output_type": "stream",
     "text": [
      "Current index0\n",
      "Current index1\n",
      "Current index2\n",
      "Current index3\n"
     ]
    }
   ],
   "source": [
    "i = 0 \n",
    "results = []\n",
    "date_of_pred = []\n",
    "# Normally is 60 = 5 years\n",
    "# It works better when is 118 (full length data)\n",
    "window_size = 4\n",
    "step_size = 1\n",
    "backtest_size = 1\n",
    "names = []\n",
    "\n",
    "for m in models:\n",
    "    m = str(m).split('(')[0]\n",
    "    names.append(m)\n",
    "\n",
    "while i + window_size <=7: #X.shape[0]:\n",
    "    \n",
    "    print(\"Current index\"+str(i))\n",
    "    \n",
    "    # We take the first 60 data points\n",
    "    sample_X = X.iloc[:i+window_size,:].copy()\n",
    "    sample_Y = y.iloc[:i+window_size].copy()\n",
    "    # We train it in the first 59 points\n",
    "    X_train = sample_X.iloc[:-backtest_size,:].copy()\n",
    "    Y_train = sample_Y.iloc[:-backtest_size].copy()\n",
    "    # We test for the following month (so we try to predict only one month)\n",
    "    X_test = sample_X.iloc[-backtest_size:,:].copy()\n",
    "    Y_test = sample_Y.iloc[-backtest_size:].copy()\n",
    "    #date_of_pred.append(str(date[X_test.index[-1]]))\n",
    "    date_of_pred.append(str(date[X_train.index[0]]) + '-' + str(date[X_test.index[-1]]))\n",
    "    \n",
    "    \"\"\"\n",
    "    In case we want to calculate more than the next month, this will take the first \n",
    "    and the last date of the X_test\n",
    "    date_of_pred.append(str(date[X_test.index[0]]) + '-' + str(date[X_test.index[-1]]))\n",
    "    \"\"\"\n",
    "    x_train_values = X_train.values\n",
    "    y_train_values = Y_train.values\n",
    "    y_train_values = Y_test.values\n",
    "    \n",
    "    modelscore = []\n",
    "    \n",
    "    for model in models:\n",
    "        \n",
    "        model.fit(X_train,Y_train.values.ravel())\n",
    "        y_pred = model.predict(X_test)\n",
    "        # Mean absolute error\n",
    "        score = metrics.mean_absolute_error(Y_test.values.ravel(), y_pred)\n",
    "        modelscore.append(score)\n",
    "    \n",
    "    results.append(modelscore)\n",
    "    \n",
    "    i+=step_size"
   ]
  },
  {
   "cell_type": "code",
   "execution_count": 13,
   "metadata": {
    "ExecuteTime": {
     "end_time": "2020-04-06T11:24:28.893939Z",
     "start_time": "2020-04-06T11:24:28.621648Z"
    }
   },
   "outputs": [],
   "source": [
    "results_summary = pd.DataFrame(results,columns = names)\n",
    "results_summary.insert(0,\"period_of_pred\",date_of_pred)\n",
    "results_summary.to_excel('Quarterly.xlsx')"
   ]
  },
  {
   "cell_type": "code",
   "execution_count": 14,
   "metadata": {
    "ExecuteTime": {
     "end_time": "2020-04-06T11:24:28.925855Z",
     "start_time": "2020-04-06T11:24:28.896932Z"
    }
   },
   "outputs": [
    {
     "data": {
      "text/plain": [
       "XGBRegressor                                                      8.167177\n",
       "GradientBoostingRegressor                                         8.540639\n",
       "RandomForestRegressor                                             7.979839\n",
       "AdaBoostRegressor                                                 8.376153\n",
       "<catboost.core.CatBoostRegressor object at 0x000002648E5FB358>    7.875301\n",
       "LGBMRegressor                                                     7.216154\n",
       "dtype: float64"
      ]
     },
     "execution_count": 14,
     "metadata": {},
     "output_type": "execute_result"
    }
   ],
   "source": [
    "results_summary.mean()"
   ]
  },
  {
   "cell_type": "code",
   "execution_count": null,
   "metadata": {},
   "outputs": [],
   "source": []
  }
 ],
 "metadata": {
  "kernelspec": {
   "display_name": "Python 3",
   "language": "python",
   "name": "python3"
  },
  "language_info": {
   "codemirror_mode": {
    "name": "ipython",
    "version": 3
   },
   "file_extension": ".py",
   "mimetype": "text/x-python",
   "name": "python",
   "nbconvert_exporter": "python",
   "pygments_lexer": "ipython3",
   "version": "3.7.3"
  },
  "latex_envs": {
   "LaTeX_envs_menu_present": true,
   "autoclose": false,
   "autocomplete": true,
   "bibliofile": "biblio.bib",
   "cite_by": "apalike",
   "current_citInitial": 1,
   "eqLabelWithNumbers": true,
   "eqNumInitial": 1,
   "hotkeys": {
    "equation": "Ctrl-E",
    "itemize": "Ctrl-I"
   },
   "labels_anchors": false,
   "latex_user_defs": false,
   "report_style_numbering": false,
   "user_envs_cfg": false
  }
 },
 "nbformat": 4,
 "nbformat_minor": 2
}
