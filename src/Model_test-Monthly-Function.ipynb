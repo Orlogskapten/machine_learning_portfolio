{
 "cells": [
  {
   "cell_type": "code",
   "execution_count": 1,
   "metadata": {
    "ExecuteTime": {
     "end_time": "2020-04-06T18:50:41.421628Z",
     "start_time": "2020-04-06T18:50:39.152518Z"
    }
   },
   "outputs": [],
   "source": [
    "import pandas as pd\n",
    "import seaborn as sns\n",
    "import matplotlib.pyplot as plt\n",
    "import warnings\n",
    "warnings.filterwarnings(\"ignore\")"
   ]
  },
  {
   "cell_type": "code",
   "execution_count": 2,
   "metadata": {
    "ExecuteTime": {
     "end_time": "2020-04-06T18:50:41.429452Z",
     "start_time": "2020-04-06T18:50:41.423465Z"
    }
   },
   "outputs": [],
   "source": [
    "file_path= \"../data/\"\n",
    "list_col = ['HES US Equity', 'NEM US Equity', 'INTC US Equity', 'IFF US Equity',\n",
    "       'MOS US Equity', 'EXC US Equity', 'KMB US Equity', 'JNJ US Equity',\n",
    "       'BAX US Equity', 'F US Equity', 'COP US Equity',\n",
    "       'WFC US Equity', 'WY US Equity', 'TGT US Equity', 'MMM US Equity',\n",
    "       'CMI US Equity', 'HAS US Equity', 'DUK US Equity',\n",
    "       'EMN US Equity', 'BK US Equity', 'UFS US Equity', 'ECL US Equity',\n",
    "       'SLB US Equity', 'UPS US Equity', 'T US Equity', 'NSC US Equity',\n",
    "       'PPL US Equity', 'MO US Equity', 'JLL US Equity', 'C US Equity',\n",
    "       'ABT US Equity', 'AMD US Equity', 'CVX US Equity', 'CMA US Equity',\n",
    "       'DTE US Equity', 'HSY US Equity', 'KIM US Equity', 'NBL US Equity',\n",
    "       'IBM US Equity', 'WELL US Equity', 'IR US Equity', 'BKR US Equity',\n",
    "       'WEC US Equity', 'OXY US Equity', 'WMB US Equity', 'UNP US Equity',\n",
    "       'WM US Equity', 'CCL US Equity']"
   ]
  },
  {
   "cell_type": "code",
   "execution_count": 3,
   "metadata": {
    "ExecuteTime": {
     "end_time": "2020-04-06T18:50:41.660593Z",
     "start_time": "2020-04-06T18:50:41.431447Z"
    }
   },
   "outputs": [],
   "source": [
    "returns = pd.read_csv(file_path+\"return.csv\")[['Date1']+list_col]\n",
    "returns.rename(columns={returns.columns[0]: \"Date\" }, inplace = True)\n",
    "CURRENT_EV_TO_T12M_EBITDA = pd.read_csv(file_path+\"CURRENT_EV_TO_T12M_EBITDA.csv\")[['Date']+list_col]\n",
    "DIVIDEND_INDICATED_YIELD= pd.read_csv(file_path+\"DIVIDEND_INDICATED_YIELD.csv\")[['Date']+list_col]\n",
    "EBITDA_TO_INTEREST_EXPN = pd.read_csv(file_path+\"EBITDA_TO_INTEREST_EXPN.csv\")[['Date']+list_col]\n",
    "EBITDA_TO_REVENUE = pd.read_csv(file_path+\"EBITDA_TO_REVENUE.csv\")[['Date']+list_col]\n",
    "EPS_GROWTH = pd.read_csv(file_path+\"EPS_GROWTH.csv\")[['Date']+list_col]\n",
    "EQY_DVD_YLD_IND = pd.read_csv(file_path+\"EQY_DVD_YLD_IND.csv\")[['Date']+list_col]\n",
    "PE_RATIO = pd.read_csv(file_path+\"PE_RATIO.csv\")[['Date']+list_col]\n",
    "TOT_DEBT_TO_EBITDA = pd.read_csv(file_path+\"TOT_DEBT_TO_EBITDA.csv\")[['Date']+list_col]"
   ]
  },
  {
   "cell_type": "code",
   "execution_count": 4,
   "metadata": {
    "ExecuteTime": {
     "end_time": "2020-04-06T18:50:41.669508Z",
     "start_time": "2020-04-06T18:50:41.661528Z"
    }
   },
   "outputs": [
    {
     "data": {
      "text/plain": [
       "7"
      ]
     },
     "execution_count": 4,
     "metadata": {},
     "output_type": "execute_result"
    }
   ],
   "source": [
    "# Not taking EPS growth because if NaN values \n",
    "list_df_str = [\n",
    "            'CURRENT_EV_TO_T12M_EBITDA','DIVIDEND_INDICATED_YIELD','EBITDA_TO_INTEREST_EXPN',\n",
    "            'EBITDA_TO_REVENUE','EQY_DVD_YLD_IND','PE_RATIO','TOT_DEBT_TO_EBITDA'\n",
    "          ]\n",
    "list_df = [\n",
    "            CURRENT_EV_TO_T12M_EBITDA,DIVIDEND_INDICATED_YIELD,EBITDA_TO_INTEREST_EXPN,\n",
    "            EBITDA_TO_REVENUE,EQY_DVD_YLD_IND,PE_RATIO,TOT_DEBT_TO_EBITDA\n",
    "          ]\n",
    "len(list_df)"
   ]
  },
  {
   "cell_type": "code",
   "execution_count": 5,
   "metadata": {
    "ExecuteTime": {
     "end_time": "2020-04-06T18:50:41.691482Z",
     "start_time": "2020-04-06T18:50:41.671534Z"
    }
   },
   "outputs": [],
   "source": [
    "def transform(col, timeline, lags):\n",
    "    \n",
    "    df = returns[[\"Date\",str(col)]].copy()\n",
    "    df.Date = pd.to_datetime(df.Date)\n",
    "    df.Date = df.Date.dt.strftime('%m/%Y')\n",
    "    df_final = df.copy()\n",
    "    \n",
    "    for res,res_str in zip(list_df,list_df_str):\n",
    "\n",
    "        df2 = res[[\"Date\",str(col)]].copy()\n",
    "        df2.Date = pd.to_datetime(df2.Date)\n",
    "        df2.rename(columns={str(col): str(res_str) }, inplace = True)\n",
    "        df2.Date = df2.Date + pd.DateOffset(months=1)\n",
    "        df2.Date = df2.Date.dt.strftime('%m/%Y')\n",
    "        \n",
    "        if timeline == 'Monthly':\n",
    "            df_final = pd.merge(df_final,df2,on='Date', how='outer').fillna(method='ffill').dropna()\n",
    "        elif timeline == 'Quarterly':\n",
    "            df_final = pd.merge(df_final,df2,on='Date', how='outer').dropna()    \n",
    "\n",
    "    for l in range(1,lags+1):\n",
    "        \n",
    "        df_final[col+'lag'+str(l)] = df_final[col].shift(int(l),axis = 0)\n",
    "        \n",
    "    df_final.dropna(inplace = True)\n",
    "    df_final.reset_index(drop=True,inplace = True)\n",
    "    df_final.Date = pd.to_datetime(df_final.Date)\n",
    "    \n",
    "    return df_final"
   ]
  },
  {
   "cell_type": "code",
   "execution_count": 6,
   "metadata": {
    "ExecuteTime": {
     "end_time": "2020-04-06T18:50:41.722375Z",
     "start_time": "2020-04-06T18:50:41.693444Z"
    }
   },
   "outputs": [],
   "source": [
    "def regressonModels(col, timeline, lags):\n",
    "    \n",
    "    \n",
    "    # Creation d'une liste avec les modeles qui vont être appliqués\n",
    "    from xgboost import XGBRegressor\n",
    "    from sklearn.ensemble import GradientBoostingRegressor\n",
    "    from sklearn.ensemble import RandomForestRegressor\n",
    "    from sklearn.ensemble import AdaBoostRegressor\n",
    "    from catboost import CatBoostRegressor\n",
    "    from lightgbm import LGBMRegressor\n",
    "    from sklearn.linear_model import SGDRegressor\n",
    "    from sklearn import metrics\n",
    "    from sklearn.preprocessing import StandardScaler\n",
    "\n",
    "\n",
    "    models = []\n",
    "    models.append(XGBRegressor(silent=True))\n",
    "    models.append(GradientBoostingRegressor(verbose = 0))\n",
    "    models.append(RandomForestRegressor(verbose=0))\n",
    "    models.append(AdaBoostRegressor())\n",
    "    models.append(CatBoostRegressor(silent=True))\n",
    "    models.append(LGBMRegressor(silent=True))\n",
    "    models.append(SGDRegressor())    \n",
    "\n",
    "    \n",
    "    df_final = transform(col, timeline, lags)\n",
    "    y = df_final[[col]].copy()\n",
    "    date = df_final['Date'].to_list()\n",
    "    X = df_final.drop(['Date',col],axis=1).copy()\n",
    "    sc = StandardScaler()\n",
    "    X[X.columns] = sc.fit_transform(X[X.columns])\n",
    "    \n",
    "    if timeline == \"Monthly\":\n",
    "        window_size = 12\n",
    "        step_size = 1\n",
    "        backtest_size = 1\n",
    "    elif timeline == \"Quarterly\":\n",
    "        window_size = 4\n",
    "        step_size = 1\n",
    "        backtest_size = 1        \n",
    "        \n",
    "        \n",
    "    i = 0 \n",
    "    results = []\n",
    "    date_of_pred = []\n",
    "    # Normally is 60 = 5 years\n",
    "    # It works better when is 118 (full length data)\n",
    "    names = []\n",
    "    \n",
    "    ##################\n",
    "    results_y_pred = []\n",
    "    #################\n",
    "\n",
    "    for m in models:\n",
    "        m = str(m).split('(')[0]\n",
    "        names.append(m)\n",
    "\n",
    "    while i + window_size <= X.shape[0]:\n",
    "\n",
    "#         print(\"Current index\"+str(i))\n",
    "\n",
    "        # We take the first 60 data points\n",
    "        sample_X = X.iloc[:i+window_size,:].copy()\n",
    "        sample_Y = y.iloc[:i+window_size].copy()\n",
    "        # We train it in the first 59 points\n",
    "        X_train = sample_X.iloc[:-backtest_size,:].copy()\n",
    "        Y_train = sample_Y.iloc[:-backtest_size].copy()\n",
    "        # We test for the following month (so we try to predict only one month)\n",
    "        X_test = sample_X.iloc[-backtest_size:,:].copy()\n",
    "        Y_test = sample_Y.iloc[-backtest_size:].copy()\n",
    "        #date_of_pred.append(str(date[X_test.index[-1]]))\n",
    "        date_of_pred.append(str(date[X_train.index[0]]) + '-' + str(date[X_test.index[-1]]))\n",
    "\n",
    "        \"\"\"\n",
    "        In case we want to calculate more than the next month, this will take the first \n",
    "        and the last date of the X_test\n",
    "        date_of_pred.append(str(date[X_test.index[0]]) + '-' + str(date[X_test.index[-1]]))\n",
    "        \"\"\"\n",
    "\n",
    "        modelscore = []\n",
    "        ##################\n",
    "        y_predit_list = []\n",
    "        ##################\n",
    "        \n",
    "        for model in models:\n",
    "\n",
    "            model.fit(X_train,Y_train)\n",
    "            y_pred = model.predict(X_test)\n",
    "            ##############################\n",
    "            y_predit_list.append(y_pred[0])\n",
    "            ###############################\n",
    "            # Mean absolute error\n",
    "            score = metrics.mean_absolute_error(Y_test, y_pred)\n",
    "            modelscore.append(score)\n",
    "\n",
    "        results_y_pred.append(y_predit_list)\n",
    "        results.append(modelscore)\n",
    "\n",
    "        i+=step_size\n",
    "        \n",
    "    # Returning \n",
    "    \n",
    "    results_summary = pd.DataFrame(results,columns = names)\n",
    "    #results_summary.insert(0,\"period_of_pred\",date_of_pred)\n",
    "    results_summary['Best_model'] = results_summary.idxmin(axis=1)\n",
    "    best_m = results_summary.head(1)['Best_model'].values[0]\n",
    "    \n",
    "    \n",
    "    results_y_pred = pd.DataFrame(results_y_pred,columns = names)\n",
    "    val_of_y = list(results_y_pred[best_m])\n",
    "    \n",
    "    print('Ticker '+str(col)+' finished')    \n",
    "    \n",
    "    return col , best_m , val_of_y"
   ]
  },
  {
   "cell_type": "code",
   "execution_count": 7,
   "metadata": {
    "ExecuteTime": {
     "end_time": "2020-04-06T19:16:29.788108Z",
     "start_time": "2020-04-06T18:50:41.728351Z"
    }
   },
   "outputs": [
    {
     "name": "stdout",
     "output_type": "stream",
     "text": [
      "Ticker HES US Equity finished\n",
      "Ticker NEM US Equity finished\n",
      "Ticker INTC US Equity finished\n",
      "Ticker IFF US Equity finished\n",
      "Ticker MOS US Equity finished\n",
      "Ticker EXC US Equity finished\n",
      "Ticker KMB US Equity finished\n",
      "Ticker JNJ US Equity finished\n",
      "Ticker BAX US Equity finished\n"
     ]
    },
    {
     "ename": "KeyboardInterrupt",
     "evalue": "",
     "output_type": "error",
     "traceback": [
      "\u001b[1;31m---------------------------------------------------------------------------\u001b[0m",
      "\u001b[1;31mKeyboardInterrupt\u001b[0m                         Traceback (most recent call last)",
      "\u001b[1;32m<ipython-input-7-c1cf38132916>\u001b[0m in \u001b[0;36m<module>\u001b[1;34m\u001b[0m\n\u001b[0;32m      4\u001b[0m \u001b[1;33m\u001b[0m\u001b[0m\n\u001b[0;32m      5\u001b[0m \u001b[1;32mfor\u001b[0m \u001b[0masset\u001b[0m \u001b[1;32min\u001b[0m \u001b[0mlist_col\u001b[0m\u001b[1;33m:\u001b[0m\u001b[1;33m\u001b[0m\u001b[1;33m\u001b[0m\u001b[0m\n\u001b[1;32m----> 6\u001b[1;33m     \u001b[0mass\u001b[0m \u001b[1;33m,\u001b[0m \u001b[0mbest_m\u001b[0m\u001b[1;33m,\u001b[0m \u001b[0mval_of_y\u001b[0m \u001b[1;33m=\u001b[0m \u001b[0mregressonModels\u001b[0m\u001b[1;33m(\u001b[0m\u001b[0mstr\u001b[0m\u001b[1;33m(\u001b[0m\u001b[0masset\u001b[0m\u001b[1;33m)\u001b[0m\u001b[1;33m,\u001b[0m \u001b[1;34m'Monthly'\u001b[0m\u001b[1;33m,\u001b[0m \u001b[1;36m2\u001b[0m\u001b[1;33m)\u001b[0m\u001b[1;33m\u001b[0m\u001b[1;33m\u001b[0m\u001b[0m\n\u001b[0m\u001b[0;32m      7\u001b[0m     \u001b[0masset_list\u001b[0m\u001b[1;33m.\u001b[0m\u001b[0mappend\u001b[0m\u001b[1;33m(\u001b[0m\u001b[0mass\u001b[0m\u001b[1;33m)\u001b[0m\u001b[1;33m\u001b[0m\u001b[1;33m\u001b[0m\u001b[0m\n\u001b[0;32m      8\u001b[0m     \u001b[0mbest_model_list\u001b[0m\u001b[1;33m.\u001b[0m\u001b[0mappend\u001b[0m\u001b[1;33m(\u001b[0m\u001b[0mbest_m\u001b[0m\u001b[1;33m)\u001b[0m\u001b[1;33m\u001b[0m\u001b[1;33m\u001b[0m\u001b[0m\n",
      "\u001b[1;32m<ipython-input-6-f5ea944e864e>\u001b[0m in \u001b[0;36mregressonModels\u001b[1;34m(col, timeline, lags)\u001b[0m\n\u001b[0;32m     85\u001b[0m         \u001b[1;32mfor\u001b[0m \u001b[0mmodel\u001b[0m \u001b[1;32min\u001b[0m \u001b[0mmodels\u001b[0m\u001b[1;33m:\u001b[0m\u001b[1;33m\u001b[0m\u001b[1;33m\u001b[0m\u001b[0m\n\u001b[0;32m     86\u001b[0m \u001b[1;33m\u001b[0m\u001b[0m\n\u001b[1;32m---> 87\u001b[1;33m             \u001b[0mmodel\u001b[0m\u001b[1;33m.\u001b[0m\u001b[0mfit\u001b[0m\u001b[1;33m(\u001b[0m\u001b[0mX_train\u001b[0m\u001b[1;33m,\u001b[0m\u001b[0mY_train\u001b[0m\u001b[1;33m)\u001b[0m\u001b[1;33m\u001b[0m\u001b[1;33m\u001b[0m\u001b[0m\n\u001b[0m\u001b[0;32m     88\u001b[0m             \u001b[0my_pred\u001b[0m \u001b[1;33m=\u001b[0m \u001b[0mmodel\u001b[0m\u001b[1;33m.\u001b[0m\u001b[0mpredict\u001b[0m\u001b[1;33m(\u001b[0m\u001b[0mX_test\u001b[0m\u001b[1;33m)\u001b[0m\u001b[1;33m\u001b[0m\u001b[1;33m\u001b[0m\u001b[0m\n\u001b[0;32m     89\u001b[0m             \u001b[1;31m##############################\u001b[0m\u001b[1;33m\u001b[0m\u001b[1;33m\u001b[0m\u001b[1;33m\u001b[0m\u001b[0m\n",
      "\u001b[1;32m~\\Anaconda3\\lib\\site-packages\\catboost\\core.py\u001b[0m in \u001b[0;36mfit\u001b[1;34m(self, X, y, cat_features, sample_weight, baseline, use_best_model, eval_set, verbose, logging_level, plot, column_description, verbose_eval, metric_period, silent, early_stopping_rounds, save_snapshot, snapshot_file, snapshot_interval, init_model)\u001b[0m\n\u001b[0;32m   4478\u001b[0m                          \u001b[0muse_best_model\u001b[0m\u001b[1;33m,\u001b[0m \u001b[0meval_set\u001b[0m\u001b[1;33m,\u001b[0m \u001b[0mverbose\u001b[0m\u001b[1;33m,\u001b[0m \u001b[0mlogging_level\u001b[0m\u001b[1;33m,\u001b[0m \u001b[0mplot\u001b[0m\u001b[1;33m,\u001b[0m \u001b[0mcolumn_description\u001b[0m\u001b[1;33m,\u001b[0m\u001b[1;33m\u001b[0m\u001b[1;33m\u001b[0m\u001b[0m\n\u001b[0;32m   4479\u001b[0m                          \u001b[0mverbose_eval\u001b[0m\u001b[1;33m,\u001b[0m \u001b[0mmetric_period\u001b[0m\u001b[1;33m,\u001b[0m \u001b[0msilent\u001b[0m\u001b[1;33m,\u001b[0m \u001b[0mearly_stopping_rounds\u001b[0m\u001b[1;33m,\u001b[0m\u001b[1;33m\u001b[0m\u001b[1;33m\u001b[0m\u001b[0m\n\u001b[1;32m-> 4480\u001b[1;33m                          save_snapshot, snapshot_file, snapshot_interval, init_model)\n\u001b[0m\u001b[0;32m   4481\u001b[0m \u001b[1;33m\u001b[0m\u001b[0m\n\u001b[0;32m   4482\u001b[0m     \u001b[1;32mdef\u001b[0m \u001b[0mpredict\u001b[0m\u001b[1;33m(\u001b[0m\u001b[0mself\u001b[0m\u001b[1;33m,\u001b[0m \u001b[0mdata\u001b[0m\u001b[1;33m,\u001b[0m \u001b[0mntree_start\u001b[0m\u001b[1;33m=\u001b[0m\u001b[1;36m0\u001b[0m\u001b[1;33m,\u001b[0m \u001b[0mntree_end\u001b[0m\u001b[1;33m=\u001b[0m\u001b[1;36m0\u001b[0m\u001b[1;33m,\u001b[0m \u001b[0mthread_count\u001b[0m\u001b[1;33m=\u001b[0m\u001b[1;33m-\u001b[0m\u001b[1;36m1\u001b[0m\u001b[1;33m,\u001b[0m \u001b[0mverbose\u001b[0m\u001b[1;33m=\u001b[0m\u001b[1;32mNone\u001b[0m\u001b[1;33m)\u001b[0m\u001b[1;33m:\u001b[0m\u001b[1;33m\u001b[0m\u001b[1;33m\u001b[0m\u001b[0m\n",
      "\u001b[1;32m~\\Anaconda3\\lib\\site-packages\\catboost\\core.py\u001b[0m in \u001b[0;36m_fit\u001b[1;34m(self, X, y, cat_features, text_features, pairs, sample_weight, group_id, group_weight, subgroup_id, pairs_weight, baseline, use_best_model, eval_set, verbose, logging_level, plot, column_description, verbose_eval, metric_period, silent, early_stopping_rounds, save_snapshot, snapshot_file, snapshot_interval, init_model)\u001b[0m\n\u001b[0;32m   1730\u001b[0m                 \u001b[0mparams\u001b[0m\u001b[1;33m,\u001b[0m\u001b[1;33m\u001b[0m\u001b[1;33m\u001b[0m\u001b[0m\n\u001b[0;32m   1731\u001b[0m                 \u001b[0mallow_clear_pool\u001b[0m\u001b[1;33m,\u001b[0m\u001b[1;33m\u001b[0m\u001b[1;33m\u001b[0m\u001b[0m\n\u001b[1;32m-> 1732\u001b[1;33m                 \u001b[0mtrain_params\u001b[0m\u001b[1;33m[\u001b[0m\u001b[1;34m\"init_model\"\u001b[0m\u001b[1;33m]\u001b[0m\u001b[1;33m\u001b[0m\u001b[1;33m\u001b[0m\u001b[0m\n\u001b[0m\u001b[0;32m   1733\u001b[0m             )\n\u001b[0;32m   1734\u001b[0m \u001b[1;33m\u001b[0m\u001b[0m\n",
      "\u001b[1;32m~\\Anaconda3\\lib\\site-packages\\catboost\\core.py\u001b[0m in \u001b[0;36m_train\u001b[1;34m(self, train_pool, test_pool, params, allow_clear_pool, init_model)\u001b[0m\n\u001b[0;32m   1253\u001b[0m \u001b[1;33m\u001b[0m\u001b[0m\n\u001b[0;32m   1254\u001b[0m     \u001b[1;32mdef\u001b[0m \u001b[0m_train\u001b[0m\u001b[1;33m(\u001b[0m\u001b[0mself\u001b[0m\u001b[1;33m,\u001b[0m \u001b[0mtrain_pool\u001b[0m\u001b[1;33m,\u001b[0m \u001b[0mtest_pool\u001b[0m\u001b[1;33m,\u001b[0m \u001b[0mparams\u001b[0m\u001b[1;33m,\u001b[0m \u001b[0mallow_clear_pool\u001b[0m\u001b[1;33m,\u001b[0m \u001b[0minit_model\u001b[0m\u001b[1;33m)\u001b[0m\u001b[1;33m:\u001b[0m\u001b[1;33m\u001b[0m\u001b[1;33m\u001b[0m\u001b[0m\n\u001b[1;32m-> 1255\u001b[1;33m         \u001b[0mself\u001b[0m\u001b[1;33m.\u001b[0m\u001b[0m_object\u001b[0m\u001b[1;33m.\u001b[0m\u001b[0m_train\u001b[0m\u001b[1;33m(\u001b[0m\u001b[0mtrain_pool\u001b[0m\u001b[1;33m,\u001b[0m \u001b[0mtest_pool\u001b[0m\u001b[1;33m,\u001b[0m \u001b[0mparams\u001b[0m\u001b[1;33m,\u001b[0m \u001b[0mallow_clear_pool\u001b[0m\u001b[1;33m,\u001b[0m \u001b[0minit_model\u001b[0m\u001b[1;33m.\u001b[0m\u001b[0m_object\u001b[0m \u001b[1;32mif\u001b[0m \u001b[0minit_model\u001b[0m \u001b[1;32melse\u001b[0m \u001b[1;32mNone\u001b[0m\u001b[1;33m)\u001b[0m\u001b[1;33m\u001b[0m\u001b[1;33m\u001b[0m\u001b[0m\n\u001b[0m\u001b[0;32m   1256\u001b[0m         \u001b[0mself\u001b[0m\u001b[1;33m.\u001b[0m\u001b[0m_set_trained_model_attributes\u001b[0m\u001b[1;33m(\u001b[0m\u001b[1;33m)\u001b[0m\u001b[1;33m\u001b[0m\u001b[1;33m\u001b[0m\u001b[0m\n\u001b[0;32m   1257\u001b[0m \u001b[1;33m\u001b[0m\u001b[0m\n",
      "\u001b[1;32m_catboost.pyx\u001b[0m in \u001b[0;36m_catboost._CatBoost._train\u001b[1;34m()\u001b[0m\n",
      "\u001b[1;32m_catboost.pyx\u001b[0m in \u001b[0;36m_catboost._CatBoost._train\u001b[1;34m()\u001b[0m\n",
      "\u001b[1;31mKeyboardInterrupt\u001b[0m: "
     ]
    }
   ],
   "source": [
    "asset_list = []\n",
    "best_model_list = []\n",
    "val_of_y_list = []\n",
    "\n",
    "for asset in list_col:\n",
    "    ass , best_m, val_of_y = regressonModels(str(asset), 'Monthly', 2)\n",
    "    asset_list.append(ass)\n",
    "    best_model_list.append(best_m)\n",
    "    val_of_y_list.append(val_of_y)"
   ]
  },
  {
   "cell_type": "code",
   "execution_count": 10,
   "metadata": {
    "ExecuteTime": {
     "end_time": "2020-04-06T19:17:07.050852Z",
     "start_time": "2020-04-06T19:17:07.043871Z"
    }
   },
   "outputs": [],
   "source": [
    "final_results = pd.DataFrame()\n",
    "final_results['Asset'] = asset_list\n",
    "final_results['Model'] = best_model_list\n",
    "final_results['Returns_predict'] = val_of_y_list"
   ]
  },
  {
   "cell_type": "code",
   "execution_count": 11,
   "metadata": {
    "ExecuteTime": {
     "end_time": "2020-04-06T19:17:08.144596Z",
     "start_time": "2020-04-06T19:17:08.119662Z"
    }
   },
   "outputs": [
    {
     "data": {
      "text/html": [
       "<div>\n",
       "<style scoped>\n",
       "    .dataframe tbody tr th:only-of-type {\n",
       "        vertical-align: middle;\n",
       "    }\n",
       "\n",
       "    .dataframe tbody tr th {\n",
       "        vertical-align: top;\n",
       "    }\n",
       "\n",
       "    .dataframe thead th {\n",
       "        text-align: right;\n",
       "    }\n",
       "</style>\n",
       "<table border=\"1\" class=\"dataframe\">\n",
       "  <thead>\n",
       "    <tr style=\"text-align: right;\">\n",
       "      <th></th>\n",
       "      <th>Asset</th>\n",
       "      <th>Model</th>\n",
       "      <th>Returns_predict</th>\n",
       "    </tr>\n",
       "  </thead>\n",
       "  <tbody>\n",
       "    <tr>\n",
       "      <th>0</th>\n",
       "      <td>HES US Equity</td>\n",
       "      <td>RandomForestRegressor</td>\n",
       "      <td>[-2.809064600000006, 0.6152145699999998, -4.06...</td>\n",
       "    </tr>\n",
       "    <tr>\n",
       "      <th>1</th>\n",
       "      <td>NEM US Equity</td>\n",
       "      <td>RandomForestRegressor</td>\n",
       "      <td>[-1.7914076059999997, -0.9033056110000004, -4....</td>\n",
       "    </tr>\n",
       "    <tr>\n",
       "      <th>2</th>\n",
       "      <td>INTC US Equity</td>\n",
       "      <td>LGBMRegressor</td>\n",
       "      <td>[3.1969774527983232, 3.313437153895696, 3.1351...</td>\n",
       "    </tr>\n",
       "    <tr>\n",
       "      <th>3</th>\n",
       "      <td>IFF US Equity</td>\n",
       "      <td>XGBRegressor</td>\n",
       "      <td>[2.137643337249756, 4.116685390472412, 0.60484...</td>\n",
       "    </tr>\n",
       "    <tr>\n",
       "      <th>4</th>\n",
       "      <td>MOS US Equity</td>\n",
       "      <td>XGBRegressor</td>\n",
       "      <td>[-0.2642870545387268, -8.006417274475098, 7.39...</td>\n",
       "    </tr>\n",
       "    <tr>\n",
       "      <th>5</th>\n",
       "      <td>EXC US Equity</td>\n",
       "      <td>AdaBoostRegressor</td>\n",
       "      <td>[-0.9027720666666665, -0.8123149333333334, -0....</td>\n",
       "    </tr>\n",
       "    <tr>\n",
       "      <th>6</th>\n",
       "      <td>KMB US Equity</td>\n",
       "      <td>RandomForestRegressor</td>\n",
       "      <td>[0.4350848799999998, -0.16565399600000016, -0....</td>\n",
       "    </tr>\n",
       "    <tr>\n",
       "      <th>7</th>\n",
       "      <td>JNJ US Equity</td>\n",
       "      <td>LGBMRegressor</td>\n",
       "      <td>[-0.12326520410451022, -0.41003084431091946, 0...</td>\n",
       "    </tr>\n",
       "    <tr>\n",
       "      <th>8</th>\n",
       "      <td>BAX US Equity</td>\n",
       "      <td>SGDRegressor</td>\n",
       "      <td>[2.6847617651458355, 4.176697672749186, -4.863...</td>\n",
       "    </tr>\n",
       "  </tbody>\n",
       "</table>\n",
       "</div>"
      ],
      "text/plain": [
       "            Asset                  Model  \\\n",
       "0   HES US Equity  RandomForestRegressor   \n",
       "1   NEM US Equity  RandomForestRegressor   \n",
       "2  INTC US Equity          LGBMRegressor   \n",
       "3   IFF US Equity           XGBRegressor   \n",
       "4   MOS US Equity           XGBRegressor   \n",
       "5   EXC US Equity      AdaBoostRegressor   \n",
       "6   KMB US Equity  RandomForestRegressor   \n",
       "7   JNJ US Equity          LGBMRegressor   \n",
       "8   BAX US Equity           SGDRegressor   \n",
       "\n",
       "                                     Returns_predict  \n",
       "0  [-2.809064600000006, 0.6152145699999998, -4.06...  \n",
       "1  [-1.7914076059999997, -0.9033056110000004, -4....  \n",
       "2  [3.1969774527983232, 3.313437153895696, 3.1351...  \n",
       "3  [2.137643337249756, 4.116685390472412, 0.60484...  \n",
       "4  [-0.2642870545387268, -8.006417274475098, 7.39...  \n",
       "5  [-0.9027720666666665, -0.8123149333333334, -0....  \n",
       "6  [0.4350848799999998, -0.16565399600000016, -0....  \n",
       "7  [-0.12326520410451022, -0.41003084431091946, 0...  \n",
       "8  [2.6847617651458355, 4.176697672749186, -4.863...  "
      ]
     },
     "execution_count": 11,
     "metadata": {},
     "output_type": "execute_result"
    }
   ],
   "source": [
    "final_results"
   ]
  },
  {
   "cell_type": "code",
   "execution_count": null,
   "metadata": {},
   "outputs": [],
   "source": []
  }
 ],
 "metadata": {
  "kernelspec": {
   "display_name": "Python 3",
   "language": "python",
   "name": "python3"
  },
  "language_info": {
   "codemirror_mode": {
    "name": "ipython",
    "version": 3
   },
   "file_extension": ".py",
   "mimetype": "text/x-python",
   "name": "python",
   "nbconvert_exporter": "python",
   "pygments_lexer": "ipython3",
   "version": "3.7.3"
  },
  "latex_envs": {
   "LaTeX_envs_menu_present": true,
   "autoclose": false,
   "autocomplete": true,
   "bibliofile": "biblio.bib",
   "cite_by": "apalike",
   "current_citInitial": 1,
   "eqLabelWithNumbers": true,
   "eqNumInitial": 1,
   "hotkeys": {
    "equation": "Ctrl-E",
    "itemize": "Ctrl-I"
   },
   "labels_anchors": false,
   "latex_user_defs": false,
   "report_style_numbering": false,
   "user_envs_cfg": false
  }
 },
 "nbformat": 4,
 "nbformat_minor": 2
}
