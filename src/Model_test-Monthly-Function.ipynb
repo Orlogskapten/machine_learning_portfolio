{
 "cells": [
  {
   "cell_type": "code",
   "execution_count": 1,
   "metadata": {
    "ExecuteTime": {
     "end_time": "2020-04-06T13:05:22.860484Z",
     "start_time": "2020-04-06T13:05:21.266260Z"
    }
   },
   "outputs": [],
   "source": [
    "import pandas as pd\n",
    "import seaborn as sns\n",
    "import matplotlib.pyplot as plt"
   ]
  },
  {
   "cell_type": "code",
   "execution_count": 2,
   "metadata": {
    "ExecuteTime": {
     "end_time": "2020-04-06T13:05:22.867467Z",
     "start_time": "2020-04-06T13:05:22.861482Z"
    }
   },
   "outputs": [],
   "source": [
    "file_path= \"../data/\"\n",
    "list_col = ['HES US Equity', 'NEM US Equity', 'INTC US Equity', 'IFF US Equity',\n",
    "       'MOS US Equity', 'EXC US Equity', 'KMB US Equity', 'JNJ US Equity',\n",
    "       'BAX US Equity', 'F US Equity', 'COP US Equity',\n",
    "       'WFC US Equity', 'WY US Equity', 'TGT US Equity', 'MMM US Equity',\n",
    "       'CMI US Equity', 'HAS US Equity', 'DUK US Equity',\n",
    "       'EMN US Equity', 'BK US Equity', 'UFS US Equity', 'ECL US Equity',\n",
    "       'SLB US Equity', 'UPS US Equity', 'T US Equity', 'NSC US Equity',\n",
    "       'PPL US Equity', 'MO US Equity', 'JLL US Equity', 'C US Equity',\n",
    "       'ABT US Equity', 'AMD US Equity', 'CVX US Equity', 'CMA US Equity',\n",
    "       'DTE US Equity', 'HSY US Equity', 'KIM US Equity', 'NBL US Equity',\n",
    "       'IBM US Equity', 'WELL US Equity', 'IR US Equity', 'BKR US Equity',\n",
    "       'WEC US Equity', 'OXY US Equity', 'WMB US Equity', 'UNP US Equity',\n",
    "       'WM US Equity', 'CCL US Equity']"
   ]
  },
  {
   "cell_type": "code",
   "execution_count": 3,
   "metadata": {
    "ExecuteTime": {
     "end_time": "2020-04-06T13:05:24.503270Z",
     "start_time": "2020-04-06T13:05:24.353545Z"
    }
   },
   "outputs": [],
   "source": [
    "returns = pd.read_csv(file_path+\"return.csv\")[['Date1']+list_col]\n",
    "returns.rename(columns={returns.columns[0]: \"Date\" }, inplace = True)\n",
    "CURRENT_EV_TO_T12M_EBITDA = pd.read_csv(file_path+\"CURRENT_EV_TO_T12M_EBITDA.csv\")[['Date']+list_col]\n",
    "DIVIDEND_INDICATED_YIELD= pd.read_csv(file_path+\"DIVIDEND_INDICATED_YIELD.csv\")[['Date']+list_col]\n",
    "EBITDA_TO_INTEREST_EXPN = pd.read_csv(file_path+\"EBITDA_TO_INTEREST_EXPN.csv\")[['Date']+list_col]\n",
    "EBITDA_TO_REVENUE = pd.read_csv(file_path+\"EBITDA_TO_REVENUE.csv\")[['Date']+list_col]\n",
    "EPS_GROWTH = pd.read_csv(file_path+\"EPS_GROWTH.csv\")[['Date']+list_col]\n",
    "EQY_DVD_YLD_IND = pd.read_csv(file_path+\"EQY_DVD_YLD_IND.csv\")[['Date']+list_col]\n",
    "PE_RATIO = pd.read_csv(file_path+\"PE_RATIO.csv\")[['Date']+list_col]\n",
    "TOT_DEBT_TO_EBITDA = pd.read_csv(file_path+\"TOT_DEBT_TO_EBITDA.csv\")[['Date']+list_col]"
   ]
  },
  {
   "cell_type": "code",
   "execution_count": 4,
   "metadata": {
    "ExecuteTime": {
     "end_time": "2020-04-06T13:05:25.061214Z",
     "start_time": "2020-04-06T13:05:25.051241Z"
    }
   },
   "outputs": [
    {
     "data": {
      "text/plain": [
       "7"
      ]
     },
     "execution_count": 4,
     "metadata": {},
     "output_type": "execute_result"
    }
   ],
   "source": [
    "# Not taking EPS growth because if NaN values \n",
    "list_df_str = [\n",
    "            'CURRENT_EV_TO_T12M_EBITDA','DIVIDEND_INDICATED_YIELD','EBITDA_TO_INTEREST_EXPN',\n",
    "            'EBITDA_TO_REVENUE','EQY_DVD_YLD_IND','PE_RATIO','TOT_DEBT_TO_EBITDA'\n",
    "          ]\n",
    "list_df = [\n",
    "            CURRENT_EV_TO_T12M_EBITDA,DIVIDEND_INDICATED_YIELD,EBITDA_TO_INTEREST_EXPN,\n",
    "            EBITDA_TO_REVENUE,EQY_DVD_YLD_IND,PE_RATIO,TOT_DEBT_TO_EBITDA\n",
    "          ]\n",
    "len(list_df)"
   ]
  },
  {
   "cell_type": "code",
   "execution_count": 12,
   "metadata": {
    "ExecuteTime": {
     "end_time": "2020-04-06T13:06:58.305362Z",
     "start_time": "2020-04-06T13:06:58.292373Z"
    }
   },
   "outputs": [],
   "source": [
    "def transform(col, timeline, lags):\n",
    "    \n",
    "    df = returns[[\"Date\",str(col)]].copy()\n",
    "    df.Date = pd.to_datetime(df.Date)\n",
    "    df.Date = df.Date.dt.strftime('%m/%Y')\n",
    "    df_final = df.copy()\n",
    "    \n",
    "    for res,res_str in zip(list_df,list_df_str):\n",
    "\n",
    "        df2 = res[[\"Date\",str(col)]].copy()\n",
    "        df2.Date = pd.to_datetime(df2.Date)\n",
    "        df2.rename(columns={str(col): str(res_str) }, inplace = True)\n",
    "        df2.Date = df2.Date + pd.DateOffset(months=1)\n",
    "        df2.Date = df2.Date.dt.strftime('%m/%Y')\n",
    "        \n",
    "        if timeline == 'Quarterly':\n",
    "            df_final = pd.merge(df_final,df2,on='Date', how='outer').fillna(method='ffill').dropna()\n",
    "        elif timeline == 'Monthly':\n",
    "            df_final = pd.merge(df_final,df2,on='Date', how='outer').dropna()    \n",
    "\n",
    "    for l in range(1,lags+1):\n",
    "        \n",
    "        df_final[col+'lag'+str(l)] = df_final[col].shift(int(l),axis = 0)\n",
    "        \n",
    "    df_final.dropna(inplace = True)\n",
    "    df_final.reset_index(drop=True,inplace = True)\n",
    "    df_final.Date = pd.to_datetime(df_final.Date)\n",
    "    \n",
    "    return df_final"
   ]
  },
  {
   "cell_type": "code",
   "execution_count": 15,
   "metadata": {
    "ExecuteTime": {
     "end_time": "2020-04-06T13:09:57.354469Z",
     "start_time": "2020-04-06T13:09:57.143428Z"
    }
   },
   "outputs": [],
   "source": [
    "# Creation d'une liste avec les modeles qui vont être appliqués\n",
    "from xgboost import XGBRegressor\n",
    "from sklearn.ensemble import GradientBoostingRegressor\n",
    "from sklearn.ensemble import RandomForestRegressor\n",
    "from sklearn.ensemble import AdaBoostRegressor\n",
    "from catboost import CatBoostRegressor\n",
    "from lightgbm import LGBMRegressor\n",
    "from sklearn.linear_model import SGDRegressor\n",
    "from sklearn import metrics\n",
    "from sklearn.preprocessing import StandardScaler\n",
    "\n",
    "\n",
    "models = []\n",
    "models.append(XGBRegressor(silent=True))\n",
    "models.append(GradientBoostingRegressor(verbose = 0))\n",
    "models.append(RandomForestRegressor(verbose=0))\n",
    "models.append(AdaBoostRegressor())\n",
    "models.append(CatBoostRegressor(silent=True))\n",
    "models.append(LGBMRegressor(silent=True))\n",
    "models.append(SGDRegressor())"
   ]
  },
  {
   "cell_type": "code",
   "execution_count": 46,
   "metadata": {
    "ExecuteTime": {
     "end_time": "2020-04-06T13:36:11.417875Z",
     "start_time": "2020-04-06T13:36:11.412889Z"
    }
   },
   "outputs": [
    {
     "ename": "SyntaxError",
     "evalue": "can't assign to operator (<string>, line 1)",
     "output_type": "error",
     "traceback": [
      "Traceback \u001b[1;36m(most recent call last)\u001b[0m:\n",
      "  File \u001b[0;32m\"C:\\Users\\geril\\Anaconda3\\lib\\site-packages\\IPython\\core\\interactiveshell.py\"\u001b[0m, line \u001b[0;32m3325\u001b[0m, in \u001b[0;35mrun_code\u001b[0m\n    exec(code_obj, self.user_global_ns, self.user_ns)\n",
      "\u001b[1;36m  File \u001b[1;32m\"<ipython-input-46-42525ae50445>\"\u001b[1;36m, line \u001b[1;32m3\u001b[1;36m, in \u001b[1;35m<module>\u001b[1;36m\u001b[0m\n\u001b[1;33m    exec(\"df_final+{} = transform(str({}), 'Monthly', 6)\".format(asset.replace(' ',''),asset.replace(' ','')))\u001b[0m\n",
      "\u001b[1;36m  File \u001b[1;32m\"<string>\"\u001b[1;36m, line \u001b[1;32m1\u001b[0m\n\u001b[1;31mSyntaxError\u001b[0m\u001b[1;31m:\u001b[0m can't assign to operator\n"
     ]
    }
   ],
   "source": [
    "list_of_df = []\n",
    "for asset in list_col:\n",
    "     exec(\"df_final+{} = transform(str({}), 'Monthly', 6)\".format(asset.replace(' ',''),asset.replace(' ','')))"
   ]
  },
  {
   "cell_type": "code",
   "execution_count": null,
   "metadata": {},
   "outputs": [],
   "source": [
    "for i in listfqf:\n",
    "    df_final+str() = tarasdn(str)"
   ]
  },
  {
   "cell_type": "code",
   "execution_count": null,
   "metadata": {},
   "outputs": [],
   "source": [
    "df_final = transform('IBM US Equity', 'Monthly', 6)"
   ]
  },
  {
   "cell_type": "code",
   "execution_count": null,
   "metadata": {},
   "outputs": [],
   "source": [
    "def X_y(dataframe,)"
   ]
  },
  {
   "cell_type": "code",
   "execution_count": 22,
   "metadata": {
    "ExecuteTime": {
     "end_time": "2020-04-06T13:13:45.280164Z",
     "start_time": "2020-04-06T13:13:45.134584Z"
    }
   },
   "outputs": [
    {
     "data": {
      "text/html": [
       "<div>\n",
       "<style scoped>\n",
       "    .dataframe tbody tr th:only-of-type {\n",
       "        vertical-align: middle;\n",
       "    }\n",
       "\n",
       "    .dataframe tbody tr th {\n",
       "        vertical-align: top;\n",
       "    }\n",
       "\n",
       "    .dataframe thead th {\n",
       "        text-align: right;\n",
       "    }\n",
       "</style>\n",
       "<table border=\"1\" class=\"dataframe\">\n",
       "  <thead>\n",
       "    <tr style=\"text-align: right;\">\n",
       "      <th></th>\n",
       "      <th>Date</th>\n",
       "      <th>IBM US Equity</th>\n",
       "      <th>CURRENT_EV_TO_T12M_EBITDA</th>\n",
       "      <th>DIVIDEND_INDICATED_YIELD</th>\n",
       "      <th>EBITDA_TO_INTEREST_EXPN</th>\n",
       "      <th>EBITDA_TO_REVENUE</th>\n",
       "      <th>EQY_DVD_YLD_IND</th>\n",
       "      <th>PE_RATIO</th>\n",
       "      <th>TOT_DEBT_TO_EBITDA</th>\n",
       "      <th>IBM US Equitylag1</th>\n",
       "      <th>IBM US Equitylag2</th>\n",
       "      <th>IBM US Equitylag3</th>\n",
       "      <th>IBM US Equitylag4</th>\n",
       "      <th>IBM US Equitylag5</th>\n",
       "      <th>IBM US Equitylag6</th>\n",
       "    </tr>\n",
       "  </thead>\n",
       "  <tbody>\n",
       "    <tr>\n",
       "      <th>0</th>\n",
       "      <td>2011-07-01</td>\n",
       "      <td>-5.039497</td>\n",
       "      <td>9.257</td>\n",
       "      <td>1.7488</td>\n",
       "      <td>61.7835</td>\n",
       "      <td>22.4743</td>\n",
       "      <td>1.7488</td>\n",
       "      <td>13.8999</td>\n",
       "      <td>1.1499</td>\n",
       "      <td>-0.527508</td>\n",
       "      <td>0.317084</td>\n",
       "      <td>-1.053057</td>\n",
       "      <td>-3.625399</td>\n",
       "      <td>-2.3899</td>\n",
       "      <td>4.366228</td>\n",
       "    </tr>\n",
       "  </tbody>\n",
       "</table>\n",
       "</div>"
      ],
      "text/plain": [
       "        Date  IBM US Equity  CURRENT_EV_TO_T12M_EBITDA  \\\n",
       "0 2011-07-01      -5.039497                      9.257   \n",
       "\n",
       "   DIVIDEND_INDICATED_YIELD  EBITDA_TO_INTEREST_EXPN  EBITDA_TO_REVENUE  \\\n",
       "0                    1.7488                  61.7835            22.4743   \n",
       "\n",
       "   EQY_DVD_YLD_IND  PE_RATIO  TOT_DEBT_TO_EBITDA  IBM US Equitylag1  \\\n",
       "0           1.7488   13.8999              1.1499          -0.527508   \n",
       "\n",
       "   IBM US Equitylag2  IBM US Equitylag3  IBM US Equitylag4  IBM US Equitylag5  \\\n",
       "0           0.317084          -1.053057          -3.625399            -2.3899   \n",
       "\n",
       "   IBM US Equitylag6  \n",
       "0           4.366228  "
      ]
     },
     "execution_count": 22,
     "metadata": {},
     "output_type": "execute_result"
    }
   ],
   "source": [
    "\n",
    "df_final.head(1)"
   ]
  },
  {
   "cell_type": "code",
   "execution_count": 27,
   "metadata": {
    "ExecuteTime": {
     "end_time": "2020-04-06T13:16:09.901643Z",
     "start_time": "2020-04-06T13:16:09.894665Z"
    }
   },
   "outputs": [
    {
     "data": {
      "text/plain": [
       "0    -5.039497\n",
       "1     2.233117\n",
       "2     2.541378\n",
       "3    -6.454606\n",
       "4    -0.151981\n",
       "5    -1.858246\n",
       "6    -0.684889\n",
       "7     3.182010\n",
       "8    -6.076543\n",
       "9     0.793816\n",
       "10    5.375316\n",
       "11   -5.618520\n",
       "12    0.922127\n",
       "13   -0.684406\n",
       "14    6.370516\n",
       "15   -0.200279\n",
       "16   -7.945001\n",
       "17    0.464736\n",
       "18    6.075377\n",
       "19    6.345969\n",
       "20   -0.228678\n",
       "21    6.502445\n",
       "22    3.855722\n",
       "23   -3.845481\n",
       "24   -0.090060\n",
       "25    0.939002\n",
       "26   -3.840106\n",
       "27   -1.444752\n",
       "28    2.165559\n",
       "29    9.028264\n",
       "30    3.971307\n",
       "31   -8.383795\n",
       "32   -7.516759\n",
       "33    1.721289\n",
       "Name: IBM US Equity, dtype: float64"
      ]
     },
     "execution_count": 27,
     "metadata": {},
     "output_type": "execute_result"
    }
   ],
   "source": [
    "df_final.iloc[:, 1]"
   ]
  },
  {
   "cell_type": "code",
   "execution_count": 17,
   "metadata": {
    "ExecuteTime": {
     "end_time": "2020-04-06T13:12:00.904482Z",
     "start_time": "2020-04-06T13:12:00.816682Z"
    }
   },
   "outputs": [],
   "source": [
    "df_final = transform('IBM US Equity', 'Monthly', 6)\n",
    "y = df_final[['IBM US Equity']].copy()\n",
    "date = df_final['Date'].to_list()\n",
    "X = df_final.drop(['Date','IBM US Equity'],axis=1).copy()\n",
    "sc = StandardScaler()\n",
    "X[X.columns] = sc.fit_transform(X[X.columns])"
   ]
  },
  {
   "cell_type": "code",
   "execution_count": 18,
   "metadata": {
    "ExecuteTime": {
     "end_time": "2020-04-06T13:12:34.002258Z",
     "start_time": "2020-04-06T13:12:01.503997Z"
    },
    "scrolled": true
   },
   "outputs": [
    {
     "name": "stdout",
     "output_type": "stream",
     "text": [
      "Current index0\n"
     ]
    },
    {
     "name": "stderr",
     "output_type": "stream",
     "text": [
      "C:\\Users\\geril\\Anaconda3\\lib\\site-packages\\sklearn\\ensemble\\_gb.py:1454: DataConversionWarning: A column-vector y was passed when a 1d array was expected. Please change the shape of y to (n_samples, ), for example using ravel().\n",
      "  y = column_or_1d(y, warn=True)\n",
      "C:\\Users\\geril\\Anaconda3\\lib\\site-packages\\ipykernel_launcher.py:44: DataConversionWarning: A column-vector y was passed when a 1d array was expected. Please change the shape of y to (n_samples,), for example using ravel().\n",
      "C:\\Users\\geril\\Anaconda3\\lib\\site-packages\\sklearn\\utils\\validation.py:744: DataConversionWarning: A column-vector y was passed when a 1d array was expected. Please change the shape of y to (n_samples, ), for example using ravel().\n",
      "  y = column_or_1d(y, warn=True)\n",
      "C:\\Users\\geril\\Anaconda3\\lib\\site-packages\\sklearn\\utils\\validation.py:744: DataConversionWarning: A column-vector y was passed when a 1d array was expected. Please change the shape of y to (n_samples, ), for example using ravel().\n",
      "  y = column_or_1d(y, warn=True)\n",
      "C:\\Users\\geril\\Anaconda3\\lib\\site-packages\\sklearn\\ensemble\\_gb.py:1454: DataConversionWarning: A column-vector y was passed when a 1d array was expected. Please change the shape of y to (n_samples, ), for example using ravel().\n",
      "  y = column_or_1d(y, warn=True)\n",
      "C:\\Users\\geril\\Anaconda3\\lib\\site-packages\\ipykernel_launcher.py:44: DataConversionWarning: A column-vector y was passed when a 1d array was expected. Please change the shape of y to (n_samples,), for example using ravel().\n"
     ]
    },
    {
     "name": "stdout",
     "output_type": "stream",
     "text": [
      "Current index1\n"
     ]
    },
    {
     "name": "stderr",
     "output_type": "stream",
     "text": [
      "C:\\Users\\geril\\Anaconda3\\lib\\site-packages\\sklearn\\utils\\validation.py:744: DataConversionWarning: A column-vector y was passed when a 1d array was expected. Please change the shape of y to (n_samples, ), for example using ravel().\n",
      "  y = column_or_1d(y, warn=True)\n",
      "C:\\Users\\geril\\Anaconda3\\lib\\site-packages\\sklearn\\utils\\validation.py:744: DataConversionWarning: A column-vector y was passed when a 1d array was expected. Please change the shape of y to (n_samples, ), for example using ravel().\n",
      "  y = column_or_1d(y, warn=True)\n",
      "C:\\Users\\geril\\Anaconda3\\lib\\site-packages\\sklearn\\ensemble\\_gb.py:1454: DataConversionWarning: A column-vector y was passed when a 1d array was expected. Please change the shape of y to (n_samples, ), for example using ravel().\n",
      "  y = column_or_1d(y, warn=True)\n",
      "C:\\Users\\geril\\Anaconda3\\lib\\site-packages\\ipykernel_launcher.py:44: DataConversionWarning: A column-vector y was passed when a 1d array was expected. Please change the shape of y to (n_samples,), for example using ravel().\n",
      "C:\\Users\\geril\\Anaconda3\\lib\\site-packages\\sklearn\\utils\\validation.py:744: DataConversionWarning: A column-vector y was passed when a 1d array was expected. Please change the shape of y to (n_samples, ), for example using ravel().\n",
      "  y = column_or_1d(y, warn=True)\n"
     ]
    },
    {
     "name": "stdout",
     "output_type": "stream",
     "text": [
      "Current index2\n"
     ]
    },
    {
     "name": "stderr",
     "output_type": "stream",
     "text": [
      "C:\\Users\\geril\\Anaconda3\\lib\\site-packages\\sklearn\\utils\\validation.py:744: DataConversionWarning: A column-vector y was passed when a 1d array was expected. Please change the shape of y to (n_samples, ), for example using ravel().\n",
      "  y = column_or_1d(y, warn=True)\n",
      "C:\\Users\\geril\\Anaconda3\\lib\\site-packages\\sklearn\\ensemble\\_gb.py:1454: DataConversionWarning: A column-vector y was passed when a 1d array was expected. Please change the shape of y to (n_samples, ), for example using ravel().\n",
      "  y = column_or_1d(y, warn=True)\n",
      "C:\\Users\\geril\\Anaconda3\\lib\\site-packages\\ipykernel_launcher.py:44: DataConversionWarning: A column-vector y was passed when a 1d array was expected. Please change the shape of y to (n_samples,), for example using ravel().\n"
     ]
    },
    {
     "name": "stdout",
     "output_type": "stream",
     "text": [
      "Current index3\n"
     ]
    },
    {
     "name": "stderr",
     "output_type": "stream",
     "text": [
      "C:\\Users\\geril\\Anaconda3\\lib\\site-packages\\sklearn\\utils\\validation.py:744: DataConversionWarning: A column-vector y was passed when a 1d array was expected. Please change the shape of y to (n_samples, ), for example using ravel().\n",
      "  y = column_or_1d(y, warn=True)\n",
      "C:\\Users\\geril\\Anaconda3\\lib\\site-packages\\sklearn\\utils\\validation.py:744: DataConversionWarning: A column-vector y was passed when a 1d array was expected. Please change the shape of y to (n_samples, ), for example using ravel().\n",
      "  y = column_or_1d(y, warn=True)\n",
      "C:\\Users\\geril\\Anaconda3\\lib\\site-packages\\sklearn\\ensemble\\_gb.py:1454: DataConversionWarning: A column-vector y was passed when a 1d array was expected. Please change the shape of y to (n_samples, ), for example using ravel().\n",
      "  y = column_or_1d(y, warn=True)\n",
      "C:\\Users\\geril\\Anaconda3\\lib\\site-packages\\ipykernel_launcher.py:44: DataConversionWarning: A column-vector y was passed when a 1d array was expected. Please change the shape of y to (n_samples,), for example using ravel().\n",
      "C:\\Users\\geril\\Anaconda3\\lib\\site-packages\\sklearn\\utils\\validation.py:744: DataConversionWarning: A column-vector y was passed when a 1d array was expected. Please change the shape of y to (n_samples, ), for example using ravel().\n",
      "  y = column_or_1d(y, warn=True)\n"
     ]
    },
    {
     "name": "stdout",
     "output_type": "stream",
     "text": [
      "Current index4\n"
     ]
    },
    {
     "name": "stderr",
     "output_type": "stream",
     "text": [
      "C:\\Users\\geril\\Anaconda3\\lib\\site-packages\\sklearn\\utils\\validation.py:744: DataConversionWarning: A column-vector y was passed when a 1d array was expected. Please change the shape of y to (n_samples, ), for example using ravel().\n",
      "  y = column_or_1d(y, warn=True)\n",
      "C:\\Users\\geril\\Anaconda3\\lib\\site-packages\\sklearn\\ensemble\\_gb.py:1454: DataConversionWarning: A column-vector y was passed when a 1d array was expected. Please change the shape of y to (n_samples, ), for example using ravel().\n",
      "  y = column_or_1d(y, warn=True)\n",
      "C:\\Users\\geril\\Anaconda3\\lib\\site-packages\\ipykernel_launcher.py:44: DataConversionWarning: A column-vector y was passed when a 1d array was expected. Please change the shape of y to (n_samples,), for example using ravel().\n",
      "C:\\Users\\geril\\Anaconda3\\lib\\site-packages\\sklearn\\utils\\validation.py:744: DataConversionWarning: A column-vector y was passed when a 1d array was expected. Please change the shape of y to (n_samples, ), for example using ravel().\n",
      "  y = column_or_1d(y, warn=True)\n"
     ]
    },
    {
     "name": "stdout",
     "output_type": "stream",
     "text": [
      "Current index5\n"
     ]
    },
    {
     "name": "stderr",
     "output_type": "stream",
     "text": [
      "C:\\Users\\geril\\Anaconda3\\lib\\site-packages\\sklearn\\utils\\validation.py:744: DataConversionWarning: A column-vector y was passed when a 1d array was expected. Please change the shape of y to (n_samples, ), for example using ravel().\n",
      "  y = column_or_1d(y, warn=True)\n",
      "C:\\Users\\geril\\Anaconda3\\lib\\site-packages\\sklearn\\ensemble\\_gb.py:1454: DataConversionWarning: A column-vector y was passed when a 1d array was expected. Please change the shape of y to (n_samples, ), for example using ravel().\n",
      "  y = column_or_1d(y, warn=True)\n",
      "C:\\Users\\geril\\Anaconda3\\lib\\site-packages\\ipykernel_launcher.py:44: DataConversionWarning: A column-vector y was passed when a 1d array was expected. Please change the shape of y to (n_samples,), for example using ravel().\n",
      "C:\\Users\\geril\\Anaconda3\\lib\\site-packages\\sklearn\\utils\\validation.py:744: DataConversionWarning: A column-vector y was passed when a 1d array was expected. Please change the shape of y to (n_samples, ), for example using ravel().\n",
      "  y = column_or_1d(y, warn=True)\n"
     ]
    },
    {
     "name": "stdout",
     "output_type": "stream",
     "text": [
      "Current index6\n"
     ]
    },
    {
     "name": "stderr",
     "output_type": "stream",
     "text": [
      "C:\\Users\\geril\\Anaconda3\\lib\\site-packages\\sklearn\\utils\\validation.py:744: DataConversionWarning: A column-vector y was passed when a 1d array was expected. Please change the shape of y to (n_samples, ), for example using ravel().\n",
      "  y = column_or_1d(y, warn=True)\n",
      "C:\\Users\\geril\\Anaconda3\\lib\\site-packages\\sklearn\\ensemble\\_gb.py:1454: DataConversionWarning: A column-vector y was passed when a 1d array was expected. Please change the shape of y to (n_samples, ), for example using ravel().\n",
      "  y = column_or_1d(y, warn=True)\n",
      "C:\\Users\\geril\\Anaconda3\\lib\\site-packages\\ipykernel_launcher.py:44: DataConversionWarning: A column-vector y was passed when a 1d array was expected. Please change the shape of y to (n_samples,), for example using ravel().\n",
      "C:\\Users\\geril\\Anaconda3\\lib\\site-packages\\sklearn\\utils\\validation.py:744: DataConversionWarning: A column-vector y was passed when a 1d array was expected. Please change the shape of y to (n_samples, ), for example using ravel().\n",
      "  y = column_or_1d(y, warn=True)\n"
     ]
    },
    {
     "name": "stdout",
     "output_type": "stream",
     "text": [
      "Current index7\n"
     ]
    },
    {
     "name": "stderr",
     "output_type": "stream",
     "text": [
      "C:\\Users\\geril\\Anaconda3\\lib\\site-packages\\sklearn\\utils\\validation.py:744: DataConversionWarning: A column-vector y was passed when a 1d array was expected. Please change the shape of y to (n_samples, ), for example using ravel().\n",
      "  y = column_or_1d(y, warn=True)\n",
      "C:\\Users\\geril\\Anaconda3\\lib\\site-packages\\sklearn\\ensemble\\_gb.py:1454: DataConversionWarning: A column-vector y was passed when a 1d array was expected. Please change the shape of y to (n_samples, ), for example using ravel().\n",
      "  y = column_or_1d(y, warn=True)\n",
      "C:\\Users\\geril\\Anaconda3\\lib\\site-packages\\ipykernel_launcher.py:44: DataConversionWarning: A column-vector y was passed when a 1d array was expected. Please change the shape of y to (n_samples,), for example using ravel().\n",
      "C:\\Users\\geril\\Anaconda3\\lib\\site-packages\\sklearn\\utils\\validation.py:744: DataConversionWarning: A column-vector y was passed when a 1d array was expected. Please change the shape of y to (n_samples, ), for example using ravel().\n",
      "  y = column_or_1d(y, warn=True)\n"
     ]
    },
    {
     "name": "stdout",
     "output_type": "stream",
     "text": [
      "Current index8\n"
     ]
    },
    {
     "name": "stderr",
     "output_type": "stream",
     "text": [
      "C:\\Users\\geril\\Anaconda3\\lib\\site-packages\\sklearn\\utils\\validation.py:744: DataConversionWarning: A column-vector y was passed when a 1d array was expected. Please change the shape of y to (n_samples, ), for example using ravel().\n",
      "  y = column_or_1d(y, warn=True)\n",
      "C:\\Users\\geril\\Anaconda3\\lib\\site-packages\\sklearn\\ensemble\\_gb.py:1454: DataConversionWarning: A column-vector y was passed when a 1d array was expected. Please change the shape of y to (n_samples, ), for example using ravel().\n",
      "  y = column_or_1d(y, warn=True)\n",
      "C:\\Users\\geril\\Anaconda3\\lib\\site-packages\\ipykernel_launcher.py:44: DataConversionWarning: A column-vector y was passed when a 1d array was expected. Please change the shape of y to (n_samples,), for example using ravel().\n",
      "C:\\Users\\geril\\Anaconda3\\lib\\site-packages\\sklearn\\utils\\validation.py:744: DataConversionWarning: A column-vector y was passed when a 1d array was expected. Please change the shape of y to (n_samples, ), for example using ravel().\n",
      "  y = column_or_1d(y, warn=True)\n"
     ]
    },
    {
     "name": "stdout",
     "output_type": "stream",
     "text": [
      "Current index9\n"
     ]
    },
    {
     "name": "stderr",
     "output_type": "stream",
     "text": [
      "C:\\Users\\geril\\Anaconda3\\lib\\site-packages\\sklearn\\utils\\validation.py:744: DataConversionWarning: A column-vector y was passed when a 1d array was expected. Please change the shape of y to (n_samples, ), for example using ravel().\n",
      "  y = column_or_1d(y, warn=True)\n",
      "C:\\Users\\geril\\Anaconda3\\lib\\site-packages\\sklearn\\ensemble\\_gb.py:1454: DataConversionWarning: A column-vector y was passed when a 1d array was expected. Please change the shape of y to (n_samples, ), for example using ravel().\n",
      "  y = column_or_1d(y, warn=True)\n",
      "C:\\Users\\geril\\Anaconda3\\lib\\site-packages\\ipykernel_launcher.py:44: DataConversionWarning: A column-vector y was passed when a 1d array was expected. Please change the shape of y to (n_samples,), for example using ravel().\n",
      "C:\\Users\\geril\\Anaconda3\\lib\\site-packages\\sklearn\\utils\\validation.py:744: DataConversionWarning: A column-vector y was passed when a 1d array was expected. Please change the shape of y to (n_samples, ), for example using ravel().\n",
      "  y = column_or_1d(y, warn=True)\n"
     ]
    },
    {
     "name": "stdout",
     "output_type": "stream",
     "text": [
      "Current index10\n"
     ]
    },
    {
     "name": "stderr",
     "output_type": "stream",
     "text": [
      "C:\\Users\\geril\\Anaconda3\\lib\\site-packages\\sklearn\\utils\\validation.py:744: DataConversionWarning: A column-vector y was passed when a 1d array was expected. Please change the shape of y to (n_samples, ), for example using ravel().\n",
      "  y = column_or_1d(y, warn=True)\n",
      "C:\\Users\\geril\\Anaconda3\\lib\\site-packages\\sklearn\\ensemble\\_gb.py:1454: DataConversionWarning: A column-vector y was passed when a 1d array was expected. Please change the shape of y to (n_samples, ), for example using ravel().\n",
      "  y = column_or_1d(y, warn=True)\n",
      "C:\\Users\\geril\\Anaconda3\\lib\\site-packages\\ipykernel_launcher.py:44: DataConversionWarning: A column-vector y was passed when a 1d array was expected. Please change the shape of y to (n_samples,), for example using ravel().\n",
      "C:\\Users\\geril\\Anaconda3\\lib\\site-packages\\sklearn\\utils\\validation.py:744: DataConversionWarning: A column-vector y was passed when a 1d array was expected. Please change the shape of y to (n_samples, ), for example using ravel().\n",
      "  y = column_or_1d(y, warn=True)\n"
     ]
    },
    {
     "name": "stdout",
     "output_type": "stream",
     "text": [
      "Current index11\n"
     ]
    },
    {
     "name": "stderr",
     "output_type": "stream",
     "text": [
      "C:\\Users\\geril\\Anaconda3\\lib\\site-packages\\sklearn\\utils\\validation.py:744: DataConversionWarning: A column-vector y was passed when a 1d array was expected. Please change the shape of y to (n_samples, ), for example using ravel().\n",
      "  y = column_or_1d(y, warn=True)\n",
      "C:\\Users\\geril\\Anaconda3\\lib\\site-packages\\sklearn\\ensemble\\_gb.py:1454: DataConversionWarning: A column-vector y was passed when a 1d array was expected. Please change the shape of y to (n_samples, ), for example using ravel().\n",
      "  y = column_or_1d(y, warn=True)\n",
      "C:\\Users\\geril\\Anaconda3\\lib\\site-packages\\ipykernel_launcher.py:44: DataConversionWarning: A column-vector y was passed when a 1d array was expected. Please change the shape of y to (n_samples,), for example using ravel().\n",
      "C:\\Users\\geril\\Anaconda3\\lib\\site-packages\\sklearn\\utils\\validation.py:744: DataConversionWarning: A column-vector y was passed when a 1d array was expected. Please change the shape of y to (n_samples, ), for example using ravel().\n",
      "  y = column_or_1d(y, warn=True)\n"
     ]
    },
    {
     "name": "stdout",
     "output_type": "stream",
     "text": [
      "Current index12\n"
     ]
    },
    {
     "name": "stderr",
     "output_type": "stream",
     "text": [
      "C:\\Users\\geril\\Anaconda3\\lib\\site-packages\\sklearn\\utils\\validation.py:744: DataConversionWarning: A column-vector y was passed when a 1d array was expected. Please change the shape of y to (n_samples, ), for example using ravel().\n",
      "  y = column_or_1d(y, warn=True)\n",
      "C:\\Users\\geril\\Anaconda3\\lib\\site-packages\\sklearn\\ensemble\\_gb.py:1454: DataConversionWarning: A column-vector y was passed when a 1d array was expected. Please change the shape of y to (n_samples, ), for example using ravel().\n",
      "  y = column_or_1d(y, warn=True)\n",
      "C:\\Users\\geril\\Anaconda3\\lib\\site-packages\\ipykernel_launcher.py:44: DataConversionWarning: A column-vector y was passed when a 1d array was expected. Please change the shape of y to (n_samples,), for example using ravel().\n",
      "C:\\Users\\geril\\Anaconda3\\lib\\site-packages\\sklearn\\utils\\validation.py:744: DataConversionWarning: A column-vector y was passed when a 1d array was expected. Please change the shape of y to (n_samples, ), for example using ravel().\n",
      "  y = column_or_1d(y, warn=True)\n"
     ]
    },
    {
     "name": "stdout",
     "output_type": "stream",
     "text": [
      "Current index13\n"
     ]
    },
    {
     "name": "stderr",
     "output_type": "stream",
     "text": [
      "C:\\Users\\geril\\Anaconda3\\lib\\site-packages\\sklearn\\utils\\validation.py:744: DataConversionWarning: A column-vector y was passed when a 1d array was expected. Please change the shape of y to (n_samples, ), for example using ravel().\n",
      "  y = column_or_1d(y, warn=True)\n",
      "C:\\Users\\geril\\Anaconda3\\lib\\site-packages\\sklearn\\ensemble\\_gb.py:1454: DataConversionWarning: A column-vector y was passed when a 1d array was expected. Please change the shape of y to (n_samples, ), for example using ravel().\n",
      "  y = column_or_1d(y, warn=True)\n",
      "C:\\Users\\geril\\Anaconda3\\lib\\site-packages\\ipykernel_launcher.py:44: DataConversionWarning: A column-vector y was passed when a 1d array was expected. Please change the shape of y to (n_samples,), for example using ravel().\n",
      "C:\\Users\\geril\\Anaconda3\\lib\\site-packages\\sklearn\\utils\\validation.py:744: DataConversionWarning: A column-vector y was passed when a 1d array was expected. Please change the shape of y to (n_samples, ), for example using ravel().\n",
      "  y = column_or_1d(y, warn=True)\n"
     ]
    },
    {
     "name": "stdout",
     "output_type": "stream",
     "text": [
      "Current index14\n"
     ]
    },
    {
     "name": "stderr",
     "output_type": "stream",
     "text": [
      "C:\\Users\\geril\\Anaconda3\\lib\\site-packages\\sklearn\\utils\\validation.py:744: DataConversionWarning: A column-vector y was passed when a 1d array was expected. Please change the shape of y to (n_samples, ), for example using ravel().\n",
      "  y = column_or_1d(y, warn=True)\n",
      "C:\\Users\\geril\\Anaconda3\\lib\\site-packages\\sklearn\\ensemble\\_gb.py:1454: DataConversionWarning: A column-vector y was passed when a 1d array was expected. Please change the shape of y to (n_samples, ), for example using ravel().\n",
      "  y = column_or_1d(y, warn=True)\n",
      "C:\\Users\\geril\\Anaconda3\\lib\\site-packages\\ipykernel_launcher.py:44: DataConversionWarning: A column-vector y was passed when a 1d array was expected. Please change the shape of y to (n_samples,), for example using ravel().\n",
      "C:\\Users\\geril\\Anaconda3\\lib\\site-packages\\sklearn\\utils\\validation.py:744: DataConversionWarning: A column-vector y was passed when a 1d array was expected. Please change the shape of y to (n_samples, ), for example using ravel().\n",
      "  y = column_or_1d(y, warn=True)\n"
     ]
    },
    {
     "name": "stdout",
     "output_type": "stream",
     "text": [
      "Current index15\n"
     ]
    },
    {
     "name": "stderr",
     "output_type": "stream",
     "text": [
      "C:\\Users\\geril\\Anaconda3\\lib\\site-packages\\sklearn\\utils\\validation.py:744: DataConversionWarning: A column-vector y was passed when a 1d array was expected. Please change the shape of y to (n_samples, ), for example using ravel().\n",
      "  y = column_or_1d(y, warn=True)\n",
      "C:\\Users\\geril\\Anaconda3\\lib\\site-packages\\sklearn\\ensemble\\_gb.py:1454: DataConversionWarning: A column-vector y was passed when a 1d array was expected. Please change the shape of y to (n_samples, ), for example using ravel().\n",
      "  y = column_or_1d(y, warn=True)\n",
      "C:\\Users\\geril\\Anaconda3\\lib\\site-packages\\ipykernel_launcher.py:44: DataConversionWarning: A column-vector y was passed when a 1d array was expected. Please change the shape of y to (n_samples,), for example using ravel().\n",
      "C:\\Users\\geril\\Anaconda3\\lib\\site-packages\\sklearn\\utils\\validation.py:744: DataConversionWarning: A column-vector y was passed when a 1d array was expected. Please change the shape of y to (n_samples, ), for example using ravel().\n",
      "  y = column_or_1d(y, warn=True)\n"
     ]
    },
    {
     "name": "stdout",
     "output_type": "stream",
     "text": [
      "Current index16\n"
     ]
    },
    {
     "name": "stderr",
     "output_type": "stream",
     "text": [
      "C:\\Users\\geril\\Anaconda3\\lib\\site-packages\\sklearn\\utils\\validation.py:744: DataConversionWarning: A column-vector y was passed when a 1d array was expected. Please change the shape of y to (n_samples, ), for example using ravel().\n",
      "  y = column_or_1d(y, warn=True)\n",
      "C:\\Users\\geril\\Anaconda3\\lib\\site-packages\\sklearn\\ensemble\\_gb.py:1454: DataConversionWarning: A column-vector y was passed when a 1d array was expected. Please change the shape of y to (n_samples, ), for example using ravel().\n",
      "  y = column_or_1d(y, warn=True)\n",
      "C:\\Users\\geril\\Anaconda3\\lib\\site-packages\\ipykernel_launcher.py:44: DataConversionWarning: A column-vector y was passed when a 1d array was expected. Please change the shape of y to (n_samples,), for example using ravel().\n",
      "C:\\Users\\geril\\Anaconda3\\lib\\site-packages\\sklearn\\utils\\validation.py:744: DataConversionWarning: A column-vector y was passed when a 1d array was expected. Please change the shape of y to (n_samples, ), for example using ravel().\n",
      "  y = column_or_1d(y, warn=True)\n"
     ]
    },
    {
     "name": "stdout",
     "output_type": "stream",
     "text": [
      "Current index17\n"
     ]
    },
    {
     "name": "stderr",
     "output_type": "stream",
     "text": [
      "C:\\Users\\geril\\Anaconda3\\lib\\site-packages\\sklearn\\utils\\validation.py:744: DataConversionWarning: A column-vector y was passed when a 1d array was expected. Please change the shape of y to (n_samples, ), for example using ravel().\n",
      "  y = column_or_1d(y, warn=True)\n",
      "C:\\Users\\geril\\Anaconda3\\lib\\site-packages\\sklearn\\ensemble\\_gb.py:1454: DataConversionWarning: A column-vector y was passed when a 1d array was expected. Please change the shape of y to (n_samples, ), for example using ravel().\n",
      "  y = column_or_1d(y, warn=True)\n",
      "C:\\Users\\geril\\Anaconda3\\lib\\site-packages\\ipykernel_launcher.py:44: DataConversionWarning: A column-vector y was passed when a 1d array was expected. Please change the shape of y to (n_samples,), for example using ravel().\n",
      "C:\\Users\\geril\\Anaconda3\\lib\\site-packages\\sklearn\\utils\\validation.py:744: DataConversionWarning: A column-vector y was passed when a 1d array was expected. Please change the shape of y to (n_samples, ), for example using ravel().\n",
      "  y = column_or_1d(y, warn=True)\n"
     ]
    },
    {
     "name": "stdout",
     "output_type": "stream",
     "text": [
      "Current index18\n"
     ]
    },
    {
     "name": "stderr",
     "output_type": "stream",
     "text": [
      "C:\\Users\\geril\\Anaconda3\\lib\\site-packages\\sklearn\\utils\\validation.py:744: DataConversionWarning: A column-vector y was passed when a 1d array was expected. Please change the shape of y to (n_samples, ), for example using ravel().\n",
      "  y = column_or_1d(y, warn=True)\n",
      "C:\\Users\\geril\\Anaconda3\\lib\\site-packages\\sklearn\\ensemble\\_gb.py:1454: DataConversionWarning: A column-vector y was passed when a 1d array was expected. Please change the shape of y to (n_samples, ), for example using ravel().\n",
      "  y = column_or_1d(y, warn=True)\n",
      "C:\\Users\\geril\\Anaconda3\\lib\\site-packages\\ipykernel_launcher.py:44: DataConversionWarning: A column-vector y was passed when a 1d array was expected. Please change the shape of y to (n_samples,), for example using ravel().\n",
      "C:\\Users\\geril\\Anaconda3\\lib\\site-packages\\sklearn\\utils\\validation.py:744: DataConversionWarning: A column-vector y was passed when a 1d array was expected. Please change the shape of y to (n_samples, ), for example using ravel().\n",
      "  y = column_or_1d(y, warn=True)\n"
     ]
    },
    {
     "name": "stdout",
     "output_type": "stream",
     "text": [
      "Current index19\n"
     ]
    },
    {
     "name": "stderr",
     "output_type": "stream",
     "text": [
      "C:\\Users\\geril\\Anaconda3\\lib\\site-packages\\sklearn\\utils\\validation.py:744: DataConversionWarning: A column-vector y was passed when a 1d array was expected. Please change the shape of y to (n_samples, ), for example using ravel().\n",
      "  y = column_or_1d(y, warn=True)\n",
      "C:\\Users\\geril\\Anaconda3\\lib\\site-packages\\sklearn\\ensemble\\_gb.py:1454: DataConversionWarning: A column-vector y was passed when a 1d array was expected. Please change the shape of y to (n_samples, ), for example using ravel().\n",
      "  y = column_or_1d(y, warn=True)\n",
      "C:\\Users\\geril\\Anaconda3\\lib\\site-packages\\ipykernel_launcher.py:44: DataConversionWarning: A column-vector y was passed when a 1d array was expected. Please change the shape of y to (n_samples,), for example using ravel().\n",
      "C:\\Users\\geril\\Anaconda3\\lib\\site-packages\\sklearn\\utils\\validation.py:744: DataConversionWarning: A column-vector y was passed when a 1d array was expected. Please change the shape of y to (n_samples, ), for example using ravel().\n",
      "  y = column_or_1d(y, warn=True)\n"
     ]
    },
    {
     "name": "stdout",
     "output_type": "stream",
     "text": [
      "Current index20\n"
     ]
    },
    {
     "name": "stderr",
     "output_type": "stream",
     "text": [
      "C:\\Users\\geril\\Anaconda3\\lib\\site-packages\\sklearn\\utils\\validation.py:744: DataConversionWarning: A column-vector y was passed when a 1d array was expected. Please change the shape of y to (n_samples, ), for example using ravel().\n",
      "  y = column_or_1d(y, warn=True)\n",
      "C:\\Users\\geril\\Anaconda3\\lib\\site-packages\\sklearn\\ensemble\\_gb.py:1454: DataConversionWarning: A column-vector y was passed when a 1d array was expected. Please change the shape of y to (n_samples, ), for example using ravel().\n",
      "  y = column_or_1d(y, warn=True)\n",
      "C:\\Users\\geril\\Anaconda3\\lib\\site-packages\\ipykernel_launcher.py:44: DataConversionWarning: A column-vector y was passed when a 1d array was expected. Please change the shape of y to (n_samples,), for example using ravel().\n",
      "C:\\Users\\geril\\Anaconda3\\lib\\site-packages\\sklearn\\utils\\validation.py:744: DataConversionWarning: A column-vector y was passed when a 1d array was expected. Please change the shape of y to (n_samples, ), for example using ravel().\n",
      "  y = column_or_1d(y, warn=True)\n"
     ]
    },
    {
     "name": "stdout",
     "output_type": "stream",
     "text": [
      "Current index21\n"
     ]
    },
    {
     "name": "stderr",
     "output_type": "stream",
     "text": [
      "C:\\Users\\geril\\Anaconda3\\lib\\site-packages\\sklearn\\utils\\validation.py:744: DataConversionWarning: A column-vector y was passed when a 1d array was expected. Please change the shape of y to (n_samples, ), for example using ravel().\n",
      "  y = column_or_1d(y, warn=True)\n",
      "C:\\Users\\geril\\Anaconda3\\lib\\site-packages\\sklearn\\ensemble\\_gb.py:1454: DataConversionWarning: A column-vector y was passed when a 1d array was expected. Please change the shape of y to (n_samples, ), for example using ravel().\n",
      "  y = column_or_1d(y, warn=True)\n",
      "C:\\Users\\geril\\Anaconda3\\lib\\site-packages\\ipykernel_launcher.py:44: DataConversionWarning: A column-vector y was passed when a 1d array was expected. Please change the shape of y to (n_samples,), for example using ravel().\n",
      "C:\\Users\\geril\\Anaconda3\\lib\\site-packages\\sklearn\\utils\\validation.py:744: DataConversionWarning: A column-vector y was passed when a 1d array was expected. Please change the shape of y to (n_samples, ), for example using ravel().\n",
      "  y = column_or_1d(y, warn=True)\n"
     ]
    },
    {
     "name": "stdout",
     "output_type": "stream",
     "text": [
      "Current index22\n"
     ]
    },
    {
     "name": "stderr",
     "output_type": "stream",
     "text": [
      "C:\\Users\\geril\\Anaconda3\\lib\\site-packages\\sklearn\\utils\\validation.py:744: DataConversionWarning: A column-vector y was passed when a 1d array was expected. Please change the shape of y to (n_samples, ), for example using ravel().\n",
      "  y = column_or_1d(y, warn=True)\n"
     ]
    }
   ],
   "source": [
    "i = 0 \n",
    "results = []\n",
    "date_of_pred = []\n",
    "# Normally is 60 = 5 years\n",
    "# It works better when is 118 (full length data)\n",
    "window_size = 12\n",
    "step_size = 1\n",
    "backtest_size = 1\n",
    "names = []\n",
    "\n",
    "for m in models:\n",
    "    m = str(m).split('(')[0]\n",
    "    names.append(m)\n",
    "\n",
    "while i + window_size <= X.shape[0]:\n",
    "    \n",
    "    print(\"Current index\"+str(i))\n",
    "    \n",
    "    # We take the first 60 data points\n",
    "    sample_X = X.iloc[:i+window_size,:].copy()\n",
    "    sample_Y = y.iloc[:i+window_size].copy()\n",
    "    # We train it in the first 59 points\n",
    "    X_train = sample_X.iloc[:-backtest_size,:].copy()\n",
    "    Y_train = sample_Y.iloc[:-backtest_size].copy()\n",
    "    # We test for the following month (so we try to predict only one month)\n",
    "    X_test = sample_X.iloc[-backtest_size:,:].copy()\n",
    "    Y_test = sample_Y.iloc[-backtest_size:].copy()\n",
    "    #date_of_pred.append(str(date[X_test.index[-1]]))\n",
    "    date_of_pred.append(str(date[X_train.index[0]]) + '-' + str(date[X_test.index[-1]]))\n",
    "    \n",
    "    \"\"\"\n",
    "    In case we want to calculate more than the next month, this will take the first \n",
    "    and the last date of the X_test\n",
    "    date_of_pred.append(str(date[X_test.index[0]]) + '-' + str(date[X_test.index[-1]]))\n",
    "    \"\"\"\n",
    "    x_train_values = X_train.values\n",
    "    x_test_values = X_test.values\n",
    "    y_train_values = Y_train.values\n",
    "    y_test_values = Y_test.values\n",
    "    \n",
    "    modelscore = []\n",
    "    for model in models:\n",
    "        \n",
    "        model.fit(X_train,Y_train)\n",
    "        y_pred = model.predict(X_test)\n",
    "        # Mean absolute error\n",
    "        score = metrics.mean_absolute_error(Y_test, y_pred)\n",
    "        modelscore.append(score)\n",
    "    \n",
    "    results.append(modelscore)\n",
    "    \n",
    "    i+=step_size"
   ]
  },
  {
   "cell_type": "code",
   "execution_count": 19,
   "metadata": {
    "ExecuteTime": {
     "end_time": "2020-04-06T13:12:34.036135Z",
     "start_time": "2020-04-06T13:12:34.004221Z"
    }
   },
   "outputs": [
    {
     "data": {
      "text/html": [
       "<div>\n",
       "<style scoped>\n",
       "    .dataframe tbody tr th:only-of-type {\n",
       "        vertical-align: middle;\n",
       "    }\n",
       "\n",
       "    .dataframe tbody tr th {\n",
       "        vertical-align: top;\n",
       "    }\n",
       "\n",
       "    .dataframe thead th {\n",
       "        text-align: right;\n",
       "    }\n",
       "</style>\n",
       "<table border=\"1\" class=\"dataframe\">\n",
       "  <thead>\n",
       "    <tr style=\"text-align: right;\">\n",
       "      <th></th>\n",
       "      <th>period_of_pred</th>\n",
       "      <th>XGBRegressor</th>\n",
       "      <th>GradientBoostingRegressor</th>\n",
       "      <th>RandomForestRegressor</th>\n",
       "      <th>AdaBoostRegressor</th>\n",
       "      <th>&lt;catboost.core.CatBoostRegressor object at 0x000001CE74F33860&gt;</th>\n",
       "      <th>LGBMRegressor</th>\n",
       "      <th>SGDRegressor</th>\n",
       "    </tr>\n",
       "  </thead>\n",
       "  <tbody>\n",
       "    <tr>\n",
       "      <th>0</th>\n",
       "      <td>2011-07-01 00:00:00-2014-04-01 00:00:00</td>\n",
       "      <td>0.641632</td>\n",
       "      <td>0.866342</td>\n",
       "      <td>1.581619</td>\n",
       "      <td>0.458023</td>\n",
       "      <td>2.152562</td>\n",
       "      <td>5.060327</td>\n",
       "      <td>1.231843</td>\n",
       "    </tr>\n",
       "    <tr>\n",
       "      <th>1</th>\n",
       "      <td>2011-07-01 00:00:00-2014-07-01 00:00:00</td>\n",
       "      <td>0.881337</td>\n",
       "      <td>1.938027</td>\n",
       "      <td>0.022228</td>\n",
       "      <td>0.745470</td>\n",
       "      <td>0.523668</td>\n",
       "      <td>1.902014</td>\n",
       "      <td>2.031709</td>\n",
       "    </tr>\n",
       "    <tr>\n",
       "      <th>2</th>\n",
       "      <td>2011-07-01 00:00:00-2014-10-01 00:00:00</td>\n",
       "      <td>2.578035</td>\n",
       "      <td>2.262572</td>\n",
       "      <td>2.231461</td>\n",
       "      <td>2.917523</td>\n",
       "      <td>1.310190</td>\n",
       "      <td>0.149173</td>\n",
       "      <td>1.773536</td>\n",
       "    </tr>\n",
       "    <tr>\n",
       "      <th>3</th>\n",
       "      <td>2011-07-01 00:00:00-2015-01-01 00:00:00</td>\n",
       "      <td>11.240587</td>\n",
       "      <td>10.795571</td>\n",
       "      <td>8.352277</td>\n",
       "      <td>7.055405</td>\n",
       "      <td>7.509481</td>\n",
       "      <td>7.193439</td>\n",
       "      <td>8.186316</td>\n",
       "    </tr>\n",
       "    <tr>\n",
       "      <th>4</th>\n",
       "      <td>2011-07-01 00:00:00-2015-04-01 00:00:00</td>\n",
       "      <td>4.061418</td>\n",
       "      <td>4.102176</td>\n",
       "      <td>1.991562</td>\n",
       "      <td>1.657967</td>\n",
       "      <td>0.850460</td>\n",
       "      <td>0.143081</td>\n",
       "      <td>6.640069</td>\n",
       "    </tr>\n",
       "    <tr>\n",
       "      <th>5</th>\n",
       "      <td>2011-07-01 00:00:00-2015-07-01 00:00:00</td>\n",
       "      <td>7.546956</td>\n",
       "      <td>6.284268</td>\n",
       "      <td>7.888881</td>\n",
       "      <td>7.534442</td>\n",
       "      <td>6.871115</td>\n",
       "      <td>7.610583</td>\n",
       "      <td>1.828874</td>\n",
       "    </tr>\n",
       "    <tr>\n",
       "      <th>6</th>\n",
       "      <td>2011-07-01 00:00:00-2015-10-01 00:00:00</td>\n",
       "      <td>4.072002</td>\n",
       "      <td>2.300111</td>\n",
       "      <td>0.522154</td>\n",
       "      <td>0.446876</td>\n",
       "      <td>1.412469</td>\n",
       "      <td>1.246835</td>\n",
       "      <td>7.433010</td>\n",
       "    </tr>\n",
       "    <tr>\n",
       "      <th>7</th>\n",
       "      <td>2011-07-01 00:00:00-2016-01-01 00:00:00</td>\n",
       "      <td>3.892673</td>\n",
       "      <td>1.385207</td>\n",
       "      <td>3.841077</td>\n",
       "      <td>1.312974</td>\n",
       "      <td>3.965864</td>\n",
       "      <td>6.788208</td>\n",
       "      <td>2.638721</td>\n",
       "    </tr>\n",
       "    <tr>\n",
       "      <th>8</th>\n",
       "      <td>2011-07-01 00:00:00-2016-04-01 00:00:00</td>\n",
       "      <td>11.898706</td>\n",
       "      <td>11.984735</td>\n",
       "      <td>10.322372</td>\n",
       "      <td>11.789483</td>\n",
       "      <td>8.807251</td>\n",
       "      <td>6.701525</td>\n",
       "      <td>9.287234</td>\n",
       "    </tr>\n",
       "    <tr>\n",
       "      <th>9</th>\n",
       "      <td>2011-07-01 00:00:00-2016-07-01 00:00:00</td>\n",
       "      <td>5.179705</td>\n",
       "      <td>4.270438</td>\n",
       "      <td>1.296215</td>\n",
       "      <td>0.634331</td>\n",
       "      <td>1.213991</td>\n",
       "      <td>0.208197</td>\n",
       "      <td>5.088321</td>\n",
       "    </tr>\n",
       "    <tr>\n",
       "      <th>10</th>\n",
       "      <td>2011-07-01 00:00:00-2016-10-01 00:00:00</td>\n",
       "      <td>10.442776</td>\n",
       "      <td>7.563225</td>\n",
       "      <td>7.177971</td>\n",
       "      <td>7.187213</td>\n",
       "      <td>7.305362</td>\n",
       "      <td>6.532839</td>\n",
       "      <td>13.503457</td>\n",
       "    </tr>\n",
       "    <tr>\n",
       "      <th>11</th>\n",
       "      <td>2011-07-01 00:00:00-2017-01-01 00:00:00</td>\n",
       "      <td>0.174951</td>\n",
       "      <td>0.291803</td>\n",
       "      <td>1.233642</td>\n",
       "      <td>2.219655</td>\n",
       "      <td>0.655314</td>\n",
       "      <td>3.589169</td>\n",
       "      <td>8.289678</td>\n",
       "    </tr>\n",
       "    <tr>\n",
       "      <th>12</th>\n",
       "      <td>2011-07-01 00:00:00-2017-04-01 00:00:00</td>\n",
       "      <td>7.931498</td>\n",
       "      <td>9.301618</td>\n",
       "      <td>5.104699</td>\n",
       "      <td>7.027491</td>\n",
       "      <td>7.120158</td>\n",
       "      <td>4.268085</td>\n",
       "      <td>2.092422</td>\n",
       "    </tr>\n",
       "    <tr>\n",
       "      <th>13</th>\n",
       "      <td>2011-07-01 00:00:00-2017-07-01 00:00:00</td>\n",
       "      <td>2.170066</td>\n",
       "      <td>2.919733</td>\n",
       "      <td>0.830486</td>\n",
       "      <td>0.138618</td>\n",
       "      <td>0.800317</td>\n",
       "      <td>0.334826</td>\n",
       "      <td>0.621714</td>\n",
       "    </tr>\n",
       "    <tr>\n",
       "      <th>14</th>\n",
       "      <td>2011-07-01 00:00:00-2017-10-01 00:00:00</td>\n",
       "      <td>0.100184</td>\n",
       "      <td>0.200862</td>\n",
       "      <td>0.582759</td>\n",
       "      <td>1.403531</td>\n",
       "      <td>0.008907</td>\n",
       "      <td>0.707628</td>\n",
       "      <td>0.756208</td>\n",
       "    </tr>\n",
       "    <tr>\n",
       "      <th>15</th>\n",
       "      <td>2011-07-01 00:00:00-2018-01-01 00:00:00</td>\n",
       "      <td>7.112975</td>\n",
       "      <td>7.719021</td>\n",
       "      <td>5.740278</td>\n",
       "      <td>7.803025</td>\n",
       "      <td>7.132374</td>\n",
       "      <td>4.098696</td>\n",
       "      <td>11.560913</td>\n",
       "    </tr>\n",
       "    <tr>\n",
       "      <th>16</th>\n",
       "      <td>2011-07-01 00:00:00-2018-04-01 00:00:00</td>\n",
       "      <td>1.332761</td>\n",
       "      <td>1.763089</td>\n",
       "      <td>1.575440</td>\n",
       "      <td>1.299397</td>\n",
       "      <td>1.279396</td>\n",
       "      <td>1.551539</td>\n",
       "      <td>2.508367</td>\n",
       "    </tr>\n",
       "    <tr>\n",
       "      <th>17</th>\n",
       "      <td>2011-07-01 00:00:00-2018-07-01 00:00:00</td>\n",
       "      <td>1.473687</td>\n",
       "      <td>2.117890</td>\n",
       "      <td>1.108724</td>\n",
       "      <td>1.226557</td>\n",
       "      <td>1.934212</td>\n",
       "      <td>2.114184</td>\n",
       "      <td>1.240517</td>\n",
       "    </tr>\n",
       "    <tr>\n",
       "      <th>18</th>\n",
       "      <td>2011-07-01 00:00:00-2018-10-01 00:00:00</td>\n",
       "      <td>10.161229</td>\n",
       "      <td>9.855138</td>\n",
       "      <td>10.268713</td>\n",
       "      <td>12.868370</td>\n",
       "      <td>9.431349</td>\n",
       "      <td>8.903986</td>\n",
       "      <td>4.401520</td>\n",
       "    </tr>\n",
       "    <tr>\n",
       "      <th>19</th>\n",
       "      <td>2011-07-01 00:00:00-2019-01-01 00:00:00</td>\n",
       "      <td>0.355348</td>\n",
       "      <td>0.341239</td>\n",
       "      <td>3.447411</td>\n",
       "      <td>1.074251</td>\n",
       "      <td>1.550858</td>\n",
       "      <td>3.550230</td>\n",
       "      <td>3.484039</td>\n",
       "    </tr>\n",
       "    <tr>\n",
       "      <th>20</th>\n",
       "      <td>2011-07-01 00:00:00-2019-04-01 00:00:00</td>\n",
       "      <td>8.910538</td>\n",
       "      <td>9.475975</td>\n",
       "      <td>9.527495</td>\n",
       "      <td>10.549354</td>\n",
       "      <td>9.568465</td>\n",
       "      <td>8.919396</td>\n",
       "      <td>8.183096</td>\n",
       "    </tr>\n",
       "    <tr>\n",
       "      <th>21</th>\n",
       "      <td>2011-07-01 00:00:00-2019-07-01 00:00:00</td>\n",
       "      <td>10.394068</td>\n",
       "      <td>9.283843</td>\n",
       "      <td>8.164161</td>\n",
       "      <td>9.728055</td>\n",
       "      <td>8.010207</td>\n",
       "      <td>7.773629</td>\n",
       "      <td>7.927940</td>\n",
       "    </tr>\n",
       "    <tr>\n",
       "      <th>22</th>\n",
       "      <td>2011-07-01 00:00:00-2019-10-01 00:00:00</td>\n",
       "      <td>3.230225</td>\n",
       "      <td>3.627863</td>\n",
       "      <td>1.347045</td>\n",
       "      <td>1.520380</td>\n",
       "      <td>2.350995</td>\n",
       "      <td>1.699984</td>\n",
       "      <td>0.478031</td>\n",
       "    </tr>\n",
       "  </tbody>\n",
       "</table>\n",
       "</div>"
      ],
      "text/plain": [
       "                             period_of_pred  XGBRegressor  \\\n",
       "0   2011-07-01 00:00:00-2014-04-01 00:00:00      0.641632   \n",
       "1   2011-07-01 00:00:00-2014-07-01 00:00:00      0.881337   \n",
       "2   2011-07-01 00:00:00-2014-10-01 00:00:00      2.578035   \n",
       "3   2011-07-01 00:00:00-2015-01-01 00:00:00     11.240587   \n",
       "4   2011-07-01 00:00:00-2015-04-01 00:00:00      4.061418   \n",
       "5   2011-07-01 00:00:00-2015-07-01 00:00:00      7.546956   \n",
       "6   2011-07-01 00:00:00-2015-10-01 00:00:00      4.072002   \n",
       "7   2011-07-01 00:00:00-2016-01-01 00:00:00      3.892673   \n",
       "8   2011-07-01 00:00:00-2016-04-01 00:00:00     11.898706   \n",
       "9   2011-07-01 00:00:00-2016-07-01 00:00:00      5.179705   \n",
       "10  2011-07-01 00:00:00-2016-10-01 00:00:00     10.442776   \n",
       "11  2011-07-01 00:00:00-2017-01-01 00:00:00      0.174951   \n",
       "12  2011-07-01 00:00:00-2017-04-01 00:00:00      7.931498   \n",
       "13  2011-07-01 00:00:00-2017-07-01 00:00:00      2.170066   \n",
       "14  2011-07-01 00:00:00-2017-10-01 00:00:00      0.100184   \n",
       "15  2011-07-01 00:00:00-2018-01-01 00:00:00      7.112975   \n",
       "16  2011-07-01 00:00:00-2018-04-01 00:00:00      1.332761   \n",
       "17  2011-07-01 00:00:00-2018-07-01 00:00:00      1.473687   \n",
       "18  2011-07-01 00:00:00-2018-10-01 00:00:00     10.161229   \n",
       "19  2011-07-01 00:00:00-2019-01-01 00:00:00      0.355348   \n",
       "20  2011-07-01 00:00:00-2019-04-01 00:00:00      8.910538   \n",
       "21  2011-07-01 00:00:00-2019-07-01 00:00:00     10.394068   \n",
       "22  2011-07-01 00:00:00-2019-10-01 00:00:00      3.230225   \n",
       "\n",
       "    GradientBoostingRegressor  RandomForestRegressor  AdaBoostRegressor  \\\n",
       "0                    0.866342               1.581619           0.458023   \n",
       "1                    1.938027               0.022228           0.745470   \n",
       "2                    2.262572               2.231461           2.917523   \n",
       "3                   10.795571               8.352277           7.055405   \n",
       "4                    4.102176               1.991562           1.657967   \n",
       "5                    6.284268               7.888881           7.534442   \n",
       "6                    2.300111               0.522154           0.446876   \n",
       "7                    1.385207               3.841077           1.312974   \n",
       "8                   11.984735              10.322372          11.789483   \n",
       "9                    4.270438               1.296215           0.634331   \n",
       "10                   7.563225               7.177971           7.187213   \n",
       "11                   0.291803               1.233642           2.219655   \n",
       "12                   9.301618               5.104699           7.027491   \n",
       "13                   2.919733               0.830486           0.138618   \n",
       "14                   0.200862               0.582759           1.403531   \n",
       "15                   7.719021               5.740278           7.803025   \n",
       "16                   1.763089               1.575440           1.299397   \n",
       "17                   2.117890               1.108724           1.226557   \n",
       "18                   9.855138              10.268713          12.868370   \n",
       "19                   0.341239               3.447411           1.074251   \n",
       "20                   9.475975               9.527495          10.549354   \n",
       "21                   9.283843               8.164161           9.728055   \n",
       "22                   3.627863               1.347045           1.520380   \n",
       "\n",
       "    <catboost.core.CatBoostRegressor object at 0x000001CE74F33860>  \\\n",
       "0                                            2.152562                \n",
       "1                                            0.523668                \n",
       "2                                            1.310190                \n",
       "3                                            7.509481                \n",
       "4                                            0.850460                \n",
       "5                                            6.871115                \n",
       "6                                            1.412469                \n",
       "7                                            3.965864                \n",
       "8                                            8.807251                \n",
       "9                                            1.213991                \n",
       "10                                           7.305362                \n",
       "11                                           0.655314                \n",
       "12                                           7.120158                \n",
       "13                                           0.800317                \n",
       "14                                           0.008907                \n",
       "15                                           7.132374                \n",
       "16                                           1.279396                \n",
       "17                                           1.934212                \n",
       "18                                           9.431349                \n",
       "19                                           1.550858                \n",
       "20                                           9.568465                \n",
       "21                                           8.010207                \n",
       "22                                           2.350995                \n",
       "\n",
       "    LGBMRegressor  SGDRegressor  \n",
       "0        5.060327      1.231843  \n",
       "1        1.902014      2.031709  \n",
       "2        0.149173      1.773536  \n",
       "3        7.193439      8.186316  \n",
       "4        0.143081      6.640069  \n",
       "5        7.610583      1.828874  \n",
       "6        1.246835      7.433010  \n",
       "7        6.788208      2.638721  \n",
       "8        6.701525      9.287234  \n",
       "9        0.208197      5.088321  \n",
       "10       6.532839     13.503457  \n",
       "11       3.589169      8.289678  \n",
       "12       4.268085      2.092422  \n",
       "13       0.334826      0.621714  \n",
       "14       0.707628      0.756208  \n",
       "15       4.098696     11.560913  \n",
       "16       1.551539      2.508367  \n",
       "17       2.114184      1.240517  \n",
       "18       8.903986      4.401520  \n",
       "19       3.550230      3.484039  \n",
       "20       8.919396      8.183096  \n",
       "21       7.773629      7.927940  \n",
       "22       1.699984      0.478031  "
      ]
     },
     "execution_count": 19,
     "metadata": {},
     "output_type": "execute_result"
    }
   ],
   "source": [
    "results_summary = pd.DataFrame(results,columns = names)\n",
    "results_summary.insert(0,\"period_of_pred\",date_of_pred)\n",
    "results_summary"
   ]
  },
  {
   "cell_type": "code",
   "execution_count": 20,
   "metadata": {
    "ExecuteTime": {
     "end_time": "2020-04-06T13:12:34.059089Z",
     "start_time": "2020-04-06T13:12:34.043143Z"
    }
   },
   "outputs": [
    {
     "data": {
      "text/plain": [
       "XGBRegressor                                                      5.034059\n",
       "GradientBoostingRegressor                                         4.810902\n",
       "RandomForestRegressor                                             4.093855\n",
       "AdaBoostRegressor                                                 4.286887\n",
       "<catboost.core.CatBoostRegressor object at 0x000001CE74F33860>    3.989781\n",
       "LGBMRegressor                                                     3.958590\n",
       "SGDRegressor                                                      4.834241\n",
       "dtype: float64"
      ]
     },
     "execution_count": 20,
     "metadata": {},
     "output_type": "execute_result"
    }
   ],
   "source": [
    "results_summary.mean()"
   ]
  },
  {
   "cell_type": "code",
   "execution_count": null,
   "metadata": {},
   "outputs": [],
   "source": []
  }
 ],
 "metadata": {
  "kernelspec": {
   "display_name": "Python 3",
   "language": "python",
   "name": "python3"
  },
  "language_info": {
   "codemirror_mode": {
    "name": "ipython",
    "version": 3
   },
   "file_extension": ".py",
   "mimetype": "text/x-python",
   "name": "python",
   "nbconvert_exporter": "python",
   "pygments_lexer": "ipython3",
   "version": "3.7.3"
  },
  "latex_envs": {
   "LaTeX_envs_menu_present": true,
   "autoclose": false,
   "autocomplete": true,
   "bibliofile": "biblio.bib",
   "cite_by": "apalike",
   "current_citInitial": 1,
   "eqLabelWithNumbers": true,
   "eqNumInitial": 1,
   "hotkeys": {
    "equation": "Ctrl-E",
    "itemize": "Ctrl-I"
   },
   "labels_anchors": false,
   "latex_user_defs": false,
   "report_style_numbering": false,
   "user_envs_cfg": false
  }
 },
 "nbformat": 4,
 "nbformat_minor": 2
}
